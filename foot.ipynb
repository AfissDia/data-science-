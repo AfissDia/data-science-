{
 "cells": [
  {
   "cell_type": "code",
   "execution_count": 2,
   "id": "27f9f3f7",
   "metadata": {
    "scrolled": true
   },
   "outputs": [
    {
     "name": "stdout",
     "output_type": "stream",
     "text": [
      "Collecting webdriver_manager\n",
      "  Downloading webdriver_manager-4.0.0-py2.py3-none-any.whl (27 kB)\n",
      "Requirement already satisfied: packaging in c:\\users\\dell\\anaconda3\\lib\\site-packages (from webdriver_manager) (21.0)\n",
      "Requirement already satisfied: requests in c:\\users\\dell\\anaconda3\\lib\\site-packages (from webdriver_manager) (2.26.0)\n",
      "Collecting python-dotenv\n",
      "  Downloading python_dotenv-1.0.0-py3-none-any.whl (19 kB)\n",
      "Requirement already satisfied: pyparsing>=2.0.2 in c:\\users\\dell\\anaconda3\\lib\\site-packages (from packaging->webdriver_manager) (3.0.4)\n",
      "Requirement already satisfied: urllib3<1.27,>=1.21.1 in c:\\users\\dell\\anaconda3\\lib\\site-packages (from requests->webdriver_manager) (1.26.7)\n",
      "Requirement already satisfied: idna<4,>=2.5 in c:\\users\\dell\\anaconda3\\lib\\site-packages (from requests->webdriver_manager) (3.2)\n",
      "Requirement already satisfied: certifi>=2017.4.17 in c:\\users\\dell\\anaconda3\\lib\\site-packages (from requests->webdriver_manager) (2021.10.8)\n",
      "Requirement already satisfied: charset-normalizer~=2.0.0 in c:\\users\\dell\\anaconda3\\lib\\site-packages (from requests->webdriver_manager) (2.0.4)\n",
      "Installing collected packages: python-dotenv, webdriver-manager\n",
      "Successfully installed python-dotenv-1.0.0 webdriver-manager-4.0.0\n"
     ]
    }
   ],
   "source": [
    "!pip install webdriver_manager"
   ]
  },
  {
   "cell_type": "code",
   "execution_count": 1,
   "id": "70f69920",
   "metadata": {},
   "outputs": [],
   "source": [
    "from selenium import webdriver\n",
    "from selenium.webdriver.chrome.service import Service as chromeService\n",
    "from webdriver_manager.chrome import ChromeDriverManager"
   ]
  },
  {
   "cell_type": "code",
   "execution_count": 2,
   "id": "9739f9b0",
   "metadata": {},
   "outputs": [],
   "source": [
    "driver = webdriver.Chrome(service=chromeService(ChromeDriverManager().install()))"
   ]
  },
  {
   "cell_type": "code",
   "execution_count": null,
   "id": "c16e31b4",
   "metadata": {},
   "outputs": [],
   "source": []
  },
  {
   "cell_type": "code",
   "execution_count": 3,
   "id": "04a69532",
   "metadata": {},
   "outputs": [],
   "source": [
    "url = 'https://www.premierleague.com/stats/top/players/goals'\n",
    "driver.get(url)"
   ]
  },
  {
   "cell_type": "code",
   "execution_count": 4,
   "id": "6d762428",
   "metadata": {},
   "outputs": [],
   "source": [
    "from bs4 import BeautifulSoup"
   ]
  },
  {
   "cell_type": "code",
   "execution_count": 24,
   "id": "0eaaca25",
   "metadata": {},
   "outputs": [],
   "source": [
    "soup = BeautifulSoup(driver.page_source,\"html.parser\")"
   ]
  },
  {
   "cell_type": "code",
   "execution_count": 25,
   "id": "ff17bb39",
   "metadata": {},
   "outputs": [
    {
     "data": {
      "text/plain": [
       "[<tr>\n",
       " <th class=\"stats-table__header-rank\" scope=\"col\">Rank</th>\n",
       " <th scope=\"col\">Player</th>\n",
       " <th class=\"hide-s\" scope=\"col\">Club</th>\n",
       " <th class=\"hide-s\" scope=\"col\">Nationality</th>\n",
       " <th scope=\"col\">Stat</th>\n",
       " <th class=\"table__order\">\n",
       " <span class=\"table__reorder-stats-button js-reorder-stats-button\">\n",
       " <span class=\"icn sort\"></span>\n",
       " </span>\n",
       " </th>\n",
       " </tr>,\n",
       " <tr class=\"table__row\"> <td class=\"stats-table__rank\">1.</td> <td class=\"stats-table__player\"> <a class=\"playerName\" href=\"//www.premierleague.com/players/3960/player/overview\">  Harry Kane</a> </td> <td class=\"hide-s\">   -  </td> <td class=\"hide-s\"> <div class=\"stats-table__cell-icon-align\"> <img class=\"stats-table__flag-icon\" src=\"https://resources.premierleague.com/premierleague/flags/GB-ENG.png\"/> <span class=\"playerCountry\">England</span> </div> </td> <td class=\"stats-table__main-stat\">23</td> <td> </td> </tr>,\n",
       " <tr class=\"table__row\"> <td class=\"stats-table__rank\">2.</td> <td class=\"stats-table__player\"> <a class=\"playerName\" href=\"//www.premierleague.com/players/5178/player/overview\">  Mohamed Salah</a> </td> <td class=\"hide-s\"> <a class=\"stats-table__cell-icon-align\" href=\"//www.premierleague.com/clubs/10/Liverpool/overview\"> <span class=\"badge badge-image-container\" data-size=\"25\" data-widget=\"club-badge-image\"> <img class=\"badge-image badge-image--25 js-badge-image\" src=\"https://resources.premierleague.com/premierleague/badges/rb/t14.svg\" srcset=\"https://resources.premierleague.com/premierleague/badges/rb/t14.svg, https://resources.premierleague.com/premierleague/badges/rb/t14.svg 2x\"/> </span>Liverpool </a> </td> <td class=\"hide-s\"> <div class=\"stats-table__cell-icon-align\"> <img class=\"stats-table__flag-icon\" src=\"https://resources.premierleague.com/premierleague/flags/EG.png\"/> <span class=\"playerCountry\">Egypt</span> </div> </td> <td class=\"stats-table__main-stat\">22</td> <td> </td> </tr>,\n",
       " <tr class=\"table__row\"> <td class=\"stats-table__rank\">3.</td> <td class=\"stats-table__player\"> <a class=\"playerName\" href=\"//www.premierleague.com/players/23396/player/overview\">  Bruno Fernandes</a> </td> <td class=\"hide-s\"> <a class=\"stats-table__cell-icon-align\" href=\"//www.premierleague.com/clubs/12/Manchester-United/overview\"> <span class=\"badge badge-image-container\" data-size=\"25\" data-widget=\"club-badge-image\"> <img class=\"badge-image badge-image--25 js-badge-image\" src=\"https://resources.premierleague.com/premierleague/badges/rb/t1.png\" srcset=\"https://resources.premierleague.com/premierleague/badges/rb/t1.png, https://resources.premierleague.com/premierleague/badges/rb/t1.png 2x\"/> </span>Manchester United </a> </td> <td class=\"hide-s\"> <div class=\"stats-table__cell-icon-align\"> <img class=\"stats-table__flag-icon\" src=\"https://resources.premierleague.com/premierleague/flags/PT.png\"/> <span class=\"playerCountry\">Portugal</span> </div> </td> <td class=\"stats-table__main-stat\">18</td> <td> </td> </tr>,\n",
       " <tr class=\"table__row\"> <td class=\"stats-table__rank\">4.</td> <td class=\"stats-table__player\"> <a class=\"playerName\" href=\"//www.premierleague.com/players/4291/player/overview\">  Patrick Bamford</a> </td> <td class=\"hide-s\"> <a class=\"stats-table__cell-icon-align\" href=\"//www.premierleague.com/clubs/9/Leeds-United/overview\"> <span class=\"badge badge-image-container\" data-size=\"25\" data-widget=\"club-badge-image\"> <img class=\"badge-image badge-image--25 js-badge-image\" src=\"https://resources.premierleague.com/premierleague/badges/rb/t2.svg\" srcset=\"https://resources.premierleague.com/premierleague/badges/rb/t2.svg, https://resources.premierleague.com/premierleague/badges/rb/t2.svg 2x\"/> </span>Leeds United </a> </td> <td class=\"hide-s\"> <div class=\"stats-table__cell-icon-align\"> <img class=\"stats-table__flag-icon\" src=\"https://resources.premierleague.com/premierleague/flags/GB-ENG.png\"/> <span class=\"playerCountry\">England</span> </div> </td> <td class=\"stats-table__main-stat\">17</td> <td> </td> </tr>,\n",
       " <tr class=\"table__row\"> <td class=\"stats-table__rank\">4.</td> <td class=\"stats-table__player\"> <a class=\"playerName\" href=\"//www.premierleague.com/players/4999/player/overview\">  Son Heung-Min</a> </td> <td class=\"hide-s\"> <a class=\"stats-table__cell-icon-align\" href=\"//www.premierleague.com/clubs/21/Tottenham-Hotspur/overview\"> <span class=\"badge badge-image-container\" data-size=\"25\" data-widget=\"club-badge-image\"> <img class=\"badge-image badge-image--25 js-badge-image\" src=\"https://resources.premierleague.com/premierleague/badges/rb/t6.svg\" srcset=\"https://resources.premierleague.com/premierleague/badges/rb/t6.svg, https://resources.premierleague.com/premierleague/badges/rb/t6.svg 2x\"/> </span>Tottenham Hotspur </a> </td> <td class=\"hide-s\"> <div class=\"stats-table__cell-icon-align\"> <img class=\"stats-table__flag-icon\" src=\"https://resources.premierleague.com/premierleague/flags/KR.png\"/> <span class=\"playerCountry\">South Korea</span> </div> </td> <td class=\"stats-table__main-stat\">17</td> <td> </td> </tr>,\n",
       " <tr class=\"table__row\"> <td class=\"stats-table__rank\">6.</td> <td class=\"stats-table__player\"> <a class=\"playerName\" href=\"//www.premierleague.com/players/9576/player/overview\">  Dominic Calvert-Lewin</a> </td> <td class=\"hide-s\"> <a class=\"stats-table__cell-icon-align\" href=\"//www.premierleague.com/clubs/7/Everton/overview\"> <span class=\"badge badge-image-container\" data-size=\"25\" data-widget=\"club-badge-image\"> <img class=\"badge-image badge-image--25 js-badge-image\" src=\"https://resources.premierleague.com/premierleague/badges/rb/t11.svg\" srcset=\"https://resources.premierleague.com/premierleague/badges/rb/t11.svg, https://resources.premierleague.com/premierleague/badges/rb/t11.svg 2x\"/> </span>Everton </a> </td> <td class=\"hide-s\"> <div class=\"stats-table__cell-icon-align\"> <img class=\"stats-table__flag-icon\" src=\"https://resources.premierleague.com/premierleague/flags/GB-ENG.png\"/> <span class=\"playerCountry\">England</span> </div> </td> <td class=\"stats-table__main-stat\">16</td> <td> </td> </tr>,\n",
       " <tr class=\"table__row\"> <td class=\"stats-table__rank\">7.</td> <td class=\"stats-table__player\"> <a class=\"playerName\" href=\"//www.premierleague.com/players/8979/player/overview\">  Jamie Vardy</a> </td> <td class=\"hide-s\"> <a class=\"stats-table__cell-icon-align\" href=\"//www.premierleague.com/clubs/26/Leicester-City/overview\"> <span class=\"badge badge-image-container\" data-size=\"25\" data-widget=\"club-badge-image\"> <img class=\"badge-image badge-image--25 js-badge-image\" src=\"https://resources.premierleague.com/premierleague/badges/rb/t13.svg\" srcset=\"https://resources.premierleague.com/premierleague/badges/rb/t13.svg, https://resources.premierleague.com/premierleague/badges/rb/t13.svg 2x\"/> </span>Leicester City </a> </td> <td class=\"hide-s\"> <div class=\"stats-table__cell-icon-align\"> <img class=\"stats-table__flag-icon\" src=\"https://resources.premierleague.com/premierleague/flags/GB-ENG.png\"/> <span class=\"playerCountry\">England</span> </div> </td> <td class=\"stats-table__main-stat\">15</td> <td> </td> </tr>,\n",
       " <tr class=\"table__row\"> <td class=\"stats-table__rank\">8.</td> <td class=\"stats-table__player\"> <a class=\"playerName\" href=\"//www.premierleague.com/players/8658/player/overview\">  Ollie Watkins</a> </td> <td class=\"hide-s\"> <a class=\"stats-table__cell-icon-align\" href=\"//www.premierleague.com/clubs/2/Aston-Villa/overview\"> <span class=\"badge badge-image-container\" data-size=\"25\" data-widget=\"club-badge-image\"> <img class=\"badge-image badge-image--25 js-badge-image\" src=\"https://resources.premierleague.com/premierleague/badges/rb/t7.svg\" srcset=\"https://resources.premierleague.com/premierleague/badges/rb/t7.svg, https://resources.premierleague.com/premierleague/badges/rb/t7.svg 2x\"/> </span>Aston Villa </a> </td> <td class=\"hide-s\"> <div class=\"stats-table__cell-icon-align\"> <img class=\"stats-table__flag-icon\" src=\"https://resources.premierleague.com/premierleague/flags/GB-ENG.png\"/> <span class=\"playerCountry\">England</span> </div> </td> <td class=\"stats-table__main-stat\">14</td> <td> </td> </tr>,\n",
       " <tr class=\"table__row\"> <td class=\"stats-table__rank\">9.</td> <td class=\"stats-table__player\"> <a class=\"playerName\" href=\"//www.premierleague.com/players/5101/player/overview\">  Ilkay Gündogan</a> </td> <td class=\"hide-s\">   -  </td> <td class=\"hide-s\"> <div class=\"stats-table__cell-icon-align\"> <img class=\"stats-table__flag-icon\" src=\"https://resources.premierleague.com/premierleague/flags/DE.png\"/> <span class=\"playerCountry\">Germany</span> </div> </td> <td class=\"stats-table__main-stat\">13</td> <td> </td> </tr>,\n",
       " <tr class=\"table__row\"> <td class=\"stats-table__rank\">9.</td> <td class=\"stats-table__player\"> <a class=\"playerName\" href=\"//www.premierleague.com/players/6899/player/overview\">  Alexandre Lacazette</a> </td> <td class=\"hide-s\">   -  </td> <td class=\"hide-s\"> <div class=\"stats-table__cell-icon-align\"> <img class=\"stats-table__flag-icon\" src=\"https://resources.premierleague.com/premierleague/flags/FR.png\"/> <span class=\"playerCountry\">France</span> </div> </td> <td class=\"stats-table__main-stat\">13</td> <td> </td> </tr>]"
      ]
     },
     "execution_count": 25,
     "metadata": {},
     "output_type": "execute_result"
    }
   ],
   "source": [
    "tables = soup.find_all(\"tr\")\n",
    "tables"
   ]
  },
  {
   "cell_type": "code",
   "execution_count": 49,
   "id": "7acf1823",
   "metadata": {},
   "outputs": [
    {
     "name": "stdout",
     "output_type": "stream",
     "text": [
      "Rank\n",
      "****\n",
      "Player\n",
      "****\n",
      "Club\n",
      "****\n",
      "Nationality\n",
      "****\n",
      "Stat\n",
      "****\n",
      "\n",
      "\n",
      "\n",
      "\n",
      "\n",
      "****\n"
     ]
    }
   ],
   "source": [
    "tables[0]\n",
    "for header in tables[0].findAll(\"th\"):\n",
    "    print (header.text)\n",
    "    print(\"****\")"
   ]
  },
  {
   "cell_type": "code",
   "execution_count": null,
   "id": "8047c978",
   "metadata": {},
   "outputs": [],
   "source": [
    "tables"
   ]
  },
  {
   "cell_type": "code",
   "execution_count": 56,
   "id": "b91eed6c",
   "metadata": {},
   "outputs": [
    {
     "data": {
      "text/plain": [
       "['Rank', 'Player', 'Club', 'Nationality', 'Stat', '\\n\\n\\n\\n']"
      ]
     },
     "execution_count": 56,
     "metadata": {},
     "output_type": "execute_result"
    }
   ],
   "source": [
    "columns=[]\n",
    "for header in tables[0].findAll(\"th\"):\n",
    "    columns.append(header.text)\n",
    "columns"
   ]
  },
  {
   "cell_type": "code",
   "execution_count": 57,
   "id": "7acad741",
   "metadata": {},
   "outputs": [],
   "source": [
    "del(columns[-1])"
   ]
  },
  {
   "cell_type": "code",
   "execution_count": 58,
   "id": "3ea03ad2",
   "metadata": {},
   "outputs": [
    {
     "data": {
      "text/plain": [
       "['Rank', 'Player', 'Club', 'Nationality', 'Stat']"
      ]
     },
     "execution_count": 58,
     "metadata": {},
     "output_type": "execute_result"
    }
   ],
   "source": [
    "columns"
   ]
  },
  {
   "cell_type": "code",
   "execution_count": null,
   "id": "68ffea6e",
   "metadata": {},
   "outputs": [],
   "source": []
  },
  {
   "cell_type": "code",
   "execution_count": null,
   "id": "834c91d2",
   "metadata": {},
   "outputs": [],
   "source": []
  },
  {
   "cell_type": "code",
   "execution_count": 59,
   "id": "b5f74e43",
   "metadata": {},
   "outputs": [],
   "source": [
    "harry = tables[2].findAll(\"td\")\n",
    "rank = harry[0].text"
   ]
  },
  {
   "cell_type": "code",
   "execution_count": 60,
   "id": "c731aa14",
   "metadata": {},
   "outputs": [
    {
     "data": {
      "text/plain": [
       "'2.'"
      ]
     },
     "execution_count": 60,
     "metadata": {},
     "output_type": "execute_result"
    }
   ],
   "source": [
    "rank"
   ]
  },
  {
   "cell_type": "code",
   "execution_count": 61,
   "id": "97ef77bd",
   "metadata": {},
   "outputs": [],
   "source": [
    "nom = harry[1].text\n",
    "club = harry[2].text\n",
    "nat = harry[3].text\n",
    "nbr_but = harry[4].text"
   ]
  },
  {
   "cell_type": "code",
   "execution_count": 62,
   "id": "4337fef0",
   "metadata": {},
   "outputs": [
    {
     "data": {
      "text/plain": [
       "['2.', 'Mohamed Salah', 'Liverpool', 'Egypt', '22']"
      ]
     },
     "execution_count": 62,
     "metadata": {},
     "output_type": "execute_result"
    }
   ],
   "source": [
    "values = [rank.strip(),nom.strip(),club.strip(),nat.strip(),nbr_but.strip()]\n",
    "values"
   ]
  },
  {
   "cell_type": "code",
   "execution_count": null,
   "id": "22cc5c05",
   "metadata": {},
   "outputs": [],
   "source": []
  },
  {
   "cell_type": "code",
   "execution_count": 34,
   "id": "305b95e6",
   "metadata": {},
   "outputs": [],
   "source": [
    "import pandas as pd"
   ]
  },
  {
   "cell_type": "code",
   "execution_count": 35,
   "id": "6ddee3e9",
   "metadata": {},
   "outputs": [
    {
     "data": {
      "text/html": [
       "<div>\n",
       "<style scoped>\n",
       "    .dataframe tbody tr th:only-of-type {\n",
       "        vertical-align: middle;\n",
       "    }\n",
       "\n",
       "    .dataframe tbody tr th {\n",
       "        vertical-align: top;\n",
       "    }\n",
       "\n",
       "    .dataframe thead th {\n",
       "        text-align: right;\n",
       "    }\n",
       "</style>\n",
       "<table border=\"1\" class=\"dataframe\">\n",
       "  <thead>\n",
       "    <tr style=\"text-align: right;\">\n",
       "      <th></th>\n",
       "      <th>Rank</th>\n",
       "      <th>Player</th>\n",
       "      <th>Club</th>\n",
       "      <th>Nationality</th>\n",
       "      <th>Stat</th>\n",
       "    </tr>\n",
       "  </thead>\n",
       "  <tbody>\n",
       "    <tr>\n",
       "      <th>0</th>\n",
       "      <td>1.</td>\n",
       "      <td>Harry Kane</td>\n",
       "      <td>-</td>\n",
       "      <td>England</td>\n",
       "      <td>23</td>\n",
       "    </tr>\n",
       "  </tbody>\n",
       "</table>\n",
       "</div>"
      ],
      "text/plain": [
       "  Rank      Player Club Nationality Stat\n",
       "0   1.  Harry Kane    -     England   23"
      ]
     },
     "execution_count": 35,
     "metadata": {},
     "output_type": "execute_result"
    }
   ],
   "source": [
    "df = pd.DataFrame([values])\n",
    "df.columns = columns\n",
    "df"
   ]
  },
  {
   "cell_type": "code",
   "execution_count": null,
   "id": "1c77737b",
   "metadata": {},
   "outputs": [],
   "source": []
  },
  {
   "cell_type": "code",
   "execution_count": 36,
   "id": "35630811",
   "metadata": {},
   "outputs": [
    {
     "data": {
      "text/plain": [
       "11"
      ]
     },
     "execution_count": 36,
     "metadata": {},
     "output_type": "execute_result"
    }
   ],
   "source": [
    "len(tables)"
   ]
  },
  {
   "cell_type": "code",
   "execution_count": null,
   "id": "34262747",
   "metadata": {},
   "outputs": [],
   "source": [
    "jrs = [] \n",
    "for i in range(len(tables)):\n",
    "    if (i==0):\n",
    "        continue\n",
    "    for header in tables[i].findAll(\"td\"):\n",
    "        jrs.append(header.text)\n",
    "jrs"
   ]
  },
  {
   "cell_type": "code",
   "execution_count": 54,
   "id": "5542f8b2",
   "metadata": {},
   "outputs": [
    {
     "name": "stdout",
     "output_type": "stream",
     "text": [
      "   Harry Kane \n",
      "   Mohamed Salah \n",
      "   Bruno Fernandes \n",
      "   Patrick Bamford \n",
      "   Son Heung-Min \n",
      "   Dominic Calvert-Lewin \n",
      "   Jamie Vardy \n",
      "   Ollie Watkins \n",
      "   Ilkay Gündogan \n",
      "   Alexandre Lacazette \n"
     ]
    }
   ],
   "source": [
    "jrs = [] \n",
    "for i in range(len(tables)):\n",
    "    if (i==0):\n",
    "        continue\n",
    "    values = tables[i].findAll(\"td\")\n",
    "    print(values[1].text)"
   ]
  },
  {
   "cell_type": "code",
   "execution_count": 71,
   "id": "c9427dbd",
   "metadata": {},
   "outputs": [],
   "source": [
    "for i in range(len(tables)):\n",
    "    if (i==0):\n",
    "        continue\n",
    "    nom = values[1].text\n",
    "    club = values[2].text\n",
    "    nat = values[3].text\n",
    "    nbr_but = values[4].text "
   ]
  },
  {
   "cell_type": "code",
   "execution_count": null,
   "id": "4c9ac3c8",
   "metadata": {},
   "outputs": [],
   "source": []
  },
  {
   "cell_type": "code",
   "execution_count": null,
   "id": "d0f8b45d",
   "metadata": {},
   "outputs": [],
   "source": []
  },
  {
   "cell_type": "code",
   "execution_count": 75,
   "id": "6d38da75",
   "metadata": {},
   "outputs": [],
   "source": [
    "from selenium.webdriver.common.by import By\n",
    "from selenium.webdriver.support.ui import WebDriverWait\n",
    "from selenium.webdriver.support import expected_conditions as EC"
   ]
  },
  {
   "cell_type": "code",
   "execution_count": null,
   "id": "b817da7f",
   "metadata": {},
   "outputs": [],
   "source": []
  },
  {
   "cell_type": "code",
   "execution_count": 74,
   "id": "b390f111",
   "metadata": {},
   "outputs": [
    {
     "ename": "IndexError",
     "evalue": "list index out of range",
     "output_type": "error",
     "traceback": [
      "\u001b[1;31m---------------------------------------------------------------------------\u001b[0m",
      "\u001b[1;31mIndexError\u001b[0m                                Traceback (most recent call last)",
      "\u001b[1;32m~\\AppData\\Local\\Temp/ipykernel_4100/3885601530.py\u001b[0m in \u001b[0;36m<module>\u001b[1;34m\u001b[0m\n\u001b[0;32m      8\u001b[0m     \u001b[1;32mfor\u001b[0m \u001b[0mi\u001b[0m \u001b[1;32min\u001b[0m \u001b[0mrange\u001b[0m\u001b[1;33m(\u001b[0m\u001b[0mlen\u001b[0m\u001b[1;33m(\u001b[0m\u001b[0mtables\u001b[0m\u001b[1;33m)\u001b[0m\u001b[1;33m)\u001b[0m\u001b[1;33m:\u001b[0m\u001b[1;33m\u001b[0m\u001b[1;33m\u001b[0m\u001b[0m\n\u001b[0;32m      9\u001b[0m         \u001b[0mvalues\u001b[0m \u001b[1;33m=\u001b[0m \u001b[0mtables\u001b[0m\u001b[1;33m[\u001b[0m\u001b[0mi\u001b[0m\u001b[1;33m]\u001b[0m\u001b[1;33m.\u001b[0m\u001b[0mfindAll\u001b[0m\u001b[1;33m(\u001b[0m\u001b[1;34m\"td\"\u001b[0m\u001b[1;33m)\u001b[0m\u001b[1;33m\u001b[0m\u001b[1;33m\u001b[0m\u001b[0m\n\u001b[1;32m---> 10\u001b[1;33m         \u001b[0mrank\u001b[0m\u001b[1;33m.\u001b[0m\u001b[0mappend\u001b[0m\u001b[1;33m(\u001b[0m\u001b[0mvalues\u001b[0m\u001b[1;33m[\u001b[0m\u001b[1;36m0\u001b[0m\u001b[1;33m]\u001b[0m\u001b[1;33m.\u001b[0m\u001b[0mtext\u001b[0m\u001b[1;33m.\u001b[0m\u001b[0mstrip\u001b[0m\u001b[1;33m(\u001b[0m\u001b[1;33m)\u001b[0m\u001b[1;33m)\u001b[0m\u001b[1;33m\u001b[0m\u001b[1;33m\u001b[0m\u001b[0m\n\u001b[0m\u001b[0;32m     11\u001b[0m         \u001b[0mplayer\u001b[0m\u001b[1;33m.\u001b[0m\u001b[0mappend\u001b[0m\u001b[1;33m(\u001b[0m\u001b[0mvalues\u001b[0m\u001b[1;33m[\u001b[0m\u001b[1;36m1\u001b[0m\u001b[1;33m]\u001b[0m\u001b[1;33m.\u001b[0m\u001b[0mtext\u001b[0m\u001b[1;33m.\u001b[0m\u001b[0mstrip\u001b[0m\u001b[1;33m(\u001b[0m\u001b[1;33m)\u001b[0m\u001b[1;33m)\u001b[0m\u001b[1;33m\u001b[0m\u001b[1;33m\u001b[0m\u001b[0m\n\u001b[0;32m     12\u001b[0m         \u001b[0mclub\u001b[0m\u001b[1;33m.\u001b[0m\u001b[0mappend\u001b[0m\u001b[1;33m(\u001b[0m\u001b[0mvalues\u001b[0m\u001b[1;33m[\u001b[0m\u001b[1;36m2\u001b[0m\u001b[1;33m]\u001b[0m\u001b[1;33m.\u001b[0m\u001b[0mtext\u001b[0m\u001b[1;33m.\u001b[0m\u001b[0mstrip\u001b[0m\u001b[1;33m(\u001b[0m\u001b[1;33m)\u001b[0m\u001b[1;33m)\u001b[0m\u001b[1;33m\u001b[0m\u001b[1;33m\u001b[0m\u001b[0m\n",
      "\u001b[1;31mIndexError\u001b[0m: list index out of range"
     ]
    }
   ],
   "source": [
    "rank=[]\n",
    "player=[]\n",
    "club=[]\n",
    "nationality=[]\n",
    "stat=[]\n",
    "\n",
    "while(True):\n",
    "    for i in range(len(tables)):\n",
    "        values = tables[i].findAll(\"td\")\n",
    "        rank.append(values[0].text.strip())\n",
    "        player.append(values[1].text.strip())\n",
    "        club.append(values[2].text.strip())\n",
    "        nationality.append(values[3].text.strip())\n",
    "        stat.append(values[4].text.strip())\n",
    "    suivant_button = WebDriverWait(driver, 10).until(EC.element_to_be_clickable((By.CSS_SELECTOR,\".paginationNexcontainer\")))\n",
    "    suivant_button.click\n",
    "    if \"inactive\" in suivant_button.get_attribute(\"class\"):\n",
    "        break"
   ]
  },
  {
   "cell_type": "code",
   "execution_count": 78,
   "id": "b4b77e8e",
   "metadata": {},
   "outputs": [
    {
     "ename": "NoSuchWindowException",
     "evalue": "Message: no such window: target window already closed\nfrom unknown error: web view not found\n  (Session info: chrome=116.0.5845.96)\nStacktrace:\n\tGetHandleVerifier [0x006337C3+48947]\n\t(No symbol) [0x005C8551]\n\t(No symbol) [0x004CC92D]\n\t(No symbol) [0x004B36E5]\n\t(No symbol) [0x00518CDB]\n\t(No symbol) [0x00527113]\n\t(No symbol) [0x00514E86]\n\t(No symbol) [0x004F16C7]\n\t(No symbol) [0x004F284D]\n\tGetHandleVerifier [0x0087FDF9+2458985]\n\tGetHandleVerifier [0x008C744F+2751423]\n\tGetHandleVerifier [0x008C1361+2726609]\n\tGetHandleVerifier [0x006B0680+560624]\n\t(No symbol) [0x005D238C]\n\t(No symbol) [0x005CE268]\n\t(No symbol) [0x005CE392]\n\t(No symbol) [0x005C10B7]\n\tBaseThreadInitThunk [0x779500C9+25]\n\tRtlGetAppContainerNamedObjectPath [0x77A97B1E+286]\n\tRtlGetAppContainerNamedObjectPath [0x77A97AEE+238]\n",
     "output_type": "error",
     "traceback": [
      "\u001b[1;31m---------------------------------------------------------------------------\u001b[0m",
      "\u001b[1;31mNoSuchWindowException\u001b[0m                     Traceback (most recent call last)",
      "\u001b[1;32m~\\AppData\\Local\\Temp/ipykernel_4100/3629513763.py\u001b[0m in \u001b[0;36m<module>\u001b[1;34m\u001b[0m\n\u001b[0;32m      6\u001b[0m \u001b[1;33m\u001b[0m\u001b[0m\n\u001b[0;32m      7\u001b[0m \u001b[1;32mwhile\u001b[0m \u001b[1;33m(\u001b[0m\u001b[1;32mTrue\u001b[0m\u001b[1;33m)\u001b[0m\u001b[1;33m:\u001b[0m\u001b[1;33m\u001b[0m\u001b[1;33m\u001b[0m\u001b[0m\n\u001b[1;32m----> 8\u001b[1;33m     \u001b[0msoup\u001b[0m \u001b[1;33m=\u001b[0m \u001b[0mBeautifulSoup\u001b[0m\u001b[1;33m(\u001b[0m\u001b[0mdriver\u001b[0m\u001b[1;33m.\u001b[0m\u001b[0mpage_source\u001b[0m\u001b[1;33m,\u001b[0m\u001b[1;34m'html.parser'\u001b[0m\u001b[1;33m)\u001b[0m\u001b[1;33m\u001b[0m\u001b[1;33m\u001b[0m\u001b[0m\n\u001b[0m\u001b[0;32m      9\u001b[0m     \u001b[0mtables\u001b[0m \u001b[1;33m=\u001b[0m \u001b[0msoup\u001b[0m\u001b[1;33m.\u001b[0m\u001b[0mfind_all\u001b[0m\u001b[1;33m(\u001b[0m\u001b[1;34m'tr'\u001b[0m\u001b[1;33m)\u001b[0m\u001b[1;33m\u001b[0m\u001b[1;33m\u001b[0m\u001b[0m\n\u001b[0;32m     10\u001b[0m     \u001b[1;32mfor\u001b[0m \u001b[0mi\u001b[0m \u001b[1;32min\u001b[0m \u001b[0mrange\u001b[0m\u001b[1;33m(\u001b[0m\u001b[1;36m1\u001b[0m\u001b[1;33m,\u001b[0m \u001b[0mlen\u001b[0m\u001b[1;33m(\u001b[0m\u001b[0mtables\u001b[0m\u001b[1;33m)\u001b[0m\u001b[1;33m)\u001b[0m\u001b[1;33m:\u001b[0m\u001b[1;33m\u001b[0m\u001b[1;33m\u001b[0m\u001b[0m\n",
      "\u001b[1;32m~\\anaconda3\\lib\\site-packages\\selenium\\webdriver\\remote\\webdriver.py\u001b[0m in \u001b[0;36mpage_source\u001b[1;34m(self)\u001b[0m\n\u001b[0;32m    444\u001b[0m                 \u001b[0mdriver\u001b[0m\u001b[1;33m.\u001b[0m\u001b[0mpage_source\u001b[0m\u001b[1;33m\u001b[0m\u001b[1;33m\u001b[0m\u001b[0m\n\u001b[0;32m    445\u001b[0m         \"\"\"\n\u001b[1;32m--> 446\u001b[1;33m         \u001b[1;32mreturn\u001b[0m \u001b[0mself\u001b[0m\u001b[1;33m.\u001b[0m\u001b[0mexecute\u001b[0m\u001b[1;33m(\u001b[0m\u001b[0mCommand\u001b[0m\u001b[1;33m.\u001b[0m\u001b[0mGET_PAGE_SOURCE\u001b[0m\u001b[1;33m)\u001b[0m\u001b[1;33m[\u001b[0m\u001b[1;34m\"value\"\u001b[0m\u001b[1;33m]\u001b[0m\u001b[1;33m\u001b[0m\u001b[1;33m\u001b[0m\u001b[0m\n\u001b[0m\u001b[0;32m    447\u001b[0m \u001b[1;33m\u001b[0m\u001b[0m\n\u001b[0;32m    448\u001b[0m     \u001b[1;32mdef\u001b[0m \u001b[0mclose\u001b[0m\u001b[1;33m(\u001b[0m\u001b[0mself\u001b[0m\u001b[1;33m)\u001b[0m \u001b[1;33m->\u001b[0m \u001b[1;32mNone\u001b[0m\u001b[1;33m:\u001b[0m\u001b[1;33m\u001b[0m\u001b[1;33m\u001b[0m\u001b[0m\n",
      "\u001b[1;32m~\\anaconda3\\lib\\site-packages\\selenium\\webdriver\\remote\\webdriver.py\u001b[0m in \u001b[0;36mexecute\u001b[1;34m(self, driver_command, params)\u001b[0m\n\u001b[0;32m    343\u001b[0m         \u001b[0mresponse\u001b[0m \u001b[1;33m=\u001b[0m \u001b[0mself\u001b[0m\u001b[1;33m.\u001b[0m\u001b[0mcommand_executor\u001b[0m\u001b[1;33m.\u001b[0m\u001b[0mexecute\u001b[0m\u001b[1;33m(\u001b[0m\u001b[0mdriver_command\u001b[0m\u001b[1;33m,\u001b[0m \u001b[0mparams\u001b[0m\u001b[1;33m)\u001b[0m\u001b[1;33m\u001b[0m\u001b[1;33m\u001b[0m\u001b[0m\n\u001b[0;32m    344\u001b[0m         \u001b[1;32mif\u001b[0m \u001b[0mresponse\u001b[0m\u001b[1;33m:\u001b[0m\u001b[1;33m\u001b[0m\u001b[1;33m\u001b[0m\u001b[0m\n\u001b[1;32m--> 345\u001b[1;33m             \u001b[0mself\u001b[0m\u001b[1;33m.\u001b[0m\u001b[0merror_handler\u001b[0m\u001b[1;33m.\u001b[0m\u001b[0mcheck_response\u001b[0m\u001b[1;33m(\u001b[0m\u001b[0mresponse\u001b[0m\u001b[1;33m)\u001b[0m\u001b[1;33m\u001b[0m\u001b[1;33m\u001b[0m\u001b[0m\n\u001b[0m\u001b[0;32m    346\u001b[0m             \u001b[0mresponse\u001b[0m\u001b[1;33m[\u001b[0m\u001b[1;34m\"value\"\u001b[0m\u001b[1;33m]\u001b[0m \u001b[1;33m=\u001b[0m \u001b[0mself\u001b[0m\u001b[1;33m.\u001b[0m\u001b[0m_unwrap_value\u001b[0m\u001b[1;33m(\u001b[0m\u001b[0mresponse\u001b[0m\u001b[1;33m.\u001b[0m\u001b[0mget\u001b[0m\u001b[1;33m(\u001b[0m\u001b[1;34m\"value\"\u001b[0m\u001b[1;33m,\u001b[0m \u001b[1;32mNone\u001b[0m\u001b[1;33m)\u001b[0m\u001b[1;33m)\u001b[0m\u001b[1;33m\u001b[0m\u001b[1;33m\u001b[0m\u001b[0m\n\u001b[0;32m    347\u001b[0m             \u001b[1;32mreturn\u001b[0m \u001b[0mresponse\u001b[0m\u001b[1;33m\u001b[0m\u001b[1;33m\u001b[0m\u001b[0m\n",
      "\u001b[1;32m~\\anaconda3\\lib\\site-packages\\selenium\\webdriver\\remote\\errorhandler.py\u001b[0m in \u001b[0;36mcheck_response\u001b[1;34m(self, response)\u001b[0m\n\u001b[0;32m    227\u001b[0m                 \u001b[0malert_text\u001b[0m \u001b[1;33m=\u001b[0m \u001b[0mvalue\u001b[0m\u001b[1;33m[\u001b[0m\u001b[1;34m\"alert\"\u001b[0m\u001b[1;33m]\u001b[0m\u001b[1;33m.\u001b[0m\u001b[0mget\u001b[0m\u001b[1;33m(\u001b[0m\u001b[1;34m\"text\"\u001b[0m\u001b[1;33m)\u001b[0m\u001b[1;33m\u001b[0m\u001b[1;33m\u001b[0m\u001b[0m\n\u001b[0;32m    228\u001b[0m             \u001b[1;32mraise\u001b[0m \u001b[0mexception_class\u001b[0m\u001b[1;33m(\u001b[0m\u001b[0mmessage\u001b[0m\u001b[1;33m,\u001b[0m \u001b[0mscreen\u001b[0m\u001b[1;33m,\u001b[0m \u001b[0mstacktrace\u001b[0m\u001b[1;33m,\u001b[0m \u001b[0malert_text\u001b[0m\u001b[1;33m)\u001b[0m  \u001b[1;31m# type: ignore[call-arg]  # mypy is not smart enough here\u001b[0m\u001b[1;33m\u001b[0m\u001b[1;33m\u001b[0m\u001b[0m\n\u001b[1;32m--> 229\u001b[1;33m         \u001b[1;32mraise\u001b[0m \u001b[0mexception_class\u001b[0m\u001b[1;33m(\u001b[0m\u001b[0mmessage\u001b[0m\u001b[1;33m,\u001b[0m \u001b[0mscreen\u001b[0m\u001b[1;33m,\u001b[0m \u001b[0mstacktrace\u001b[0m\u001b[1;33m)\u001b[0m\u001b[1;33m\u001b[0m\u001b[1;33m\u001b[0m\u001b[0m\n\u001b[0m",
      "\u001b[1;31mNoSuchWindowException\u001b[0m: Message: no such window: target window already closed\nfrom unknown error: web view not found\n  (Session info: chrome=116.0.5845.96)\nStacktrace:\n\tGetHandleVerifier [0x006337C3+48947]\n\t(No symbol) [0x005C8551]\n\t(No symbol) [0x004CC92D]\n\t(No symbol) [0x004B36E5]\n\t(No symbol) [0x00518CDB]\n\t(No symbol) [0x00527113]\n\t(No symbol) [0x00514E86]\n\t(No symbol) [0x004F16C7]\n\t(No symbol) [0x004F284D]\n\tGetHandleVerifier [0x0087FDF9+2458985]\n\tGetHandleVerifier [0x008C744F+2751423]\n\tGetHandleVerifier [0x008C1361+2726609]\n\tGetHandleVerifier [0x006B0680+560624]\n\t(No symbol) [0x005D238C]\n\t(No symbol) [0x005CE268]\n\t(No symbol) [0x005CE392]\n\t(No symbol) [0x005C10B7]\n\tBaseThreadInitThunk [0x779500C9+25]\n\tRtlGetAppContainerNamedObjectPath [0x77A97B1E+286]\n\tRtlGetAppContainerNamedObjectPath [0x77A97AEE+238]\n"
     ]
    }
   ],
   "source": [
    "rank = []\n",
    "player =[]\n",
    "club =[]\n",
    "nationality =[]\n",
    "stat =[]\n",
    "\n",
    "while (True):\n",
    "    soup = BeautifulSoup(driver.page_source,'html.parser')\n",
    "    tables = soup.find_all('tr')\n",
    "    for i in range(1, len(tables)):\n",
    "        values = tables[i].findAll(\"td\")\n",
    "        rank.append(values[0].text.strip())\n",
    "        player.append(values[1].text.strip())\n",
    "        club.append(values[2].text.strip())\n",
    "        nationality.append(values[3].text.strip())\n",
    "        stat.append(values[4].text.strip())\n",
    "    suivant_button = WebDriverWait(driver, 10).until(EC.element_to_be_clickable((By.CSS_SELECTOR, \".paginationNextContainer\")))\n",
    "    suivant_button.click()\n",
    "    if \"inactive\" in suivant_button.get_attribute(\"class\"):\n",
    "        break"
   ]
  },
  {
   "cell_type": "code",
   "execution_count": 41,
   "id": "3818f113",
   "metadata": {},
   "outputs": [
    {
     "name": "stdout",
     "output_type": "stream",
     "text": [
      "Rank\n",
      "****\n",
      "Player\n",
      "****\n",
      "Club\n",
      "****\n",
      "Nationality\n",
      "****\n",
      "Stat\n",
      "****\n",
      "\n",
      "\n",
      "\n",
      "\n",
      "\n",
      "****\n"
     ]
    }
   ],
   "source": [
    "tables[0]\n",
    "for header in tables[0].findAll(\"th\"):\n",
    "    print (header.text)\n",
    "    print(\"****\")"
   ]
  },
  {
   "cell_type": "code",
   "execution_count": 42,
   "id": "854c176a",
   "metadata": {},
   "outputs": [
    {
     "data": {
      "text/plain": [
       "['Rank', 'Player', 'Club', 'Nationality', 'Stat', '\\n\\n\\n\\n']"
      ]
     },
     "execution_count": 42,
     "metadata": {},
     "output_type": "execute_result"
    }
   ],
   "source": [
    "columns=[]\n",
    "for header in tables[0].findAll(\"th\"):\n",
    "    columns.append(header.text)\n",
    "columns"
   ]
  },
  {
   "cell_type": "code",
   "execution_count": 47,
   "id": "c773ad2c",
   "metadata": {},
   "outputs": [],
   "source": [
    "del(columns[-1])"
   ]
  }
 ],
 "metadata": {
  "kernelspec": {
   "display_name": "Python 3 (ipykernel)",
   "language": "python",
   "name": "python3"
  },
  "language_info": {
   "codemirror_mode": {
    "name": "ipython",
    "version": 3
   },
   "file_extension": ".py",
   "mimetype": "text/x-python",
   "name": "python",
   "nbconvert_exporter": "python",
   "pygments_lexer": "ipython3",
   "version": "3.9.7"
  }
 },
 "nbformat": 4,
 "nbformat_minor": 5
}
