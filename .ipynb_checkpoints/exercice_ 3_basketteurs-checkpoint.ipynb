{
 "cells": [
  {
   "cell_type": "code",
   "execution_count": 1,
   "id": "f799095e",
   "metadata": {},
   "outputs": [],
   "source": [
    "import pandas as pd"
   ]
  },
  {
   "cell_type": "code",
   "execution_count": 2,
   "id": "d24d2c19",
   "metadata": {},
   "outputs": [],
   "source": [
    "sdf_moussa = {\n",
    "    'point':[7,8,9,10,11,12,13],\n",
    "    'frequence':[1,1,2,2,2,1,1,]\n",
    "}"
   ]
  },
  {
   "cell_type": "code",
   "execution_count": null,
   "id": "a995a602",
   "metadata": {},
   "outputs": [],
   "source": []
  },
  {
   "cell_type": "code",
   "execution_count": 4,
   "id": "d443430a",
   "metadata": {},
   "outputs": [],
   "source": [
    "sdf_djiby={\n",
    "    'point':[7,9,10,11,13],\n",
    "    'frequence':[1,2,4,2,1]\n",
    "}\n",
    "sdf_Ibou={\n",
    "    'point':[3,6,7,10,11,13,30],\n",
    "    'frequence':[2,1,2,3,1,1,1]\n",
    "}"
   ]
  },
  {
   "cell_type": "code",
   "execution_count": 5,
   "id": "fd4f4d61",
   "metadata": {},
   "outputs": [],
   "source": [
    "df_moussa = pd.DataFrame(sdf_moussa)\n",
    "df_djiby = pd.DataFrame(sdf_djiby)\n",
    "df_ibou = pd.DataFrame(sdf_Ibou)"
   ]
  },
  {
   "cell_type": "markdown",
   "id": "99798d96",
   "metadata": {},
   "source": [
    "### df_moussa"
   ]
  },
  {
   "cell_type": "code",
   "execution_count": null,
   "id": "56b7d6da",
   "metadata": {},
   "outputs": [],
   "source": []
  },
  {
   "cell_type": "code",
   "execution_count": null,
   "id": "94bee107",
   "metadata": {},
   "outputs": [],
   "source": []
  },
  {
   "cell_type": "code",
   "execution_count": 13,
   "id": "1dc177f4",
   "metadata": {},
   "outputs": [],
   "source": [
    "moyenne_moussa= (df_moussa['point']*df_moussa['frequence']).sum() / df_moussa['frequence'].sum()\n",
    "moyenne_djiby= (df_djiby['point']*df_djiby['frequence']).sum() / df_djiby['frequence'].sum()\n",
    "moyenne_ibou= (df_ibou['point']*df_ibou['frequence']).sum() / df_ibou['frequence'].sum()"
   ]
  },
  {
   "cell_type": "code",
   "execution_count": 14,
   "id": "56154385",
   "metadata": {},
   "outputs": [
    {
     "data": {
      "text/plain": [
       "(10.0, 10.0, 10.0)"
      ]
     },
     "execution_count": 14,
     "metadata": {},
     "output_type": "execute_result"
    }
   ],
   "source": [
    "moyenne_moussa,moyenne_djiby,moyenne_ibou"
   ]
  },
  {
   "cell_type": "code",
   "execution_count": null,
   "id": "de404a0c",
   "metadata": {},
   "outputs": [],
   "source": []
  },
  {
   "cell_type": "code",
   "execution_count": null,
   "id": "f7a416db",
   "metadata": {},
   "outputs": [],
   "source": [
    "#d'autre methode"
   ]
  },
  {
   "cell_type": "code",
   "execution_count": 21,
   "id": "4cdc9f57",
   "metadata": {},
   "outputs": [],
   "source": [
    "#mode pour Moussa\n",
    "md_moussa=df_moussa.groupby('point')['frequence'].sum().idxmax()\n",
    "md_djiby=df_djiby.groupby('point')['frequence'].sum().idxmax()"
   ]
  },
  {
   "cell_type": "code",
   "execution_count": 25,
   "id": "841edfcc",
   "metadata": {},
   "outputs": [
    {
     "data": {
      "text/plain": [
       "(9, 10, 10)"
      ]
     },
     "execution_count": 25,
     "metadata": {},
     "output_type": "execute_result"
    }
   ],
   "source": [
    "md_moussa,md_djiby,md_ibou"
   ]
  },
  {
   "cell_type": "code",
   "execution_count": null,
   "id": "e0dcfccc",
   "metadata": {},
   "outputs": [],
   "source": []
  },
  {
   "cell_type": "code",
   "execution_count": 23,
   "id": "6a679e53",
   "metadata": {},
   "outputs": [],
   "source": [
    "md_ibou=df_ibou.groupby('point')['frequence'].sum().idxmax()"
   ]
  },
  {
   "cell_type": "code",
   "execution_count": null,
   "id": "a9b611d6",
   "metadata": {},
   "outputs": [],
   "source": []
  },
  {
   "cell_type": "code",
   "execution_count": 20,
   "id": "f5ee39d0",
   "metadata": {},
   "outputs": [
    {
     "data": {
      "text/plain": [
       "<bound method Series.idxmax of point\n",
       "3     2\n",
       "6     1\n",
       "7     2\n",
       "10    3\n",
       "11    1\n",
       "13    1\n",
       "30    1\n",
       "Name: frequence, dtype: int64>"
      ]
     },
     "execution_count": 20,
     "metadata": {},
     "output_type": "execute_result"
    }
   ],
   "source": [
    "md_ibou"
   ]
  },
  {
   "cell_type": "code",
   "execution_count": null,
   "id": "0b1c0a96",
   "metadata": {},
   "outputs": [],
   "source": [
    "#eme methode"
   ]
  },
  {
   "cell_type": "code",
   "execution_count": 27,
   "id": "39568214",
   "metadata": {},
   "outputs": [],
   "source": [
    "#Mediane pour moussa\n",
    "import numpy as np"
   ]
  },
  {
   "cell_type": "code",
   "execution_count": 28,
   "id": "f594e000",
   "metadata": {},
   "outputs": [
    {
     "data": {
      "text/plain": [
       "10.0"
      ]
     },
     "execution_count": 28,
     "metadata": {},
     "output_type": "execute_result"
    }
   ],
   "source": [
    "median_moussa=np.median(np.repeat(df_moussa['point'],df_moussa['frequence']))\n",
    "median_moussa"
   ]
  },
  {
   "cell_type": "code",
   "execution_count": 30,
   "id": "d9421fbc",
   "metadata": {},
   "outputs": [
    {
     "data": {
      "text/plain": [
       "10.0"
      ]
     },
     "execution_count": 30,
     "metadata": {},
     "output_type": "execute_result"
    }
   ],
   "source": [
    "median_djiby=np.median(np.repeat(df_djiby['point'],df_djiby['frequence']))\n",
    "median_djiby"
   ]
  },
  {
   "cell_type": "code",
   "execution_count": 9,
   "id": "379ecd11",
   "metadata": {},
   "outputs": [],
   "source": [
    "data = { 'color' : ['blue','green','yellow','red','white'],\n",
    "'object' : ['ball','pen','pencil','paper','mug'],\n",
    "'price' : [1.2,1.0,0.6,0.9,1.7]}\n"
   ]
  },
  {
   "cell_type": "code",
   "execution_count": 10,
   "id": "67baad91",
   "metadata": {},
   "outputs": [],
   "source": [
    "frame = pd.DataFrame(data)"
   ]
  },
  {
   "cell_type": "code",
   "execution_count": null,
   "id": "0d5d6470",
   "metadata": {},
   "outputs": [],
   "source": []
  },
  {
   "cell_type": "code",
   "execution_count": null,
   "id": "0b7f1e56",
   "metadata": {},
   "outputs": [],
   "source": []
  },
  {
   "cell_type": "code",
   "execution_count": null,
   "id": "7589f573",
   "metadata": {},
   "outputs": [],
   "source": []
  },
  {
   "cell_type": "code",
   "execution_count": 31,
   "id": "0ec98523",
   "metadata": {},
   "outputs": [],
   "source": [
    "import matplotlib.pyplot as plt"
   ]
  },
  {
   "cell_type": "code",
   "execution_count": 33,
   "id": "aeb87273",
   "metadata": {},
   "outputs": [
    {
     "data": {
      "image/png": "[encoded data removed]",
      "text/plain": [
       "<Figure size 432x288 with 1 Axes>"
      ]
     },
     "metadata": {
      "needs_background": "light"
     },
     "output_type": "display_data"
    }
   ],
   "source": [
    "plt.boxplot(df_moussa['point'])\n",
    "plt.show()"
   ]
  },
  {
   "cell_type": "code",
   "execution_count": 37,
   "id": "8c140e3c",
   "metadata": {},
   "outputs": [
    {
     "data": {
      "text/plain": [
       "Text(0.5, 1.0, 'Box Ibou')"
      ]
     },
     "execution_count": 37,
     "metadata": {},
     "output_type": "execute_result"
    },
    {
     "data": {
      "image/png": "[encoded data removed]",
      "text/plain": [
       "<Figure size 1440x720 with 3 Axes>"
      ]
     },
     "metadata": {
      "needs_background": "light"
     },
     "output_type": "display_data"
    }
   ],
   "source": [
    "fig,axes=plt.subplots(1,3,figsize=(20,10))\n",
    "\n",
    "axes[0].boxplot(df_moussa[\"point\"])\n",
    "axes[0].set_title(\"Box de Moussa\")\n",
    "\n",
    "axes[1].boxplot(df_djiby[\"point\"])\n",
    "axes[1].set_title(\"Box Djiby\")\n",
    "\n",
    "axes[2].boxplot(df_ibou[\"point\"])\n",
    "axes[2].set_title(\"Box Ibou\")"
   ]
  },
  {
   "cell_type": "code",
   "execution_count": null,
   "id": "0ae3bb63",
   "metadata": {},
   "outputs": [],
   "source": []
  },
  {
   "cell_type": "code",
   "execution_count": 39,
   "id": "2c2d7277",
   "metadata": {},
   "outputs": [
    {
     "data": {
      "text/plain": [
       "2.0"
      ]
     },
     "execution_count": 39,
     "metadata": {},
     "output_type": "execute_result"
    }
   ],
   "source": []
  },
  {
   "cell_type": "code",
   "execution_count": 40,
   "id": "50b24d2b",
   "metadata": {},
   "outputs": [
    {
     "data": {
      "text/plain": [
       "2.0"
      ]
     },
     "execution_count": 40,
     "metadata": {},
     "output_type": "execute_result"
    }
   ],
   "source": []
  },
  {
   "cell_type": "code",
   "execution_count": 45,
   "id": "bc9e179a",
   "metadata": {},
   "outputs": [
    {
     "data": {
      "text/plain": [
       "1.4832396974191326"
      ]
     },
     "execution_count": 45,
     "metadata": {},
     "output_type": "execute_result"
    }
   ],
   "source": [
    "e_djiby=np.std(np.repeat(df_djiby['point'],df_djiby['frequence']))\n",
    "e_djiby"
   ]
  },
  {
   "cell_type": "code",
   "execution_count": 46,
   "id": "78fce1ab",
   "metadata": {},
   "outputs": [
    {
     "data": {
      "text/plain": [
       "1.7320508075688772"
      ]
     },
     "execution_count": 46,
     "metadata": {},
     "output_type": "execute_result"
    }
   ],
   "source": [
    "e_mussa=np.std(np.repeat(df_moussa['point'],df_moussa['frequence']))\n",
    "e_mussa"
   ]
  },
  {
   "cell_type": "code",
   "execution_count": null,
   "id": "435f42c1",
   "metadata": {},
   "outputs": [],
   "source": []
  },
  {
   "cell_type": "code",
   "execution_count": 47,
   "id": "cc634a94",
   "metadata": {},
   "outputs": [
    {
     "data": {
      "text/html": [
       "<div>\n",
       "<style scoped>\n",
       "    .dataframe tbody tr th:only-of-type {\n",
       "        vertical-align: middle;\n",
       "    }\n",
       "\n",
       "    .dataframe tbody tr th {\n",
       "        vertical-align: top;\n",
       "    }\n",
       "\n",
       "    .dataframe thead th {\n",
       "        text-align: right;\n",
       "    }\n",
       "</style>\n",
       "<table border=\"1\" class=\"dataframe\">\n",
       "  <thead>\n",
       "    <tr style=\"text-align: right;\">\n",
       "      <th></th>\n",
       "      <th>point</th>\n",
       "      <th>frequence</th>\n",
       "    </tr>\n",
       "  </thead>\n",
       "  <tbody>\n",
       "    <tr>\n",
       "      <th>count</th>\n",
       "      <td>7.000000</td>\n",
       "      <td>7.000000</td>\n",
       "    </tr>\n",
       "    <tr>\n",
       "      <th>mean</th>\n",
       "      <td>10.000000</td>\n",
       "      <td>1.428571</td>\n",
       "    </tr>\n",
       "    <tr>\n",
       "      <th>std</th>\n",
       "      <td>2.160247</td>\n",
       "      <td>0.534522</td>\n",
       "    </tr>\n",
       "    <tr>\n",
       "      <th>min</th>\n",
       "      <td>7.000000</td>\n",
       "      <td>1.000000</td>\n",
       "    </tr>\n",
       "    <tr>\n",
       "      <th>25%</th>\n",
       "      <td>8.500000</td>\n",
       "      <td>1.000000</td>\n",
       "    </tr>\n",
       "    <tr>\n",
       "      <th>50%</th>\n",
       "      <td>10.000000</td>\n",
       "      <td>1.000000</td>\n",
       "    </tr>\n",
       "    <tr>\n",
       "      <th>75%</th>\n",
       "      <td>11.500000</td>\n",
       "      <td>2.000000</td>\n",
       "    </tr>\n",
       "    <tr>\n",
       "      <th>max</th>\n",
       "      <td>13.000000</td>\n",
       "      <td>2.000000</td>\n",
       "    </tr>\n",
       "  </tbody>\n",
       "</table>\n",
       "</div>"
      ],
      "text/plain": [
       "           point  frequence\n",
       "count   7.000000   7.000000\n",
       "mean   10.000000   1.428571\n",
       "std     2.160247   0.534522\n",
       "min     7.000000   1.000000\n",
       "25%     8.500000   1.000000\n",
       "50%    10.000000   1.000000\n",
       "75%    11.500000   2.000000\n",
       "max    13.000000   2.000000"
      ]
     },
     "execution_count": 47,
     "metadata": {},
     "output_type": "execute_result"
    }
   ],
   "source": [
    "df_moussa.describe()"
   ]
  },
  {
   "cell_type": "code",
   "execution_count": 50,
   "id": "7ae00bd0",
   "metadata": {},
   "outputs": [
    {
     "data": {
      "text/html": [
       "<div>\n",
       "<style scoped>\n",
       "    .dataframe tbody tr th:only-of-type {\n",
       "        vertical-align: middle;\n",
       "    }\n",
       "\n",
       "    .dataframe tbody tr th {\n",
       "        vertical-align: top;\n",
       "    }\n",
       "\n",
       "    .dataframe thead th {\n",
       "        text-align: right;\n",
       "    }\n",
       "</style>\n",
       "<table border=\"1\" class=\"dataframe\">\n",
       "  <thead>\n",
       "    <tr style=\"text-align: right;\">\n",
       "      <th></th>\n",
       "      <th>point</th>\n",
       "    </tr>\n",
       "  </thead>\n",
       "  <tbody>\n",
       "    <tr>\n",
       "      <th>count</th>\n",
       "      <td>10.000000</td>\n",
       "    </tr>\n",
       "    <tr>\n",
       "      <th>mean</th>\n",
       "      <td>10.000000</td>\n",
       "    </tr>\n",
       "    <tr>\n",
       "      <th>std</th>\n",
       "      <td>1.825742</td>\n",
       "    </tr>\n",
       "    <tr>\n",
       "      <th>min</th>\n",
       "      <td>7.000000</td>\n",
       "    </tr>\n",
       "    <tr>\n",
       "      <th>25%</th>\n",
       "      <td>9.000000</td>\n",
       "    </tr>\n",
       "    <tr>\n",
       "      <th>50%</th>\n",
       "      <td>10.000000</td>\n",
       "    </tr>\n",
       "    <tr>\n",
       "      <th>75%</th>\n",
       "      <td>11.000000</td>\n",
       "    </tr>\n",
       "    <tr>\n",
       "      <th>max</th>\n",
       "      <td>13.000000</td>\n",
       "    </tr>\n",
       "  </tbody>\n",
       "</table>\n",
       "</div>"
      ],
      "text/plain": [
       "           point\n",
       "count  10.000000\n",
       "mean   10.000000\n",
       "std     1.825742\n",
       "min     7.000000\n",
       "25%     9.000000\n",
       "50%    10.000000\n",
       "75%    11.000000\n",
       "max    13.000000"
      ]
     },
     "execution_count": 50,
     "metadata": {},
     "output_type": "execute_result"
    }
   ],
   "source": [
    "df_moussa2=pd.DataFrame({'point':np.repeat(df_moussa['point'],df_moussa['frequence'])})\n",
    "df_moussa2.describe()"
   ]
  },
  {
   "cell_type": "code",
   "execution_count": null,
   "id": "45702cca",
   "metadata": {},
   "outputs": [],
   "source": []
  },
  {
   "cell_type": "code",
   "execution_count": null,
   "id": "3135a398",
   "metadata": {},
   "outputs": [],
   "source": []
  },
  {
   "cell_type": "code",
   "execution_count": 26,
   "id": "1cb7b8e0",
   "metadata": {},
   "outputs": [
    {
     "name": "stdout",
     "output_type": "stream",
     "text": [
      "Collecting Beautifulsoup"
     ]
    },
    {
     "name": "stderr",
     "output_type": "stream",
     "text": [
      "    ERROR: Command errored out with exit status 1:\n",
      "     command: 'C:\\Users\\DELL\\anaconda3\\python.exe' -c 'import io, os, sys, setuptools, tokenize; sys.argv[0] = '\"'\"'C:\\\\Users\\\\DELL\\\\AppData\\\\Local\\\\Temp\\\\pip-install-twlld5xj\\\\beautifulsoup_c7ddf461892a455c8344b6a792add3a6\\\\setup.py'\"'\"'; __file__='\"'\"'C:\\\\Users\\\\DELL\\\\AppData\\\\Local\\\\Temp\\\\pip-install-twlld5xj\\\\beautifulsoup_c7ddf461892a455c8344b6a792add3a6\\\\setup.py'\"'\"';f = getattr(tokenize, '\"'\"'open'\"'\"', open)(__file__) if os.path.exists(__file__) else io.StringIO('\"'\"'from setuptools import setup; setup()'\"'\"');code = f.read().replace('\"'\"'\\r\\n'\"'\"', '\"'\"'\\n'\"'\"');f.close();exec(compile(code, __file__, '\"'\"'exec'\"'\"'))' egg_info --egg-base 'C:\\Users\\DELL\\AppData\\Local\\Temp\\pip-pip-egg-info-ex3js3nc'\n",
      "         cwd: C:\\Users\\DELL\\AppData\\Local\\Temp\\pip-install-twlld5xj\\beautifulsoup_c7ddf461892a455c8344b6a792add3a6\\\n",
      "    Complete output (6 lines):\n",
      "    Traceback (most recent call last):\n",
      "      File \"<string>\", line 1, in <module>\n",
      "      File \"C:\\Users\\DELL\\AppData\\Local\\Temp\\pip-install-twlld5xj\\beautifulsoup_c7ddf461892a455c8344b6a792add3a6\\setup.py\", line 3\n",
      "        \"You're trying to run a very old release of Beautiful Soup under Python 3. This will not work.\"<>\"Please use Beautiful Soup 4, available through the pip package 'beautifulsoup4'.\"\n",
      "                                                                                                       ^\n",
      "    SyntaxError: invalid syntax\n",
      "    ----------------------------------------\n",
      "WARNING: Discarding https://files.pythonhosted.org/packages/40/f2/6c9f2f3e696ee6a1fb0e4d7850617e224ed2b0b1e872110abffeca2a09d4/BeautifulSoup-3.2.2.tar.gz#sha256=a04169602bff6e3138b1259dbbf491f5a27f9499dea9a8fbafd48843f9d89970 (from https://pypi.org/simple/beautifulsoup/). Command errored out with exit status 1: python setup.py egg_info Check the logs for full command output.\n",
      "    ERROR: Command errored out with exit status 1:\n",
      "     command: 'C:\\Users\\DELL\\anaconda3\\python.exe' -c 'import io, os, sys, setuptools, tokenize; sys.argv[0] = '\"'\"'C:\\\\Users\\\\DELL\\\\AppData\\\\Local\\\\Temp\\\\pip-install-twlld5xj\\\\beautifulsoup_5d627446226044a08e0663a25638a4f6\\\\setup.py'\"'\"'; __file__='\"'\"'C:\\\\Users\\\\DELL\\\\AppData\\\\Local\\\\Temp\\\\pip-install-twlld5xj\\\\beautifulsoup_5d627446226044a08e0663a25638a4f6\\\\setup.py'\"'\"';f = getattr(tokenize, '\"'\"'open'\"'\"', open)(__file__) if os.path.exists(__file__) else io.StringIO('\"'\"'from setuptools import setup; setup()'\"'\"');code = f.read().replace('\"'\"'\\r\\n'\"'\"', '\"'\"'\\n'\"'\"');f.close();exec(compile(code, __file__, '\"'\"'exec'\"'\"'))' egg_info --egg-base 'C:\\Users\\DELL\\AppData\\Local\\Temp\\pip-pip-egg-info-39iugkf0'\n",
      "         cwd: C:\\Users\\DELL\\AppData\\Local\\Temp\\pip-install-twlld5xj\\beautifulsoup_5d627446226044a08e0663a25638a4f6\\\n",
      "    Complete output (6 lines):\n",
      "    Traceback (most recent call last):\n",
      "      File \"<string>\", line 1, in <module>\n",
      "      File \"C:\\Users\\DELL\\AppData\\Local\\Temp\\pip-install-twlld5xj\\beautifulsoup_5d627446226044a08e0663a25638a4f6\\setup.py\", line 22\n",
      "        print \"Unit tests have failed!\"\n",
      "              ^\n",
      "    SyntaxError: Missing parentheses in call to 'print'. Did you mean print(\"Unit tests have failed!\")?\n",
      "    ----------------------------------------\n",
      "WARNING: Discarding https://files.pythonhosted.org/packages/1e/ee/295988deca1a5a7accd783d0dfe14524867e31abb05b6c0eeceee49c759d/BeautifulSoup-3.2.1.tar.gz#sha256=6a8cb4401111e011b579c8c52a51cdab970041cc543814bbd9577a4529fe1cdb (from https://pypi.org/simple/beautifulsoup/). Command errored out with exit status 1: python setup.py egg_info Check the logs for full command output.\n",
      "    ERROR: Command errored out with exit status 1:\n",
      "     command: 'C:\\Users\\DELL\\anaconda3\\python.exe' -c 'import io, os, sys, setuptools, tokenize; sys.argv[0] = '\"'\"'C:\\\\Users\\\\DELL\\\\AppData\\\\Local\\\\Temp\\\\pip-install-twlld5xj\\\\beautifulsoup_d95dcfd97cea4b35999a49bf2100dbd7\\\\setup.py'\"'\"'; __file__='\"'\"'C:\\\\Users\\\\DELL\\\\AppData\\\\Local\\\\Temp\\\\pip-install-twlld5xj\\\\beautifulsoup_d95dcfd97cea4b35999a49bf2100dbd7\\\\setup.py'\"'\"';f = getattr(tokenize, '\"'\"'open'\"'\"', open)(__file__) if os.path.exists(__file__) else io.StringIO('\"'\"'from setuptools import setup; setup()'\"'\"');code = f.read().replace('\"'\"'\\r\\n'\"'\"', '\"'\"'\\n'\"'\"');f.close();exec(compile(code, __file__, '\"'\"'exec'\"'\"'))' egg_info --egg-base 'C:\\Users\\DELL\\AppData\\Local\\Temp\\pip-pip-egg-info-y3jo3f94'\n",
      "         cwd: C:\\Users\\DELL\\AppData\\Local\\Temp\\pip-install-twlld5xj\\beautifulsoup_d95dcfd97cea4b35999a49bf2100dbd7\\\n",
      "    Complete output (6 lines):\n",
      "    Traceback (most recent call last):\n",
      "      File \"<string>\", line 1, in <module>\n",
      "      File \"C:\\Users\\DELL\\AppData\\Local\\Temp\\pip-install-twlld5xj\\beautifulsoup_d95dcfd97cea4b35999a49bf2100dbd7\\setup.py\", line 22\n",
      "        print \"Unit tests have failed!\"\n",
      "              ^\n",
      "    SyntaxError: Missing parentheses in call to 'print'. Did you mean print(\"Unit tests have failed!\")?\n",
      "    ----------------------------------------\n",
      "WARNING: Discarding https://files.pythonhosted.org/packages/33/fe/15326560884f20d792d3ffc7fe8f639aab88647c9d46509a240d9bfbb6b1/BeautifulSoup-3.2.0.tar.gz#sha256=0dc52d07516c1665c9dd9f0a390a7a054bfb7b147a50b2866fb116b8909dfd37 (from https://pypi.org/simple/beautifulsoup/). Command errored out with exit status 1: python setup.py egg_info Check the logs for full command output.\n",
      "ERROR: Could not find a version that satisfies the requirement Beautifulsoup (from versions: 3.2.0, 3.2.1, 3.2.2)\n",
      "ERROR: No matching distribution found for Beautifulsoup\n"
     ]
    },
    {
     "name": "stdout",
     "output_type": "stream",
     "text": [
      "\n",
      "  Downloading BeautifulSoup-3.2.2.tar.gz (32 kB)\n",
      "  Downloading BeautifulSoup-3.2.1.tar.gz (31 kB)\n",
      "  Downloading BeautifulSoup-3.2.0.tar.gz (31 kB)\n"
     ]
    }
   ],
   "source": [
    "!pip install Beautifulsoup"
   ]
  },
  {
   "cell_type": "code",
   "execution_count": 27,
   "id": "39d7a8a9",
   "metadata": {},
   "outputs": [
    {
     "name": "stdout",
     "output_type": "stream",
     "text": [
      "Collecting Selenium\n",
      "  Downloading selenium-4.11.2-py3-none-any.whl (7.2 MB)\n",
      "Requirement already satisfied: certifi>=2021.10.8 in c:\\users\\dell\\anaconda3\\lib\\site-packages (from Selenium) (2021.10.8)\n",
      "Requirement already satisfied: urllib3[socks]<3,>=1.26 in c:\\users\\dell\\anaconda3\\lib\\site-packages (from Selenium) (1.26.7)\n",
      "Collecting trio~=0.17\n",
      "  Downloading trio-0.22.2-py3-none-any.whl (400 kB)\n",
      "Collecting trio-websocket~=0.9\n",
      "  Downloading trio_websocket-0.10.3-py3-none-any.whl (17 kB)\n",
      "Requirement already satisfied: attrs>=20.1.0 in c:\\users\\dell\\anaconda3\\lib\\site-packages (from trio~=0.17->Selenium) (21.2.0)\n",
      "Requirement already satisfied: idna in c:\\users\\dell\\anaconda3\\lib\\site-packages (from trio~=0.17->Selenium) (3.2)\n",
      "Collecting exceptiongroup>=1.0.0rc9\n",
      "  Downloading exceptiongroup-1.1.3-py3-none-any.whl (14 kB)\n",
      "Requirement already satisfied: sortedcontainers in c:\\users\\dell\\anaconda3\\lib\\site-packages (from trio~=0.17->Selenium) (2.4.0)\n",
      "Requirement already satisfied: sniffio in c:\\users\\dell\\anaconda3\\lib\\site-packages (from trio~=0.17->Selenium) (1.2.0)\n",
      "Requirement already satisfied: cffi>=1.14 in c:\\users\\dell\\anaconda3\\lib\\site-packages (from trio~=0.17->Selenium) (1.14.6)\n",
      "Collecting outcome\n",
      "  Downloading outcome-1.2.0-py2.py3-none-any.whl (9.7 kB)\n",
      "Requirement already satisfied: pycparser in c:\\users\\dell\\anaconda3\\lib\\site-packages (from cffi>=1.14->trio~=0.17->Selenium) (2.20)\n",
      "Collecting wsproto>=0.14\n",
      "  Downloading wsproto-1.2.0-py3-none-any.whl (24 kB)\n",
      "Requirement already satisfied: PySocks!=1.5.7,<2.0,>=1.5.6 in c:\\users\\dell\\anaconda3\\lib\\site-packages (from urllib3[socks]<3,>=1.26->Selenium) (1.7.1)\n",
      "Collecting h11<1,>=0.9.0\n",
      "  Downloading h11-0.14.0-py3-none-any.whl (58 kB)\n",
      "Installing collected packages: outcome, h11, exceptiongroup, wsproto, trio, trio-websocket, Selenium\n",
      "Successfully installed Selenium-4.11.2 exceptiongroup-1.1.3 h11-0.14.0 outcome-1.2.0 trio-0.22.2 trio-websocket-0.10.3 wsproto-1.2.0\n"
     ]
    }
   ],
   "source": [
    "!pip install Selenium"
   ]
  },
  {
   "cell_type": "code",
   "execution_count": 28,
   "id": "00075ed6",
   "metadata": {},
   "outputs": [
    {
     "name": "stdout",
     "output_type": "stream",
     "text": [
      "Collecting Beautifulsoup\n",
      "  Using cached BeautifulSoup-3.2.2.tar.gz (32 kB)\n",
      "  Using cached BeautifulSoup-3.2.1.tar.gz (31 kB)\n",
      "  Using cached BeautifulSoup-3.2.0.tar.gz (31 kB)\n"
     ]
    },
    {
     "name": "stderr",
     "output_type": "stream",
     "text": [
      "    ERROR: Command errored out with exit status 1:\n",
      "     command: 'C:\\Users\\DELL\\anaconda3\\python.exe' -c 'import io, os, sys, setuptools, tokenize; sys.argv[0] = '\"'\"'C:\\\\Users\\\\DELL\\\\AppData\\\\Local\\\\Temp\\\\pip-install-_o1sbdxo\\\\beautifulsoup_312581a055c4457184e1aab3516147e8\\\\setup.py'\"'\"'; __file__='\"'\"'C:\\\\Users\\\\DELL\\\\AppData\\\\Local\\\\Temp\\\\pip-install-_o1sbdxo\\\\beautifulsoup_312581a055c4457184e1aab3516147e8\\\\setup.py'\"'\"';f = getattr(tokenize, '\"'\"'open'\"'\"', open)(__file__) if os.path.exists(__file__) else io.StringIO('\"'\"'from setuptools import setup; setup()'\"'\"');code = f.read().replace('\"'\"'\\r\\n'\"'\"', '\"'\"'\\n'\"'\"');f.close();exec(compile(code, __file__, '\"'\"'exec'\"'\"'))' egg_info --egg-base 'C:\\Users\\DELL\\AppData\\Local\\Temp\\pip-pip-egg-info-fz9xm03b'\n",
      "         cwd: C:\\Users\\DELL\\AppData\\Local\\Temp\\pip-install-_o1sbdxo\\beautifulsoup_312581a055c4457184e1aab3516147e8\\\n",
      "    Complete output (6 lines):\n",
      "    Traceback (most recent call last):\n",
      "      File \"<string>\", line 1, in <module>\n",
      "      File \"C:\\Users\\DELL\\AppData\\Local\\Temp\\pip-install-_o1sbdxo\\beautifulsoup_312581a055c4457184e1aab3516147e8\\setup.py\", line 3\n",
      "        \"You're trying to run a very old release of Beautiful Soup under Python 3. This will not work.\"<>\"Please use Beautiful Soup 4, available through the pip package 'beautifulsoup4'.\"\n",
      "                                                                                                       ^\n",
      "    SyntaxError: invalid syntax\n",
      "    ----------------------------------------\n",
      "WARNING: Discarding https://files.pythonhosted.org/packages/40/f2/6c9f2f3e696ee6a1fb0e4d7850617e224ed2b0b1e872110abffeca2a09d4/BeautifulSoup-3.2.2.tar.gz#sha256=a04169602bff6e3138b1259dbbf491f5a27f9499dea9a8fbafd48843f9d89970 (from https://pypi.org/simple/beautifulsoup/). Command errored out with exit status 1: python setup.py egg_info Check the logs for full command output.\n",
      "    ERROR: Command errored out with exit status 1:\n",
      "     command: 'C:\\Users\\DELL\\anaconda3\\python.exe' -c 'import io, os, sys, setuptools, tokenize; sys.argv[0] = '\"'\"'C:\\\\Users\\\\DELL\\\\AppData\\\\Local\\\\Temp\\\\pip-install-_o1sbdxo\\\\beautifulsoup_c11e69c178574e32b41e3bfac54c300c\\\\setup.py'\"'\"'; __file__='\"'\"'C:\\\\Users\\\\DELL\\\\AppData\\\\Local\\\\Temp\\\\pip-install-_o1sbdxo\\\\beautifulsoup_c11e69c178574e32b41e3bfac54c300c\\\\setup.py'\"'\"';f = getattr(tokenize, '\"'\"'open'\"'\"', open)(__file__) if os.path.exists(__file__) else io.StringIO('\"'\"'from setuptools import setup; setup()'\"'\"');code = f.read().replace('\"'\"'\\r\\n'\"'\"', '\"'\"'\\n'\"'\"');f.close();exec(compile(code, __file__, '\"'\"'exec'\"'\"'))' egg_info --egg-base 'C:\\Users\\DELL\\AppData\\Local\\Temp\\pip-pip-egg-info-higbxzx5'\n",
      "         cwd: C:\\Users\\DELL\\AppData\\Local\\Temp\\pip-install-_o1sbdxo\\beautifulsoup_c11e69c178574e32b41e3bfac54c300c\\\n",
      "    Complete output (6 lines):\n",
      "    Traceback (most recent call last):\n",
      "      File \"<string>\", line 1, in <module>\n",
      "      File \"C:\\Users\\DELL\\AppData\\Local\\Temp\\pip-install-_o1sbdxo\\beautifulsoup_c11e69c178574e32b41e3bfac54c300c\\setup.py\", line 22\n",
      "        print \"Unit tests have failed!\"\n",
      "              ^\n",
      "    SyntaxError: Missing parentheses in call to 'print'. Did you mean print(\"Unit tests have failed!\")?\n",
      "    ----------------------------------------\n",
      "WARNING: Discarding https://files.pythonhosted.org/packages/1e/ee/295988deca1a5a7accd783d0dfe14524867e31abb05b6c0eeceee49c759d/BeautifulSoup-3.2.1.tar.gz#sha256=6a8cb4401111e011b579c8c52a51cdab970041cc543814bbd9577a4529fe1cdb (from https://pypi.org/simple/beautifulsoup/). Command errored out with exit status 1: python setup.py egg_info Check the logs for full command output.\n",
      "    ERROR: Command errored out with exit status 1:\n",
      "     command: 'C:\\Users\\DELL\\anaconda3\\python.exe' -c 'import io, os, sys, setuptools, tokenize; sys.argv[0] = '\"'\"'C:\\\\Users\\\\DELL\\\\AppData\\\\Local\\\\Temp\\\\pip-install-_o1sbdxo\\\\beautifulsoup_58bbcf3ec5444b3a9878f003ffc4f18a\\\\setup.py'\"'\"'; __file__='\"'\"'C:\\\\Users\\\\DELL\\\\AppData\\\\Local\\\\Temp\\\\pip-install-_o1sbdxo\\\\beautifulsoup_58bbcf3ec5444b3a9878f003ffc4f18a\\\\setup.py'\"'\"';f = getattr(tokenize, '\"'\"'open'\"'\"', open)(__file__) if os.path.exists(__file__) else io.StringIO('\"'\"'from setuptools import setup; setup()'\"'\"');code = f.read().replace('\"'\"'\\r\\n'\"'\"', '\"'\"'\\n'\"'\"');f.close();exec(compile(code, __file__, '\"'\"'exec'\"'\"'))' egg_info --egg-base 'C:\\Users\\DELL\\AppData\\Local\\Temp\\pip-pip-egg-info-c6c28n0l'\n",
      "         cwd: C:\\Users\\DELL\\AppData\\Local\\Temp\\pip-install-_o1sbdxo\\beautifulsoup_58bbcf3ec5444b3a9878f003ffc4f18a\\\n",
      "    Complete output (6 lines):\n",
      "    Traceback (most recent call last):\n",
      "      File \"<string>\", line 1, in <module>\n",
      "      File \"C:\\Users\\DELL\\AppData\\Local\\Temp\\pip-install-_o1sbdxo\\beautifulsoup_58bbcf3ec5444b3a9878f003ffc4f18a\\setup.py\", line 22\n",
      "        print \"Unit tests have failed!\"\n",
      "              ^\n",
      "    SyntaxError: Missing parentheses in call to 'print'. Did you mean print(\"Unit tests have failed!\")?\n",
      "    ----------------------------------------\n",
      "WARNING: Discarding https://files.pythonhosted.org/packages/33/fe/15326560884f20d792d3ffc7fe8f639aab88647c9d46509a240d9bfbb6b1/BeautifulSoup-3.2.0.tar.gz#sha256=0dc52d07516c1665c9dd9f0a390a7a054bfb7b147a50b2866fb116b8909dfd37 (from https://pypi.org/simple/beautifulsoup/). Command errored out with exit status 1: python setup.py egg_info Check the logs for full command output.\n",
      "ERROR: Could not find a version that satisfies the requirement Beautifulsoup (from versions: 3.2.0, 3.2.1, 3.2.2)\n",
      "ERROR: No matching distribution found for Beautifulsoup\n"
     ]
    }
   ],
   "source": [
    "!pip install Beautifulsoup"
   ]
  },
  {
   "cell_type": "code",
   "execution_count": 29,
   "id": "01d1791d",
   "metadata": {},
   "outputs": [
    {
     "name": "stdout",
     "output_type": "stream",
     "text": [
      "Collecting bs4\n",
      "  Downloading bs4-0.0.1.tar.gz (1.1 kB)\n",
      "Requirement already satisfied: beautifulsoup4 in c:\\users\\dell\\anaconda3\\lib\\site-packages (from bs4) (4.10.0)\n",
      "Requirement already satisfied: soupsieve>1.2 in c:\\users\\dell\\anaconda3\\lib\\site-packages (from beautifulsoup4->bs4) (2.2.1)\n",
      "Building wheels for collected packages: bs4\n",
      "  Building wheel for bs4 (setup.py): started\n",
      "  Building wheel for bs4 (setup.py): finished with status 'done'\n",
      "  Created wheel for bs4: filename=bs4-0.0.1-py3-none-any.whl size=1271 sha256=a1d926818eed961bbeffa9a3c64e97f150ff9b7fa9e213df6f10ff5fa68ac2e5\n",
      "  Stored in directory: c:\\users\\dell\\appdata\\local\\pip\\cache\\wheels\\73\\2b\\cb\\099980278a0c9a3e57ff1a89875ec07bfa0b6fcbebb9a8cad3\n",
      "Successfully built bs4\n",
      "Installing collected packages: bs4\n",
      "Successfully installed bs4-0.0.1\n"
     ]
    }
   ],
   "source": [
    "!pip install bs4"
   ]
  }
 ],
 "metadata": {
  "kernelspec": {
   "display_name": "Python 3 (ipykernel)",
   "language": "python",
   "name": "python3"
  },
  "language_info": {
   "codemirror_mode": {
    "name": "ipython",
    "version": 3
   },
   "file_extension": ".py",
   "mimetype": "text/x-python",
   "name": "python",
   "nbconvert_exporter": "python",
   "pygments_lexer": "ipython3",
   "version": "3.9.7"
  }
 },
 "nbformat": 4,
 "nbformat_minor": 5
}
