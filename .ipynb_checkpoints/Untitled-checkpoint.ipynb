{
 "cells": [
  {
   "cell_type": "code",
   "execution_count": 1,
   "id": "e7b3f426",
   "metadata": {},
   "outputs": [],
   "source": [
    "import pandas as pd"
   ]
  },
  {
   "cell_type": "code",
   "execution_count": 2,
   "id": "8c1f17ee",
   "metadata": {},
   "outputs": [
    {
     "data": {
      "text/plain": [
       "0    12\n",
       "1    -4\n",
       "2     9\n",
       "dtype: int64"
      ]
     },
     "execution_count": 2,
     "metadata": {},
     "output_type": "execute_result"
    }
   ],
   "source": [
    "# on vas crer une serie \n",
    "s=pd.Series([12,-4,9])\n",
    "s"
   ]
  },
  {
   "cell_type": "code",
   "execution_count": 4,
   "id": "fc16b431",
   "metadata": {},
   "outputs": [
    {
     "data": {
      "text/plain": [
       "Dakar      12\n",
       "Kaolack    -4\n",
       "fatick      9\n",
       "dtype: int64"
      ]
     },
     "execution_count": 4,
     "metadata": {},
     "output_type": "execute_result"
    }
   ],
   "source": [
    "# on vas crer une serie \n",
    "s=pd.Series([12,-4,9],index=[\"Dakar\",\"Kaolack\",\"fatick\"])\n",
    "s"
   ]
  },
  {
   "cell_type": "code",
   "execution_count": 11,
   "id": "e17a0f95",
   "metadata": {},
   "outputs": [],
   "source": [
    "s[\"Kaolack\"]\n",
    "s[1:2]\n",
    "s[\"Kaolack\"]=100"
   ]
  },
  {
   "cell_type": "code",
   "execution_count": 15,
   "id": "1ea27171",
   "metadata": {},
   "outputs": [
    {
     "data": {
      "text/plain": [
       "Kaolack    100\n",
       "dtype: int64"
      ]
     },
     "execution_count": 15,
     "metadata": {},
     "output_type": "execute_result"
    }
   ],
   "source": [
    "s[s>12]\n"
   ]
  },
  {
   "cell_type": "code",
   "execution_count": 16,
   "id": "950e06c3",
   "metadata": {},
   "outputs": [
    {
     "data": {
      "text/plain": [
       "Dakar       6.0\n",
       "Kaolack    50.0\n",
       "fatick      4.5\n",
       "dtype: float64"
      ]
     },
     "execution_count": 16,
     "metadata": {},
     "output_type": "execute_result"
    }
   ],
   "source": [
    "s/2"
   ]
  },
  {
   "cell_type": "code",
   "execution_count": 18,
   "id": "6baa4fe1",
   "metadata": {},
   "outputs": [
    {
     "ename": "NameError",
     "evalue": "name 'a' is not defined",
     "output_type": "error",
     "traceback": [
      "\u001b[1;31m---------------------------------------------------------------------------\u001b[0m",
      "\u001b[1;31mNameError\u001b[0m                                 Traceback (most recent call last)",
      "\u001b[1;32m~\\AppData\\Local\\Temp/ipykernel_9544/4123539200.py\u001b[0m in \u001b[0;36m<module>\u001b[1;34m\u001b[0m\n\u001b[1;32m----> 1\u001b[1;33m \u001b[0ma\u001b[0m\u001b[1;33m.\u001b[0m\u001b[0madd\u001b[0m\u001b[1;33m(\u001b[0m\u001b[1;34m\"a\"\u001b[0m\u001b[1;33m)\u001b[0m\u001b[1;33m\u001b[0m\u001b[1;33m\u001b[0m\u001b[0m\n\u001b[0m",
      "\u001b[1;31mNameError\u001b[0m: name 'a' is not defined"
     ]
    }
   ],
   "source": []
  },
  {
   "cell_type": "code",
   "execution_count": 19,
   "id": "53e21fe6",
   "metadata": {},
   "outputs": [],
   "source": [
    "a=set()"
   ]
  },
  {
   "cell_type": "code",
   "execution_count": 20,
   "id": "fed4634d",
   "metadata": {},
   "outputs": [],
   "source": [
    "a.add(\"b\")"
   ]
  },
  {
   "cell_type": "code",
   "execution_count": 23,
   "id": "ab744f48",
   "metadata": {},
   "outputs": [],
   "source": [
    "serd=pd.Series([2,3,2,3,12,-4,9],index=[\"a\",\"b\",\"b\",\"Dakar\",\"Kaolack\",\"fatick\",\"a\"])"
   ]
  },
  {
   "cell_type": "code",
   "execution_count": null,
   "id": "cf36baf3",
   "metadata": {},
   "outputs": [],
   "source": []
  }
 ],
 "metadata": {
  "kernelspec": {
   "display_name": "Python 3 (ipykernel)",
   "language": "python",
   "name": "python3"
  },
  "language_info": {
   "codemirror_mode": {
    "name": "ipython",
    "version": 3
   },
   "file_extension": ".py",
   "mimetype": "text/x-python",
   "name": "python",
   "nbconvert_exporter": "python",
   "pygments_lexer": "ipython3",
   "version": "3.9.7"
  }
 },
 "nbformat": 4,
 "nbformat_minor": 5
}
