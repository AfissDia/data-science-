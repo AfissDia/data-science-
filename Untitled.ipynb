{
 "cells": [
  {
   "cell_type": "markdown",
   "id": "f117f517",
   "metadata": {},
   "source": [
    "# Scrapping"
   ]
  },
  {
   "cell_type": "code",
   "execution_count": 2,
   "id": "9810d46c",
   "metadata": {},
   "outputs": [],
   "source": [
    "from bs4 import BeautifulSoup\n",
    "import requests"
   ]
  },
  {
   "cell_type": "code",
   "execution_count": 4,
   "id": "bb64c4d8",
   "metadata": {},
   "outputs": [
    {
     "name": "stdout",
     "output_type": "stream",
     "text": [
      "b'<!DOCTYPE html>\\n<html lang=\"fr\" dir=\"ltr\" prefix=\"content: http://purl.org/rss/1.0/modules/content/  dc: http://purl.org/dc/terms/  foaf: http://xmlns.com/foaf/0.1/  og: http://ogp.me/ns#  rdfs: http://www.w3.org/2000/01/rdf-schema#  schema: http://schema.org/  sioc: http://rdfs.org/sioc/ns#  sioct: http://rdfs.org/sioc/types#  skos: http://www.w3.org/2004/02/skos/core#  xsd: http://www.w3.org/2001/XMLSchema# \">\\n  <head> \\n    <meta charset=\"utf-8\" />\\n<meta name=\"Generator\" content=\"Drupal 8 (https://www.drupal.org)\" />\\n<meta name=\"MobileOptimized\" content=\"width\" />\\n<meta name=\"HandheldFriendly\" content=\"true\" />\\n<meta name=\"viewport\" content=\"width=device-width, initial-scale=1.0\" />\\n<link rel=\"shortcut icon\" href=\"/sites/default/files/favicon-16x16.png\" type=\"image/png\" />\\n<link rel=\"canonical\" href=\"https://www.ucad.sn/accueil\" />\\n<link rel=\"shortlink\" href=\"https://www.ucad.sn/node/1\" />\\n\\n    <title>Accueil | Universit\\xc3\\xa9 Cheikh Anta Diop de Dakar</title>\\n    <link rel=\"stylesheet\" media=\"all\" href=\"/sites/default/files/css/css_vIFzLuB4mHKjCGMDpcjnBAWCGBt-wJf7C6YodiGmIaM.css\" />\\n<link rel=\"stylesheet\" media=\"all\" href=\"//fonts.googleapis.com/css?family=Roboto+Condensed:400,700\" />\\n<link rel=\"stylesheet\" media=\"all\" href=\"//fonts.googleapis.com/css?family=Roboto:400,500,700\" />\\n<link rel=\"stylesheet\" media=\"all\" href=\"/sites/default/files/css/css_1ocDPX3onqEY7VlyIYbHbCRHQ4r3h4h_Mr_Z7eqVook.css\" />\\n\\n\\n    <script type=\"application/json\" data-drupal-selector=\"drupal-settings-json\">{\"path\":{\"baseUrl\":\"\\\\/\",\"scriptPath\":null,\"pathPrefix\":\"\",\"currentPath\":\"node\\\\/1\",\"currentPathIsAdmin\":false,\"isFront\":true,\"currentLanguage\":\"fr\"},\"pluralDelimiter\":\"\\\\u0003\",\"suppressDeprecationErrors\":true,\"ajaxPageState\":{\"libraries\":\"core\\\\/html5shiv,gavias_blockbuilder\\\\/gavias_blockbuilder.assets.frontend,gavias_sliderlayer\\\\/gavias_sliderlayer.assets.frontend,gavias_zaven\\\\/gavias_zaven.skin.default,gavias_zaven\\\\/global-styling,statistics\\\\/drupal.statistics,system\\\\/base,twitter_block\\\\/widgets,views\\\\/views.ajax,views\\\\/views.module\",\"theme\":\"gavias_zaven\",\"theme_token\":null},\"ajaxTrustedUrl\":{\"\\\\/search\\\\/node\":true},\"statistics\":{\"data\":{\"nid\":\"1\"},\"url\":\"\\\\/core\\\\/modules\\\\/statistics\\\\/statistics.php\"},\"views\":{\"ajax_path\":\"\\\\/views\\\\/ajax\",\"ajaxViews\":{\"views_dom_id:372136cab64c2c023e8097314419f043f58dff8b6b4d2a6204e9a88fcf5695c6\":{\"view_name\":\"post_other\",\"view_display_id\":\"block_14\",\"view_args\":\"\",\"view_path\":\"\\\\/node\\\\/1\",\"view_base_path\":\"blogs-pub\",\"view_dom_id\":\"372136cab64c2c023e8097314419f043f58dff8b6b4d2a6204e9a88fcf5695c6\",\"pager_element\":0},\"views_dom_id:70e014f5fe9072511da4d2dd03d3eebf714c3e2f0c187bad690e15fedf730e74\":{\"view_name\":\"portrait\",\"view_display_id\":\"block_9\",\"view_args\":\"\",\"view_path\":\"\\\\/node\\\\/1\",\"view_base_path\":\"blogs-portrait\",\"view_dom_id\":\"70e014f5fe9072511da4d2dd03d3eebf714c3e2f0c187bad690e15fedf730e74\",\"pager_element\":0},\"views_dom_id:0a77f7352e159728fb8bb2b5027846279bbfb3750bb89927bbe1d851f5c6091b\":{\"view_name\":\"post_other\",\"view_display_id\":\"block_11\",\"view_args\":\"\",\"view_path\":\"\\\\/node\\\\/1\",\"view_base_path\":\"blogs-recrutement\",\"view_dom_id\":\"0a77f7352e159728fb8bb2b5027846279bbfb3750bb89927bbe1d851f5c6091b\",\"pager_element\":0},\"views_dom_id:fa2dd9708be76835455cbd6261887a4cf3dbf9b42b4841de4a06f9db649a6bc9\":{\"view_name\":\"post_other\",\"view_display_id\":\"block_10\",\"view_args\":\"\",\"view_path\":\"\\\\/node\\\\/1\",\"view_base_path\":\"blogs-bourse\",\"view_dom_id\":\"fa2dd9708be76835455cbd6261887a4cf3dbf9b42b4841de4a06f9db649a6bc9\",\"pager_element\":0},\"views_dom_id:d15b30e246f7c11100e412b0b8d5f15caafef9be891668ffc8e229b35632906a\":{\"view_name\":\"post_other\",\"view_display_id\":\"block_7\",\"view_args\":\"\",\"view_path\":\"\\\\/node\\\\/1\",\"view_base_path\":\"blogs-actu\",\"view_dom_id\":\"d15b30e246f7c11100e412b0b8d5f15caafef9be891668ffc8e229b35632906a\",\"pager_element\":0}}},\"gavias_blockbuilder\":{\"url_edit\":\"\\\\/admin\\\\/structure\\\\/gavias_blockbuilder\\\\/edit\\\\/-----\"},\"layzy_load\":\"off\",\"gavias_load_ajax_view\":\"\\\\/custom\\\\/gavias_hook\\\\/ajax_view\",\"user\":{\"uid\":0,\"permissionsHash\":\"cedc95f409cd70f4dfcfe4ed65126d632ec144f71d10718a30cf25bb41177aa1\"}}</script>\\n\\n<!--[if lte IE 8]>\\n<script src=\"/sites/default/files/js/js_VtafjXmRvoUgAzqzYTA3Wrjkx9wcWhjP0G4ZnnqRamA.js\"></script>\\n<![endif]-->\\n<script src=\"/sites/default/files/js/js_LRYJtYR2FtqONadM0ZV_Mgzt_WMtxSPT1EXGXBLA6dk.js\"></script>\\n\\n\\n    <link rel=\"stylesheet\" href=\"https://www.ucad.sn/themes/gavias_zaven/css/custom.css\" media=\"screen\" />\\n    <link rel=\"stylesheet\" href=\"https://www.ucad.sn/themes/gavias_zaven/css/update.css\" media=\"screen\" />\\n\\n    \\n\\n    \\n          <style class=\"customize\"></style>\\n    \\n  </head>\\n\\n  \\n  <body class=\"hidden-title layout-no-sidebars boxed js-preloader frontpage node--type-page\">\\n    <div class=\"body-page-inner\">\\n      <a href=\"#main-content\" class=\"visually-hidden focusable\">\\n        Aller au contenu principal\\n      </a>\\n      \\n        <div class=\"dialog-off-canvas-main-canvas\" data-off-canvas-main-canvas>\\n    <div class=\"body-page-content\">\\n\\t<div class=\"body-page gva-body-page\">\\n\\t\\t    <div id=\"jpreContent\">\\n        <div id=\"jprecontent-inner\">\\n           <div class=\"preloader-wrapper hidden active\">\\n              <img src=\"https://www.ucad.sn/themes/gavias_zaven/images/preloader/preloader-7.gif\" alt=\"\" />\\n           </div>  \\n        </div>\\n      </div>\\n   \\t   <header id=\"header\" class=\"header-v1\">\\n  \\n      <div class=\"topbar\">\\n      <div class=\"topbar-inner\">\\n        <div class=\"container\">\\n          <div class=\"row\">\\n            <div class=\"col-lg-12 col-sm-12\">\\n              <div class=\"topbar-content\">  <div>\\n    <div id=\"block-topbar\" class=\"block block-block-content block-block-contenta87cb642-bb80-4bd8-9bb0-ed5e2d4da5e0 no-title\">\\n  \\n    \\n      <div class=\"content block-content\">\\n      \\n            <div class=\"field field--name-body field--type-text-with-summary field--label-hidden field__item\"><!--\\n<div class=\"pull-left text-left\">\\n      <ul class=\"inline\">\\n            <li><span> <i class=\"fa fa-clock-o\"></i>Du lundi au vendredi de 08h \\xc3\\xa0 18h - le Samedi de 8h \\xc3\\xa0 12h</span> </li>\\n           <li><span><i class=\"fa fa-envelope\"></i>rectorat@ucad.edu.sn</span></li>\\n      </ul>\\n</div>\\n-->\\n<div class=\"pull-left text-left\">\\n      <ul class=\"inline\">\\n            <li><span><a href=\"https://outlook.office365.com\" target=\"_blank\">Messagerie</a></span> | </li>\\n           <li><span><a href=\"https://www.bu.ucad.sn\" target=\"_blank\">Biblioth\\xc3\\xa8que universitaire</a></span> | </li>\\n           <li><span><a href=\"https://fad.ucad.sn/\" target=\"_blank\">Elearning/FAD</a></span> | </li>\\n           <li><span><a href=\"https://recherche.ucad.sn/?q=article/annuaire-des-chercheurs\" target=\"_blank\">Annuaire des chercheurs</a></span> | </li>\\n           <li><span><a href=\"https://www.renaissanceafricaine.com/\" target=\"_blank\">Chaire Renaissance Africaine</a></span></li>\\n      </ul></p>\\n</div>\\n\\n\\n<div class=\"pull-right text-right\">\\n     <ul class=\"inline\">\\n           <li><a href=\"https://twitter.com/ucad_senegal\" target=\"_blank\"><i class=\"fa fa-twitter\"></i></a></li>\\n            <li><a href=\"https://www.facebook.com/ucad-senegal\"  target=\"_blank\"><i class=\"fa fa-facebook\"></i></a></li>\\n            <li><a href=\"https://www.youtube.com/channel/UCzcVRpv07-CqSTylEtrLFNw\"  target=\"_blank\"><i class=\"fa fa-youtube\"></i></a></li>\\n            <li><a href=\"https://instagram.com/ucad_senegal\"  target=\"_blank\"><i class=\"fa fa-instagram\"></i></a></li>\\n            <li><a href=\"https://www.linkedin.com/company/ucadsenegal\"  target=\"_blank\"><i class=\"fa fa-linkedin\"></i></a></li>\\n      </ul>\\n</div></div>\\n      \\n    </div>\\n  </div>\\n\\n  </div>\\n</div> \\n            </div>\\n          </div>   \\n        </div>\\n      </div>\\n    </div>\\n  \\n            \\n\\n   <div class=\"header-main\">\\n      <div class=\"header-top\">\\n        <div class=\"container\">\\n          <div class=\"header-main-inner\">\\n            <div class=\"row\">\\n              <div class=\"col-md-3 col-sm-3 col-xs-5 branding\">\\n                                    <div>\\n    \\n      <a href=\"/\" title=\"Accueil\" rel=\"home\" class=\"site-branding-logo\">\\n        \\n        <img src=\"/sites/default/files/logo_0.jpg\" alt=\"Accueil\" />\\n        \\n    </a>\\n    \\n  </div>\\n\\n                              </div>\\n\\n              <div class=\"col-md-9 col-sm-9 col-xs-7 p-static header-right\">\\n                <div class=\"header-inner clearfix\">\\n                                  </div> \\n              </div>\\n            </div>\\n          </div>\\n        </div> \\n      </div>\\n      <div class=\"header-bottom gv-sticky-menu\">\\n        <div class=\"container\">\\n          <div class=\"row\">\\n            <div class=\"col-xs-12\">\\n              <div class=\"main-menu\">\\n                <div class=\"area-main-menu\">\\n                  <div class=\"area-inner\">\\n                    \\n                    <div class=\"gva-offcanvas-mobile\">\\n                      <div class=\"close-offcanvas hidden\"><i class=\"fa fa-times\"></i></div>\\n                                                <div>\\n    <nav aria-labelledby=\"block-mainnavigation-menu\" id=\"block-mainnavigation\" class=\"block block-menu navigation menu--main\">\\n          \\n  \\n  <h2  class=\"visually-hidden block-title\" id=\"block-mainnavigation-menu\"><span>Main navigation</span></h2>\\n  \\n  <div class=\"block-content\">\\n                 \\n<div class=\"gva-navigation\">\\n  <ul  class=\"clearfix gva_menu gva_menu_main\"><li  class=\"menu-item menu-item--active-trail \"><a href=\"/\">\\n                        Accueil \\n                                  </a></li><li  class=\"menu-item menu-item--expanded \"><a href=\"\">\\n                        Qui sommes-nous? \\n            <span class=\"icaret nav-plus fa fa-angle-down\"></span></a><ul class=\"menu sub-menu\"><li  class=\"menu-item\"><a href=\"/node/96\">\\n                        Historique \\n                                  </a></li><li  class=\"menu-item\"><a href=\"/node/98\">\\n                        Dates rep\\xc3\\xa9res \\n                                  </a></li><li  class=\"menu-item\"><a href=\"/node/97\">\\n                        Le parrain : Cheikh Anta Diop \\n                                  </a></li><li  class=\"menu-item\"><a href=\"/node/199\">\\n                        Embleme de l&#039;UCAD \\n                                  </a></li><li  class=\"menu-item menu-item--expanded\"><a href=\"\">\\n                        Rectorat \\n            <span class=\"icaret nav-plus fa fa-angle-down\"></span></a><ul class=\"menu sub-menu\"><li  class=\"menu-item menu-item--expanded\"><a href=\"/node/100\">\\n                        Cabinet du Recteur \\n            <span class=\"icaret nav-plus fa fa-angle-down\"></span></a><ul class=\"menu sub-menu\"><li  class=\"menu-item\"><a href=\"/node/140\">\\n                        Des Charg\\xc3\\xa9s de communication, de mission et du Suivi \\n                                  </a></li><li  class=\"menu-item\"><a href=\"/node/139\">\\n                        Des conseillers \\n                                  </a></li><li  class=\"menu-item\"><a href=\"/node/101\">\\n                        Direction de l\\xe2\\x80\\x99Audit interne \\n                                  </a></li><li  class=\"menu-item\"><a href=\"/node/102\">\\n                        Direction des Etudes et des Statistiques \\n                                  </a></li></ul></li><li  class=\"menu-item menu-item--expanded\"><a href=\"/node/141\">\\n                        Secr\\xc3\\xa9tariat g\\xc3\\xa9n\\xc3\\xa9ral \\n            <span class=\"icaret nav-plus fa fa-angle-down\"></span></a><ul class=\"menu sub-menu\"><li  class=\"menu-item\"><a href=\"/node/142\">\\n                        Cellule de Passation des March\\xc3\\xa9s \\n                                  </a></li><li  class=\"menu-item\"><a href=\"/node/143\">\\n                        Service du Courrier et des Archives \\n                                  </a></li><li  class=\"menu-item\"><a href=\"/node/144\">\\n                        Division Suivi et coordination des instances \\n                                  </a></li><li  class=\"menu-item\"><a href=\"/node/145\">\\n                        Cellule de Surveillance et de S\\xc3\\xa9curit\\xc3\\xa9 \\n                                  </a></li><li  class=\"menu-item\"><a href=\"/node/146\">\\n                        Garage Central du Rectorat \\n                                  </a></li></ul></li><li  class=\"menu-item\"><a href=\"/node/167\">\\n                        Direction des Finances et de la Comptabilit\\xc3\\xa9 \\n                                  </a></li><li  class=\"menu-item\"><a href=\"/node/168\">\\n                        Direction des Affaires juridiques \\n                                  </a></li><li  class=\"menu-item\"><a href=\"/node/169\">\\n                        Direction de la Gestion du Domaine universitaire \\n                                  </a></li><li  class=\"menu-item\"><a href=\"/node/170\">\\n                        Direction de l&#039;Environnement et du Cadre de vie \\n                                  </a></li><li  class=\"menu-item\"><a href=\"/node/171\">\\n                        Direction du Centre d&#039;Incubation, de Vulgarisation et d&#039;Appui aux Communaut\\xc3\\xa9s \\n                                  </a></li><li  class=\"menu-item\"><a href=\"/node/172\">\\n                        Direction des Ressources Humaines \\n                                  </a></li><li  class=\"menu-item\"><a href=\"/node/173\">\\n                        Direction de l&#039;Informatique et des Syst\\xc3\\xa8mes d&#039;Information \\n                                  </a></li><li  class=\"menu-item\"><a href=\"/node/174\">\\n                        Direction de la Coop\\xc3\\xa9ration \\n                                  </a></li><li  class=\"menu-item\"><a href=\"/node/175\">\\n                        Direction de la Vie universitaire et du Service \\xc3\\xa0 la Communaut\\xc3\\xa9 \\n                                  </a></li><li  class=\"menu-item\"><a href=\"/node/147\">\\n                        Direction de la Recherche et de l&#039;Innovation \\n                                  </a></li><li  class=\"menu-item\"><a href=\"/node/148\">\\n                        Direction des Affaires p\\xc3\\xa9dagogiques \\n                                  </a></li><li  class=\"menu-item\"><a href=\"/node/149\">\\n                        Direction de l&#039;Animation culturelle et Scientifique \\n                                  </a></li><li  class=\"menu-item\"><a href=\"/node/150\">\\n                        Direction de la Communication \\n                                  </a></li><li  class=\"menu-item\"><a href=\"/node/151\">\\n                        Direction des Presses Universitaires \\n                                  </a></li><li  class=\"menu-item\"><a href=\"/node/152\">\\n                        Direction de la Cellule Interne d&#039;Assurance Qualit\\xc3\\xa9 \\n                                  </a></li><li  class=\"menu-item\"><a href=\"/node/177\">\\n                        Direction des approvisionnements et march\\xc3\\xa9s publics \\n                                  </a></li></ul></li><li  class=\"menu-item\"><a href=\"/node/198\">\\n                        Les Recteurs de l&#039;UCAD \\n                                  </a></li><li  class=\"menu-item\"><a href=\"/node/178\">\\n                        Fondation UCAD \\n                                  </a></li><li  class=\"menu-item\"><a href=\"/node/293\">\\n                        Services communs \\n                                  </a></li></ul></li><li  class=\"menu-item menu-item--expanded \"><a href=\"\">\\n                        Etudier \\xc3\\xa0 l&#039;UCAD \\n            <span class=\"icaret nav-plus fa fa-angle-down\"></span></a><ul class=\"menu sub-menu\"><li  class=\"menu-item menu-item--expanded\"><a href=\"https://repformations.ucad.sn\">\\n                        Formations \\n            <span class=\"icaret nav-plus fa fa-angle-down\"></span></a><ul class=\"menu sub-menu\"><li  class=\"menu-item\"><a href=\"https://repformations.ucad.sn/domaine-formations/22\">\\n                        Lettres, Langues et Arts \\n                                  </a></li><li  class=\"menu-item\"><a href=\"https://repformations.ucad.sn/domaine-formations/21\">\\n                        Sciences Economiques et de Gestion \\n                                  </a></li><li  class=\"menu-item\"><a href=\"https://repformations.ucad.sn/domaine-formations/47\">\\n                        Sciences Juridiques, Politiques et de l&#039;Administration \\n                                  </a></li><li  class=\"menu-item\"><a href=\"https://repformations.ucad.sn/domaine-formations/49\">\\n                        Sciences de l&#039;Education et de la Formation \\n                                  </a></li><li  class=\"menu-item\"><a href=\"https://repformations.ucad.sn/domaine-formations/46\">\\n                        Sciences de la Sant\\xc3\\xa9 \\n                                  </a></li><li  class=\"menu-item\"><a href=\"https://repformations.ucad.sn/domaine-formations/23\">\\n                        Sciences de l\\xe2\\x80\\x99Homme et de la Soci\\xc3\\xa9t\\xc3\\xa9 \\n                                  </a></li><li  class=\"menu-item\"><a href=\"https://repformations.ucad.sn/domaine-formations/1\">\\n                        Sciences et Technologies \\n                                  </a></li></ul></li><li  class=\"menu-item menu-item--expanded\"><a href=\"\">\\n                        Admission \\n            <span class=\"icaret nav-plus fa fa-angle-down\"></span></a><ul class=\"menu sub-menu\"><li  class=\"menu-item\"><a href=\"/titulaire-de-baccalaureats-senegalais\">\\n                        S\\xc3\\xa9n\\xc3\\xa9galais \\n                                  </a></li><li  class=\"menu-item\"><a href=\"/titulaire-de-baccalaureats-etrangers\">\\n                        Etrangers \\n                                  </a></li></ul></li><li  class=\"menu-item\"><a href=\"/preinscription\">\\n                        Pr\\xc3\\xa9inscription \\n                                  </a></li><li  class=\"menu-item\"><a href=\"/inscription-et-reinscription\">\\n                        Inscription et R\\xc3\\xa9inscription \\n                                  </a></li><li  class=\"menu-item menu-item--expanded\"><a href=\"\">\\n                        Textes cadres \\n            <span class=\"icaret nav-plus fa fa-angle-down\"></span></a><ul class=\"menu sub-menu\"><li  class=\"menu-item\"><a href=\"/droits-dinscription\">\\n                        Droits d&#039;inscription \\n                                  </a></li><li  class=\"menu-item\"><a href=\"/lmd-mode-demploi\">\\n                        LMD : Mode d&#039;emploi \\n                                  </a></li><li  class=\"menu-item\"><a href=\"/nouveaux-textes-sur-le-lmd\">\\n                        Nouveaux textes sur le LMD \\n                                  </a></li><li  class=\"menu-item\"><a href=\"/loi-ndeg-2011-05-du-30-mars-2011-relative-lorganisation-du-systeme-lmd-dans-les-etablissements\">\\n                        Organisation du Syst\\xc3\\xa8me LMD \\n                                  </a></li></ul></li><li  class=\"menu-item menu-item--expanded\"><a href=\"\">\\n                        Etablissements \\n            <span class=\"icaret nav-plus fa fa-angle-down\"></span></a><ul class=\"menu sub-menu\"><li  class=\"menu-item menu-item--collapsed\"><a href=\"/listefacultes\">\\n                        Facult\\xc3\\xa9s \\n                                  </a></li><li  class=\"menu-item menu-item--collapsed\"><a href=\"/listeecoles\">\\n                        Ecoles et Instituts ayant rang de facult\\xc3\\xa9 \\n                                  </a></li><li  class=\"menu-item\"><a href=\"/node/176\">\\n                        Ecoles et Instituts d&#039;Universit\\xc3\\xa9 \\n                                  </a></li><li  class=\"menu-item\"><a href=\"/node/290\">\\n                        Instituts de Facult\\xc3\\xa9 \\n                                  </a></li></ul></li></ul></li><li  class=\"menu-item \"><a href=\"https://entpersonnel.ucad.sn/home/service_10\">\\n                        Ressources Documentaires \\n                                  </a></li><li  class=\"menu-item menu-item--expanded \"><a href=\"\">\\n                        Recherche/Coop\\xc3\\xa9ration \\n            <span class=\"icaret nav-plus fa fa-angle-down\"></span></a><ul class=\"menu sub-menu\"><li  class=\"menu-item\"><a href=\"https://recherche.ucad.sn\">\\n                        Recherche \\n                                  </a></li><li  class=\"menu-item\"><a href=\"https://cooperation.ucad.sn\">\\n                        Coop\\xc3\\xa9ration \\n                                  </a></li></ul></li><li  class=\"menu-item menu-item--expanded \"><a href=\"\">\\n                        Service Digital \\n            <span class=\"icaret nav-plus fa fa-angle-down\"></span></a><ul class=\"menu sub-menu\"><li  class=\"menu-item menu-item--expanded\"><a href=\"\">\\n                        Etudiants \\n            <span class=\"icaret nav-plus fa fa-angle-down\"></span></a><ul class=\"menu sub-menu\"><li  class=\"menu-item\"><a href=\"/preinscription-en-ligne\">\\n                        Pr\\xc3\\xa9inscription en ligne \\n                                  </a></li><li  class=\"menu-item\"><a href=\"/admission\">\\n                        Admission \\n                                  </a></li><li  class=\"menu-item\"><a href=\"/demande-dequivalence\">\\n                        Demande d&#039;\\xc3\\xa9quivalence \\n                                  </a></li><li  class=\"menu-item\"><a href=\"/centre-etudiant\">\\n                        Centre Etudiant \\n                                  </a></li></ul></li><li  class=\"menu-item menu-item--expanded\"><a href=\"\">\\n                        Personnel \\n            <span class=\"icaret nav-plus fa fa-angle-down\"></span></a><ul class=\"menu sub-menu\"><li  class=\"menu-item\"><a href=\"/annuaire-du-personnel\">\\n                        Annuaire du personnel \\n                                  </a></li><li  class=\"menu-item\"><a href=\"/demande-de-macaron\">\\n                        Demande de macaron \\n                                  </a></li><li  class=\"menu-item\"><a href=\"/environnement-numerique-de-travail\">\\n                        Environnement Num\\xc3\\xa9rique de Travail \\n                                  </a></li></ul></li><li  class=\"menu-item menu-item--expanded\"><a href=\"\">\\n                        Partenaires \\n            <span class=\"icaret nav-plus fa fa-angle-down\"></span></a><ul class=\"menu sub-menu\"><li  class=\"menu-item\"><a href=\"/authentification-certificat-dinscription\">\\n                        Authentification Certificat d&#039;inscription \\n                                  </a></li></ul></li></ul></li><li  class=\"menu-item \"><a href=\"http://anads.ansd.sn/index.php/catalog\">\\n                        Centre de Donn\\xc3\\xa9es \\n                                  </a></li><li  class=\"menu-item \"><a href=\"/node/72\">\\n                        Contact \\n                                  </a></li></ul></div>\\n\\n\\n        </div>  \\n</nav>\\n\\n  </div>\\n\\n                        \\n                                          </div>\\n                      \\n                    <div id=\"menu-bar\" class=\"menu-bar hidden-lg hidden-md\">\\n                      <span class=\"one\"></span>\\n                      <span class=\"two\"></span>\\n                      <span class=\"three\"></span>\\n                    </div>\\n                    \\n                                          <div class=\"gva-search-region search-region\">\\n                        <span class=\"icon\"><i class=\"fa fa-search\"></i></span>\\n                        <div class=\"search-content\">  \\n                            <div>\\n    <div class=\"search-block-form block block-search container-inline\" data-drupal-selector=\"search-block-form\" id=\"block-searchform\" role=\"search\">\\n  \\n    \\n      <form action=\"/search/node\" method=\"get\" id=\"search-block-form\" accept-charset=\"UTF-8\" class=\"search-form search-block-form\">\\n  <div class=\"js-form-item form-item js-form-type-search form-item-keys js-form-item-keys form-no-label\">\\n      <label for=\"edit-keys\" class=\"visually-hidden\">Search</label>\\n        <input title=\"Indiquer les termes \\xc3\\xa0 rechercher\" data-drupal-selector=\"edit-keys\" type=\"search\" id=\"edit-keys\" name=\"keys\" value=\"\" size=\"15\" maxlength=\"128\" class=\"form-search\" />\\n\\n        </div>\\n<div data-drupal-selector=\"edit-actions\" class=\"form-actions js-form-wrapper form-wrapper\" id=\"edit-actions\"><input class=\"search-form__submit button js-form-submit form-submit\" data-drupal-selector=\"edit-submit\" type=\"submit\" id=\"edit-submit\" value=\"Search\" />\\n</div>\\n\\n</form>\\n\\n  </div>\\n\\n  </div>\\n\\n                        </div>  \\n                      </div>\\n                    \\n                  </div>\\n                </div>\\n              </div>  \\n            </div>  \\n          </div>  \\n        </div>  \\n      </div>  \\n   </div>\\n\\n</header>\\n\\t\\t\\n\\t\\t\\n\\t\\t<div role=\"main\" class=\"main main-page\">\\n\\t\\t\\n\\t\\t\\t<div class=\"clearfix\"></div>\\n\\t\\t\\t\\t\\n\\n\\t\\t\\t\\t\\t\\t\\t<div class=\"help gav-help-region\">\\n\\t\\t\\t\\t\\t<div class=\"container\">\\n\\t\\t\\t\\t\\t\\t<div class=\"content-inner\">\\n\\t\\t\\t\\t\\t\\t\\t  <div>\\n    <div data-drupal-messages-fallback class=\"hidden\"></div>\\n\\n  </div>\\n\\n\\t\\t\\t\\t\\t\\t</div>\\n\\t\\t\\t\\t\\t</div>\\n\\t\\t\\t\\t</div>\\n\\t\\t\\t\\n\\t\\t\\t\\t\\t\\t\\n\\t\\t\\t<div class=\"clearfix\"></div>\\n\\t\\t\\t\\t\\t\\t\\n\\t\\t\\t<div class=\"clearfix\"></div>\\n\\t\\t\\t\\n\\t\\t\\t<div id=\"content\" class=\"content content-full\">\\n\\t\\t\\t\\t<div class=\"container-full\">\\n\\t\\t\\t\\t\\t<div class=\"content-main-inner\">\\n\\t<div id=\"page-main-content\" class=\"main-content\">\\n\\t\\t<div class=\"main-content-inner\">\\n\\t\\t\\t\\n\\t\\t\\t\\t\\t\\t\\t<div class=\"content-main\">\\n\\t\\t\\t\\t\\t  <div>\\n    <div id=\"block-gavias-zaven-content\" class=\"block block-system block-system-main-block no-title\">\\n  \\n    \\n      <div class=\"content block-content\">\\n      <!-- Start Display article for detail page -->\\n\\n  <article data-history-node-id=\"1\" role=\"article\" lang=\"en\" typeof=\"schema:WebPage\" class=\"node node--type-page node--view-mode-full\">\\n    <header>\\n      <div class=\"container\">\\n        <div class=\"widget gsc-heading align-left style-1 padding-bottom-20\">\\n          <h1 class=\"node__title title\">\\n            <span><span property=\"schema:name\">Accueil</span>\\n</span><span class=\"heading-line\"></span>\\n          </h1>\\n        </div>  \\n      </div>\\n    </header>\\n    <div class=\"node__content clearfix\">\\n      \\n            <div class=\"field field--name-field-block-builder field--type-blockbuilder field--label-hidden field__item\"><div class=\"gavias-blockbuilder-content\">\\n   \\n  <div class=\"gavias-blockbuilder-content\"><div class=\"gbb-row-wrapper\">\\n    <div class=\" gbb-row bg-size-cover\"  style=\"\" >\\n    <div class=\"bb-inner remove_margin remove_padding remove_padding_col\">  \\n      <div class=\"bb-container container-fw\">\\n        <div class=\"row\">\\n          <div class=\"row-wrapper clearfix\">\\n                          <div  class=\"gsc-column col-lg-12 col-md-12 col-sm-12 col-xs-12\">\\n                <div class=\"column-inner  bg-size-cover \" >\\n                  <div class=\"column-content-inner\">\\n                    <div class=\"widget gsc-block-drupal title-align-left  hidden-title-on remove-margin-on text-dark\"><div id=\"block-gavias-zaven-gaviassliderlayerslider1\" class=\"block block-gavias-sliderlayer block-gavias-sliderlayer-blockgavias-sliderlayer-block____1 no-title\">\\n  \\n    \\n      <div class=\"content block-content\">\\n      <div class=\"gavias_sliderlayer rev_slider_wrapper fullwidthbanner-container\" style=\"height:650px\" >\\n   <div id=\"i9u3b\" class=\"rev_slider fullwidthabanner\" data-version=\"5.4.1\">\\n      <ul>\\n         <li data-transition=\"random\" data-easein=\"Power0.easeIn\" data-easeout=\"Power1.easeOut\" data-slotamount=\"7\" data-kenburns=\"off\" data-masterspeed=\"default\" data-index=\"rs-1\" >\\n   \\t<img class=\"rev-slidebg\" src=\"/sites/default/files/gva-sliderlayer-upload/SAM_1225-g7fbm9.jpg\" alt=\"\"  data-duration=\"300\" data-bgparallax=\"8\"  data-scalestart=\"120\" data-scaleend=\"100\" data-kenburns=\"on\"  data-bgrepeat=\"no-repeat\" style=\"background-color:#f2f2f2\" data-bgfit=\"cover\" data-bgposition=\"center center\" /><div class=\"tp-caption large_bold_white btn-slide \" data-x=\"525\" data-y=\"64.99996948242188\" data-start=\"2279.00\" data-transform_idle=\"o:1;\" data-transform_in=\"x:inherit;y:[-100%];z:0;rX:0deg;rY:0;rZ:0;sX:1;sY:1;skX:0;skY:0;opacity:0;s:600;e:easeOutExpo;\" style=\"z-index:2\" >\\n  <a href=\"https://www.ucad.sn/signature-convention-ucad-et-cheds\">Lire la suite </a></div></li>\\n\\n<li data-transition=\"random\" data-easein=\"Power0.easeIn\" data-easeout=\"Power1.easeOut\" data-slotamount=\"7\" data-kenburns=\"off\" data-masterspeed=\"default\" data-index=\"rs-2\" >\\n   \\t<img class=\"rev-slidebg\" src=\"/sites/default/files/gva-sliderlayer-upload/SAM_1225.jpguu-apxm3e.jpg\" alt=\"\"  data-duration=\"300\" data-bgparallax=\"8\"  data-scalestart=\"120\" data-scaleend=\"100\" data-kenburns=\"on\"  data-bgrepeat=\"no-repeat\" style=\"background-color:#f2f2f2\" data-bgfit=\"cover\" data-bgposition=\"center center\" /><div class=\"tp-caption text btn-slide-white \" data-x=\"505\" data-y=\"410\" data-start=\"500.00\" data-transform_idle=\"o:1;\" data-transform_in=\"x:inherit;y:[-100%];z:0;rX:0deg;rY:0;rZ:0;sX:1;sY:1;skX:0;skY:0;opacity:0;s:600;e:easeOutExpo;\" style=\"z-index:2\" >\\n  <a href=\"https://www.ucad.sn/visite-du-recteur-de-luniversite-dankara-lucad\">Lire la suite </a></div></li>\\n\\n<li data-transition=\"random\" data-easein=\"Power0.easeIn\" data-easeout=\"Power1.easeOut\" data-slotamount=\"7\" data-kenburns=\"off\" data-masterspeed=\"default\" data-index=\"rs-3\" >\\n   \\t<img class=\"rev-slidebg\" src=\"/sites/default/files/gva-sliderlayer-upload/colloque-6y0v80.jpg\" alt=\"\"  data-duration=\"300\" data-bgparallax=\"8\"  data-scalestart=\"120\" data-scaleend=\"100\" data-kenburns=\"on\"  data-bgrepeat=\"no-repeat\" style=\"background-color:#f2f2f2\" data-bgfit=\"cover\" data-bgposition=\"center top\" /><div class=\"tp-caption large_bold_white btn-slide \" data-x=\"590\" data-y=\"310\" data-start=\"2279.00\" data-transform_idle=\"o:1;\" data-transform_in=\"x:inherit;y:[-100%];z:0;rX:0deg;rY:0;rZ:0;sX:1;sY:1;skX:0;skY:0;opacity:0;s:600;e:easeOutExpo;\" style=\"z-index:2\" >\\n  <a href=\"https://www.ucad.sn/colloque-lhonneur-du-pr-ibrahima-thioub-gloire-un-enseignant-emerite\">LIre la suite </a></div></li>\\n\\n<li data-transition=\"fade\" data-easein=\"Linear.easeNone\" data-easeout=\"Linear.easeNone\" data-slotamount=\"7\" data-kenburns=\"off\" data-masterspeed=\"default\" data-index=\"rs-4\" >\\n   \\t<img class=\"rev-slidebg\" src=\"/sites/default/files/gva-sliderlayer-upload/bn-g6u9ee.jpg\" alt=\"\"  data-duration=\"300\" data-bgparallax=\"8\"  data-scalestart=\"120\" data-scaleend=\"100\" data-kenburns=\"on\"  data-bgrepeat=\"no-repeat\" style=\"background-color:#f2f2f2\" data-bgfit=\"cover\" data-bgposition=\"center top\" /><div class=\"tp-caption text btn-slide \" data-x=\"425\" data-y=\"425\" data-start=\"0.00\" data-transform_idle=\"o:1;\" data-transform_in=\"x:inherit;y:[-100%];z:0;rX:0deg;rY:0;rZ:0;sX:1;sY:1;skX:0;skY:0;opacity:0;s:600;e:easeOutExpo;\" style=\"z-index:2\" >\\n  <a href=\"https://www.ucad.sn/ucad-classee-meilleure-universite-en-afrique-francophone\">En savoir plus </a></div></li>\\n\\n<li data-transition=\"random\" data-easein=\"Power0.easeIn\" data-easeout=\"Power1.easeOut\" data-slotamount=\"7\" data-kenburns=\"off\" data-masterspeed=\"default\" data-index=\"rs-5\" >\\n   \\t<img class=\"rev-slidebg\" src=\"/sites/default/files/gva-sliderlayer-upload/thumbnail_UCAD-RECTEUR SAM_6819-n9pvet.jpg\" alt=\"\"  data-duration=\"300\" data-bgparallax=\"8\"  data-scalestart=\"120\" data-scaleend=\"100\" data-kenburns=\"on\"  data-bgrepeat=\"no-repeat\" style=\"background-color:#f2f2f2\" data-bgfit=\"cover\" data-bgposition=\"center top\" /><div class=\"tp-caption very_big_black slide-style-3 \" data-x=\"495\" data-y=\"425\" data-start=\"2279.00\" data-transform_idle=\"o:1;\" data-transform_in=\"x:inherit;y:[-100%];z:0;rX:0deg;rY:0;rZ:0;sX:1;sY:1;skX:0;skY:0;opacity:0;s:600;e:easeOutExpo;\" style=\"z-index:2\" >\\n  <a href=\"https://www.ucad.sn/le-ministre-portugais-des-affaires-etrangeres-en-visite-lucad\">LIre la suite </a></div></li>\\n\\n<li data-transition=\"fade\" data-easein=\"Linear.easeNone\" data-easeout=\"Linear.easeNone\" data-slotamount=\"7\" data-kenburns=\"off\" data-masterspeed=\"default\" data-index=\"rs-6\" >\\n   \\t<img class=\"rev-slidebg\" src=\"/sites/default/files/gva-sliderlayer-upload/Pr Fall Pre\\xcc\\x81sident PAUSA 2 Tunis 2022 (1)-awqbpc.JPG\" alt=\"\"  data-duration=\"300\" data-bgparallax=\"8\"  data-scalestart=\"120\" data-scaleend=\"100\" data-kenburns=\"on\"  data-bgrepeat=\"no-repeat\" style=\"background-color:#f2f2f2\" data-bgfit=\"cover\" data-bgposition=\"center top\" /><div class=\"tp-caption text btn-slide \" data-x=\"425\" data-y=\"425\" data-start=\"0.00\" data-transform_idle=\"o:1;\" data-transform_in=\"x:inherit;y:[-100%];z:0;rX:0deg;rY:0;rZ:0;sX:1;sY:1;skX:0;skY:0;opacity:0;s:600;e:easeOutExpo;\" style=\"z-index:3\" >\\n  <a href=\"https://www.ucad.sn/fmpo-pr-papa-ahmed-fall-distingue\">En savoir plus </a></div><div class=\"tp-caption medium_bg_red \" data-x=\"0\" data-y=\"20\" data-start=\"500.00\" data-transform_idle=\"o:1;\" data-transform_in=\"x:inherit;y:[-100%];z:0;rX:0deg;rY:0;rZ:0;sX:1;sY:1;skX:0;skY:0;opacity:0;s:600;e:easeOutExpo;\" style=\"z-index:2\" >\\n  Pr Papa Ahmed Fall,\\nnouveau Pr\\xc3\\xa9sident de la Pan African Urological Surgeons\\xe2\\x80\\x99 Association (PAUSA)</div></li>\\n\\n<li data-transition=\"random\" data-easein=\"Power0.easeIn\" data-easeout=\"Power1.easeOut\" data-slotamount=\"7\" data-kenburns=\"off\" data-masterspeed=\"default\" data-index=\"rs-7\" >\\n   \\t<img class=\"rev-slidebg\" src=\"/sites/default/files/gva-sliderlayer-upload/bn2 copie-7kxcrz.jpg\" alt=\"\"  data-duration=\"300\" data-bgparallax=\"8\"  data-scalestart=\"120\" data-scaleend=\"100\" data-kenburns=\"on\"  data-bgrepeat=\"no-repeat\" style=\"background-color:#f2f2f2\" data-bgfit=\"cover\" data-bgposition=\"center top\" /><div class=\"tp-caption large_bold_white btn-slide \" data-x=\"590\" data-y=\"310\" data-start=\"2279.00\" data-transform_idle=\"o:1;\" data-transform_in=\"x:inherit;y:[-100%];z:0;rX:0deg;rY:0;rZ:0;sX:1;sY:1;skX:0;skY:0;opacity:0;s:600;e:easeOutExpo;\" style=\"z-index:2\" >\\n  <a href=\"https://www.ucad.sn/ed-edeque-dr-djim-mouhamadou-lamine-diongue-laureat-du-prix-meilleure-these\">LIre la suite </a></div></li>\\n\\n      </ul>\\n      <div class=\"tp-bannertimer tp-top\"></div>\\n   </div>\\n</div>\\n<script type=\"text/javascript\">\\n\\n  jQuery(document).ready(function($){\\n    jQuery(\\'#i9u3b\\').show().revolution({\"delay\":6000,\"gridheight\":650,\"gridwidth\":800,\"minHeight\":0,\"autoHeight\":\"off\",\"sliderType\":\"standard\",\"sliderLayout\":\"auto\",\"fullScreenAutoWidth\":\"on\",\"fullScreenAlignForce\":\"off\",\"fullScreenOffsetContainer\":\"\",\"fullScreenOffset\":\"0\",\"hideCaptionAtLimit\":0,\"hideAllCaptionAtLimit\":0,\"hideSliderAtLimit\":0,\"disableProgressBar\":\"off\",\"stopAtSlide\":-1,\"stopAfterLoops\":-1,\"shadow\":\"0\",\"dottedOverlay\":\"none\",\"startDelay\":0,\"lazyType\":\"none\",\"spinner\":\"spinner0\",\"shuffle\":\"off\",\"debugMode\":0,\"parallax\":{\"type\":\"mouse\",\"origo\":\"slidercenter\",\"speed\":2000,\"levels\":[4,5,6,7,12,16,10,50,46,47,48,49,50,55]},\"navigation\":{\"onHoverStop\":\"on\",\"touch\":{\"touchenabled\":\"on\"},\"arrows\":{\"enable\":true,\"left\":{\"h_align\":\"left\",\"v_align\":\"center\",\"h_offset\":20,\"v_offset\":0},\"right\":{\"h_align\":\"right\",\"v_align\":\"center\",\"h_offset\":20,\"v_offset\":0}},\"bullets\":{\"enable\":true,\"v_align\":\"bottom\",\"h_align\":\"center\",\"v_offset\":20,\"space\":10,\"tmp\":\"\"}}});\\n  });\\n\\n</script>\\n    </div>\\n  </div>\\n</div>                  </div>  \\n                                  </div>\\n              </div>\\n                \\n        </div>\\n      </div>\\n    </div>\\n  </div>  \\n  </div>  \\n</div><div class=\"gbb-row-wrapper\">\\n    <div class=\" gbb-row bg-size-cover\"  style=\"\" >\\n    <div class=\"bb-inner default\">  \\n      <div class=\"bb-container container\">\\n        <div class=\"row\">\\n          <div class=\"row-wrapper clearfix\">\\n                          <div  class=\"gsc-column col-lg-9 col-md-9 col-sm-12 col-xs-12\">\\n                <div class=\"column-inner  bg-size-cover \" >\\n                  <div class=\"column-content-inner\">\\n                                                  <div class=\"widget gsc-icon-box left text-dark\"  >\\r\\n               \\r\\n                                 <div class=\"highlight-icon\">\\r\\n                     <span class=\"icon-container fa-3x   text-theme \" >\\r\\n                                                   <span class=\"notes__dot--float-vert\"></span>\\r\\n                           <span class=\"notes__dot--float-horz\"></span>\\r\\n                           <span class=\"notes__dot--rotate\"></span>\\r\\n                           \\r\\n                        <span class=\"icon gv-icon-241\"></span>                                              </span>\\r\\n                  </div>\\r\\n               \\r\\n               <div class=\"highlight_content\">\\r\\n                  <div class=\"title\">\\r\\n                     <a href=\"https://outlook.office365.com/\" target=\"_blank\"> Messagerie Ucad.Edu.sn </a>                   </div>\\r\\n                                       <div class=\"desc\"><p>L\\'UCAD invite tous les acteurs de la communaut\\xc3\\xa9 universitaire \\xc3\\xa0 utiliser leur adresse email institutionnelle.\\xc2\\xa0</p>\\r\\n<p><a title=\"COUD\" href=\"https://outlook.office365.com/\" target=\"_blank\">Acc\\xc3\\xa9der \\xc3\\xa0 la messagerie</a></p></div>\\r\\n                     \\r\\n               </div>\\r\\n\\r\\n                \\r\\n            </div> \\r\\n            \\r\\n\\r\\n            \\r\\n\\r\\n                                       <div class=\"widget gsc-icon-box left text-dark\"  >\\r\\n               \\r\\n                                 <div class=\"highlight-icon\">\\r\\n                     <span class=\"icon-container fa-3x   text-theme \" >\\r\\n                                                   <span class=\"notes__dot--float-vert\"></span>\\r\\n                           <span class=\"notes__dot--float-horz\"></span>\\r\\n                           <span class=\"notes__dot--rotate\"></span>\\r\\n                           \\r\\n                        <span class=\"icon gv-icon-1083\"></span>                                              </span>\\r\\n                  </div>\\r\\n               \\r\\n               <div class=\"highlight_content\">\\r\\n                  <div class=\"title\">\\r\\n                     <a href=\"https://repformations.ucad.sn\" target=\"_blank\"> Offre de formation </a>                   </div>\\r\\n                                       <div class=\"desc\"><p>L\\'UCAD\\xc2\\xa0est compos\\xc3\\xa9 d\\'\\xc3\\xa9tablissements d\\'enseignement sup\\xc3\\xa9rieur de recherche r\\xc3\\xa9partis\\xc2\\xa0en\\xc2\\xa0facult\\xc3\\xa9s, \\xc3\\xa9coles sup\\xc3\\xa9rieures, instituts d\\'universit\\xc3\\xa9, \\xc3\\xa9coles doctorales ainsi que l\\'Ecole Inter-Etats des Sciences et M\\xc3\\xa9decine V\\xc3\\xa9t\\xc3\\xa9rinaires qui d\\xc3\\xa9pend scientifiquement de l\\'Universit\\xc3\\xa9.\\xc2\\xa0</p>\\r\\n<p><a title=\"R\\xc3\\xa9pertoire des formations de l\\'UCAD\" href=\"https://repformations.ucad.sn\" target=\"_blank\">Consulter le catalogue</a></p></div>\\r\\n                     \\r\\n               </div>\\r\\n\\r\\n                \\r\\n            </div> \\r\\n            \\r\\n\\r\\n            \\r\\n\\r\\n                                       <div class=\"widget gsc-icon-box left text-dark\"  >\\r\\n               \\r\\n                                 <div class=\"highlight-icon\">\\r\\n                     <span class=\"icon-container fa-3x   text-theme \" >\\r\\n                                                   <span class=\"notes__dot--float-vert\"></span>\\r\\n                           <span class=\"notes__dot--float-horz\"></span>\\r\\n                           <span class=\"notes__dot--rotate\"></span>\\r\\n                           \\r\\n                        <span class=\"icon gv-icon-1594\"></span>                                              </span>\\r\\n                  </div>\\r\\n               \\r\\n               <div class=\"highlight_content\">\\r\\n                  <div class=\"title\">\\r\\n                     <a href=\"https://recherche.ucad.sn\" target=\"_blank\"> La Recherche \\xc3\\xa0 l\\'UCAD </a>                   </div>\\r\\n                                       <div class=\"desc\"><p>Le dispositif de la recherche \\xc3\\xa0 l\\xe2\\x80\\x99UCAD est structur\\xc3\\xa9 autour d\\xe2\\x80\\x99une Direction de la Recherche et de l\\'Innovation qui en est l\\xe2\\x80\\x99organe pilote, d\\xe2\\x80\\x99un conseil Scientifique, de la Direction de la Coop\\xc3\\xa9ration, du Service de la Propri\\xc3\\xa9t\\xc3\\xa9 intellectuelle et de la valorisation des r\\xc3\\xa9sultats de la recherche, et du Comit\\xc3\\xa9 d\\xe2\\x80\\x99Ethique de la Recherche.\\xc2\\xa0</p>\\r\\n<p><a title=\"Plateforme de la Recherche\" href=\"https://recherche.ucad.sn\" target=\"_blank\">Visiter la plateforme de la recherche</a></p></div>\\r\\n                     \\r\\n               </div>\\r\\n\\r\\n                \\r\\n            </div> \\r\\n            \\r\\n\\r\\n            \\r\\n\\r\\n                                       <div class=\"widget gsc-icon-box left text-dark\"  >\\r\\n               \\r\\n                                 <div class=\"highlight-icon\">\\r\\n                     <span class=\"icon-container fa-3x   text-theme \" >\\r\\n                                                   <span class=\"notes__dot--float-vert\"></span>\\r\\n                           <span class=\"notes__dot--float-horz\"></span>\\r\\n                           <span class=\"notes__dot--rotate\"></span>\\r\\n                           \\r\\n                        <span class=\"icon gv-icon-436\"></span>                                              </span>\\r\\n                  </div>\\r\\n               \\r\\n               <div class=\"highlight_content\">\\r\\n                  <div class=\"title\">\\r\\n                     <a href=\"https://recherche.ucad.sn/?q=article/annuaire-des-chercheurs\" target=\"_blank\"> R\\xc3\\xa9pertoire des chercheurs </a>                   </div>\\r\\n                                       <div class=\"desc\"><p>Retrouvez les informations relatives au Personnel Enseignant et de Recherche.</p>\\r\\n<p><a title=\"Annuaire des chercheurs\" href=\"https://recherche.ucad.sn/?q=article/annuaire-des-chercheurs\" target=\"_blank\">Acc\\xc3\\xa9der \\xc3\\xa0 l\\'annuaire</a></p></div>\\r\\n                     \\r\\n               </div>\\r\\n\\r\\n                \\r\\n            </div> \\r\\n            \\r\\n\\r\\n            \\r\\n\\r\\n                                       <div class=\"widget gsc-icon-box left text-dark\"  >\\r\\n               \\r\\n                                 <div class=\"highlight-icon\">\\r\\n                     <span class=\"icon-container fa-3x   text-theme \" >\\r\\n                                                   <span class=\"notes__dot--float-vert\"></span>\\r\\n                           <span class=\"notes__dot--float-horz\"></span>\\r\\n                           <span class=\"notes__dot--rotate\"></span>\\r\\n                           \\r\\n                        <span class=\"icon gv-icon-419\"></span>                                              </span>\\r\\n                  </div>\\r\\n               \\r\\n               <div class=\"highlight_content\">\\r\\n                  <div class=\"title\">\\r\\n                     <a href=\"https://coudsn.com\" target=\"_blank\"> Vie estudiantine </a>                   </div>\\r\\n                                       <div class=\"desc\"><p>Le Centre des \\xc5\\x92uvres Universitaires de Dakar (COUD) a pour mission de favoriser l\\xe2\\x80\\x99am\\xc3\\xa9lioration des conditions de vie et de travail des \\xc3\\xa9tudiants et \\xc3\\xa9l\\xc3\\xa8ves des \\xc3\\xa9tablissements relevant de l\\xe2\\x80\\x99universit\\xc3\\xa9, dans les conditions d\\xc3\\xa9termin\\xc3\\xa9es par d\\xc3\\xa9cret.\\xc2\\xa0</p>\\r\\n<p><a title=\"COUD\" href=\"https://coudsn.com\" target=\"_blank\">Plus d\\'informations</a></p></div>\\r\\n                     \\r\\n               </div>\\r\\n\\r\\n                \\r\\n            </div> \\r\\n            \\r\\n\\r\\n            \\r\\n\\r\\n                           </div>  \\n                                  </div>\\n              </div>\\n                          <div  class=\"gsc-column col-lg-3 col-md-3 col-sm-6 col-xs-12\">\\n                <div class=\"column-inner  bg-size-cover \" >\\n                  <div class=\"column-content-inner\">\\n                    <div class=\"column-content  \"><p style=\"text-align: center;\"><strong><a href=\"../../../../node/178\">Fondation UCAD</a></strong></p></div>                     <div class=\"widget gsc-image text-center \"  >\\r\\n               <div class=\"widget-content\">\\r\\n                                       <a href=\"https://www.ucad.sn/node/178\" >\\r\\n                   \\r\\n                    <img src=\"https://www.ucad.sn/sites/default/files/fondation_1.jpg\" alt=\"\" />\\r\\n                  </a>               </div>\\r\\n            </div>    \\r\\n         <div class=\"column-content  \"><p style=\"text-align: center;\"><strong><a href=\"https://cooperation.ucad.sn\" target=\"_blank\">Coop\\xc3\\xa9ration</a></strong></p></div>                     <div class=\"widget gsc-image text-center \"  >\\r\\n               <div class=\"widget-content\">\\r\\n                                       <a href=\"https://cooperation.ucad.sn\" target=\"_blank\">\\r\\n                   \\r\\n                    <img src=\"https://www.ucad.sn/sites/default/files/Coope_1.jpg\" alt=\"\" />\\r\\n                  </a>               </div>\\r\\n            </div>    \\r\\n         <div class=\"column-content  \"><p style=\"text-align: center;\"><strong><a href=\"https://entpersonnel.ucad.sn/home/service_10\" target=\"_blank\">Ressources documentaires</a></strong></p></div>                     <div class=\"widget gsc-image text-center \"  >\\r\\n               <div class=\"widget-content\">\\r\\n                                       <a href=\"https://entpersonnel.ucad.sn/home/service_10\" target=\"_blank\">\\r\\n                   \\r\\n                    <img src=\"https://www.ucad.sn/sites/default/files/BU_1.jpg\" alt=\"\" />\\r\\n                  </a>               </div>\\r\\n            </div>    \\r\\n         <div class=\"column-content  \"><p style=\"text-align: center;\"><strong><a href=\"https://entpersonnel.ucad.sn\" target=\"_blank\">Environnement Num\\xc3\\xa9rique de Travail</a></strong></p></div>                     <div class=\"widget gsc-image text-center \"  >\\r\\n               <div class=\"widget-content\">\\r\\n                                       <a href=\"https://entpersonnel.ucad.sn\" target=\"_blank\">\\r\\n                   \\r\\n                    <img src=\"https://www.ucad.sn/sites/default/files/ENT.jpg\" alt=\"\" />\\r\\n                  </a>               </div>\\r\\n            </div>    \\r\\n                           </div>  \\n                                  </div>\\n              </div>\\n                \\n        </div>\\n      </div>\\n    </div>\\n  </div>  \\n      <div style=\"background-repeat: no-repeat;background-position:center center;\" class=\"gva-parallax-inner skrollable skrollable-between bg-size-cover\" data-bottom-top=\"top: -68%;\" data-top-bottom=\"top: 0%;\"></div>\\n  </div>  \\n</div><div class=\"gbb-row-wrapper\">\\n    <div class=\" gbb-row bg-size-default\"  style=\"background-color:#f5f5f5\" >\\n    <div class=\"bb-inner default\">  \\n      <div class=\"bb-container container\">\\n        <div class=\"row\">\\n          <div class=\"row-wrapper clearfix\">\\n                          <div  class=\"gsc-column col-lg-12 col-md-12 col-sm-12 col-xs-12\">\\n                <div class=\"column-inner  bg-size-cover \" >\\n                  <div class=\"column-content-inner\">\\n                                      <div class=\"widget gsc-heading  align-center style-1 text-dark \">\\r\\n            <div class=\"heading-inner\">\\r\\n                \\r\\n               <div class=\"sub-title\"><span>1 Universit\\xc3\\xa9, 6 Facult\\xc3\\xa9s, 8 Ecoles et Instituts ayant rang de facult\\xc3\\xa9s, 20 Instituts d\\'Universit\\xc3\\xa9s, 11 Instituts de facult\\xc3\\xa9 et 7 Ecoles doctorales</span></div>               <h2 class=\"title\"><span>UCAD</span></h2>            </div>\\r\\n                     </div>\\r\\n         <div class=\"clearfix\"></div>\\r\\n         <div><div class=\"widget block gsc-block-view  gsc-block-drupal block-view title-align-left  text-dark remove-margin-off\"><div class=\"views-element-container\"><div class=\"services-1 gva-view js-view-dom-id-b32817944834537e4f852dd85053d35f71a5f5ec516b88e02808b812d9c22ade\">\\n  \\n  \\n  \\n\\n  \\n  \\n  \\n\\n  <div class=\"owl-carousel init-carousel-owl\" data-items=\"3\" data-items_lg=\"3\" data-items_md=\"3\" data-items_sm=\"2\" data-items_xs=\"2\" data-loop=\"1\" data-speed=\"200\" data-auto_play=\"1\" data-auto_play_speed=\"1000\" data-auto_play_timeout=\"3000\" data-auto_play_hover=\"1\" data-navigation=\"1\" data-rewind_nav=\"0\" data-pagination=\"0\" data-mouse_drag=\"1\" data-touch_drag=\"1\">\\n   \\n   \\n             <div class=\"item\">\\n            <div class=\"gva-carousel-3\">\\n \\n  \\n  <div class=\"service-block grid teaser-1\">      \\n    <div class=\"service-images lightGallery\"><div>              <div class=\"image-item\">\\n          <a href=\"/sites/default/files/services/fastef.jpg\" class=\"zoomGallery\" title=\"\" data-rel=\"lightGallery\">\\n            <span class=\"icon-expand\"><i class=\"fa fa-expand\"></i></span>\\n            <img src=\"/sites/default/files/styles/thumbnail/public/services/fastef.jpg?itok=nZkjk2rW\"  class=\"hidden\" alt=\"\" />\\n          </a>\\n            <img src=\"/sites/default/files/styles/medium/public/services/fastef.jpg?itok=6zvuYoKu\" alt=\"\" typeof=\"foaf:Image\" />\\n\\n\\n\\n        </div>\\n      </div>\\n\\n</div>\\n    <div class=\"service-content\">\\n       <div class=\"content-inner\">\\n          <h3 class=\"title\"><a href=\"/node/89\" rel=\"bookmark\"><span>Facult\\xc3\\xa9 des Sciences et Technologies de l\\xe2\\x80\\x99Education et de la Formation (FASTEF)</span>\\n</a></h3>\\n          <div class=\"desc\">\\n            <div class=\"field field--name-body field--type-text-with-summary field--label-hidden field__item\">La FASTEF (ex- Ecole Normale Sup\\xc3\\xa9rieure) r\\xc3\\xa9cemment rattach\\xc3\\xa9e \\xc3\\xa0 l\\'Universit\\xc3\\xa9 Cheikh Anta Diop de Dakar a dor\\xc3\\xa9navant un statut de facult\\xc3\\xa9.</div>\\n      </div>\\n          <div class=\"service-action clearfix\">\\n            <div class=\"service-readmore\"><a href=\"/node/89\">Lire la suite&nbsp;&nbsp;<i class=\"gv-icon-165\"></i></a></div>\\n                          <div class=\"service-contact\">\\n                <a class=\"use-ajax\" data-dialog-options=\"{&quot;width&quot;:800,&quot;dialogClass&quot;:&quot;webform-modal&quot;}\" data-dialog-type=\"modal\" href=\"http://test.ucad.sn/form/contact-service?title=Facult%C3%A9%20des%20Sciences%20et%20Technologies%20de%20l%E2%80%99Education%20et%20de%20la%20Formation%20%28FASTEF%29\">\\n                  <i class=\"gv-icon-226\"></i>&nbsp;&nbsp;Contact\\n                </a>\\n              </div>\\n                      </div>  \\n       </div>    \\n    </div>\\n  </div>\\n\\n</div>\\n         </div>\\n             <div class=\"item\">\\n            <div class=\"gva-carousel-3\">\\n \\n  \\n  <div class=\"service-block grid teaser-1\">      \\n    <div class=\"service-images lightGallery\"><div>              <div class=\"image-item\">\\n          <a href=\"/sites/default/files/services/flsh.jpg\" class=\"zoomGallery\" title=\"\" data-rel=\"lightGallery\">\\n            <span class=\"icon-expand\"><i class=\"fa fa-expand\"></i></span>\\n            <img src=\"/sites/default/files/styles/thumbnail/public/services/flsh.jpg?itok=S8dgBTwQ\"  class=\"hidden\" alt=\"\" />\\n          </a>\\n            <img src=\"/sites/default/files/styles/medium/public/services/flsh.jpg?itok=zCL0jqVR\" alt=\"\" typeof=\"foaf:Image\" />\\n\\n\\n\\n        </div>\\n      </div>\\n\\n</div>\\n    <div class=\"service-content\">\\n       <div class=\"content-inner\">\\n          <h3 class=\"title\"><a href=\"/node/94\" rel=\"bookmark\"><span>Facult\\xc3\\xa9 des Lettres et Sciences Humaines (FLSH)</span>\\n</a></h3>\\n          <div class=\"desc\">\\n            <div class=\"field field--name-body field--type-text-with-summary field--label-hidden field__item\">La Facult\\xc3\\xa9 des Lettres et Sciences Humaines est n\\xc3\\xa9e de la transformation de L\\xe2\\x80\\x99INSTITUT DES HAUTES ETUDES DE DAKAR en UNIVERSITE. </div>\\n      </div>\\n          <div class=\"service-action clearfix\">\\n            <div class=\"service-readmore\"><a href=\"/node/94\">Lire la suite&nbsp;&nbsp;<i class=\"gv-icon-165\"></i></a></div>\\n                          <div class=\"service-contact\">\\n                <a class=\"use-ajax\" data-dialog-options=\"{&quot;width&quot;:800,&quot;dialogClass&quot;:&quot;webform-modal&quot;}\" data-dialog-type=\"modal\" href=\"http://test.ucad.sn/form/contact-service?title=Facult%C3%A9%20des%20Lettres%20et%20Sciences%20Humaines%20%28FLSH%29\">\\n                  <i class=\"gv-icon-226\"></i>&nbsp;&nbsp;Contact\\n                </a>\\n              </div>\\n                      </div>  \\n       </div>    \\n    </div>\\n  </div>\\n\\n</div>\\n         </div>\\n             <div class=\"item\">\\n            <div class=\"gva-carousel-3\">\\n \\n  \\n  <div class=\"service-block grid teaser-1\">      \\n    <div class=\"service-images lightGallery\"><div>              <div class=\"image-item\">\\n          <a href=\"/sites/default/files/services/fst.jpg\" class=\"zoomGallery\" title=\"\" data-rel=\"lightGallery\">\\n            <span class=\"icon-expand\"><i class=\"fa fa-expand\"></i></span>\\n            <img src=\"/sites/default/files/styles/thumbnail/public/services/fst.jpg?itok=O8ObyZBR\"  class=\"hidden\" alt=\"\" />\\n          </a>\\n            <img src=\"/sites/default/files/styles/medium/public/services/fst.jpg?itok=SydXpDaj\" alt=\"\" typeof=\"foaf:Image\" />\\n\\n\\n\\n        </div>\\n      </div>\\n\\n</div>\\n    <div class=\"service-content\">\\n       <div class=\"content-inner\">\\n          <h3 class=\"title\"><a href=\"/node/93\" rel=\"bookmark\"><span>Facult\\xc3\\xa9 des Sciences et Techniques (FST)</span>\\n</a></h3>\\n          <div class=\"desc\">\\n            <div class=\"field field--name-body field--type-text-with-summary field--label-hidden field__item\">A sa cr\\xc3\\xa9ation, la Facult\\xc3\\xa9 des Sciences et Technique avait la noble mission de donner aux \\xc3\\xa9tudiants une formation g\\xc3\\xa9n\\xc3\\xa9rale leur permettant d\\xe2\\x80\\x99assurer la rel\\xc3\\xa8ve de l\\xe2\\x80\\x99assistance technique aussi bien dans l\\xe2\\x80\\x99enseignement secondaire que dans le  sup\\xc3\\xa9rieur ; cette mission est largement remplie. </div>\\n      </div>\\n          <div class=\"service-action clearfix\">\\n            <div class=\"service-readmore\"><a href=\"/node/93\">Lire la suite&nbsp;&nbsp;<i class=\"gv-icon-165\"></i></a></div>\\n                          <div class=\"service-contact\">\\n                <a class=\"use-ajax\" data-dialog-options=\"{&quot;width&quot;:800,&quot;dialogClass&quot;:&quot;webform-modal&quot;}\" data-dialog-type=\"modal\" href=\"http://test.ucad.sn/form/contact-service?title=Facult%C3%A9%20des%20Sciences%20et%20Techniques%20%28FST%29\">\\n                  <i class=\"gv-icon-226\"></i>&nbsp;&nbsp;Contact\\n                </a>\\n              </div>\\n                      </div>  \\n       </div>    \\n    </div>\\n  </div>\\n\\n</div>\\n         </div>\\n             <div class=\"item\">\\n            <div class=\"gva-carousel-3\">\\n \\n  \\n  <div class=\"service-block grid teaser-1\">      \\n    <div class=\"service-images lightGallery\"><div>              <div class=\"image-item\">\\n          <a href=\"/sites/default/files/services/fmpos.jpg\" class=\"zoomGallery\" title=\"\" data-rel=\"lightGallery\">\\n            <span class=\"icon-expand\"><i class=\"fa fa-expand\"></i></span>\\n            <img src=\"/sites/default/files/styles/thumbnail/public/services/fmpos.jpg?itok=DcPHxM0C\"  class=\"hidden\" alt=\"\" />\\n          </a>\\n            <img src=\"/sites/default/files/styles/medium/public/services/fmpos.jpg?itok=Pqv35VcC\" alt=\"\" typeof=\"foaf:Image\" />\\n\\n\\n\\n        </div>\\n      </div>\\n\\n</div>\\n    <div class=\"service-content\">\\n       <div class=\"content-inner\">\\n          <h3 class=\"title\"><a href=\"/node/92\" rel=\"bookmark\"><span>Facult\\xc3\\xa9 de M\\xc3\\xa9decine, de Pharmacie et d&#039;Odontostomatologie (FMPOS)</span>\\n</a></h3>\\n          <div class=\"desc\">\\n            <div class=\"field field--name-body field--type-text-with-summary field--label-hidden field__item\">Les visions et les valeurs de la facult\\xc3\\xa9 reposent sur l\\'exercice d\\'un leadership r\\xc3\\xa9gional et international dans le domaine de la M\\xc3\\xa9decine,</div>\\n      </div>\\n          <div class=\"service-action clearfix\">\\n            <div class=\"service-readmore\"><a href=\"/node/92\">Lire la suite&nbsp;&nbsp;<i class=\"gv-icon-165\"></i></a></div>\\n                          <div class=\"service-contact\">\\n                <a class=\"use-ajax\" data-dialog-options=\"{&quot;width&quot;:800,&quot;dialogClass&quot;:&quot;webform-modal&quot;}\" data-dialog-type=\"modal\" href=\"http://test.ucad.sn/form/contact-service?title=Facult%C3%A9%20de%20M%C3%A9decine%2C%20de%20Pharmacie%20et%20d%27Odontostomatologie%20%28FMPOS%29\">\\n                  <i class=\"gv-icon-226\"></i>&nbsp;&nbsp;Contact\\n                </a>\\n              </div>\\n                      </div>  \\n       </div>    \\n    </div>\\n  </div>\\n\\n</div>\\n         </div>\\n             <div class=\"item\">\\n            <div class=\"gva-carousel-3\">\\n \\n  \\n  <div class=\"service-block grid teaser-1\">      \\n    <div class=\"service-images lightGallery\"><div>              <div class=\"image-item\">\\n          <a href=\"/sites/default/files/services/faseg.jpg\" class=\"zoomGallery\" title=\"\" data-rel=\"lightGallery\">\\n            <span class=\"icon-expand\"><i class=\"fa fa-expand\"></i></span>\\n            <img src=\"/sites/default/files/styles/thumbnail/public/services/faseg.jpg?itok=HR_nf1Qb\"  class=\"hidden\" alt=\"\" />\\n          </a>\\n            <img src=\"/sites/default/files/styles/medium/public/services/faseg.jpg?itok=0VCyBSxv\" alt=\"\" typeof=\"foaf:Image\" />\\n\\n\\n\\n        </div>\\n      </div>\\n\\n</div>\\n    <div class=\"service-content\">\\n       <div class=\"content-inner\">\\n          <h3 class=\"title\"><a href=\"/node/91\" rel=\"bookmark\"><span>Facult\\xc3\\xa9 des Sciences Economiques et de Gestion (FASEG)</span>\\n</a></h3>\\n          <div class=\"desc\">\\n            <div class=\"field field--name-body field--type-text-with-summary field--label-hidden field__item\">La Facult\\xc3\\xa9 des Sciences Economiques et de Gestion (FASEG) a \\xc3\\xa9t\\xc3\\xa9 cr\\xc3\\xa9\\xc3\\xa9e par d\\xc3\\xa9cret n\\xc2\\xb070-1135 du 13 octobre 1970 modifi\\xc3\\xa9 par le d\\xc3\\xa9cret n\\xc2\\xb094-1002 du 28/09/1994, \\xc3\\xa0 la suite de la concertation Nationale sur l\\xe2\\x80\\x99Enseignement Sup\\xc3\\xa9rieure de 1993.</div>\\n      </div>\\n          <div class=\"service-action clearfix\">\\n            <div class=\"service-readmore\"><a href=\"/node/91\">Lire la suite&nbsp;&nbsp;<i class=\"gv-icon-165\"></i></a></div>\\n                          <div class=\"service-contact\">\\n                <a class=\"use-ajax\" data-dialog-options=\"{&quot;width&quot;:800,&quot;dialogClass&quot;:&quot;webform-modal&quot;}\" data-dialog-type=\"modal\" href=\"http://test.ucad.sn/form/contact-service?title=Facult%C3%A9%20des%20Sciences%20Economiques%20et%20de%20Gestion%20%28FASEG%29\">\\n                  <i class=\"gv-icon-226\"></i>&nbsp;&nbsp;Contact\\n                </a>\\n              </div>\\n                      </div>  \\n       </div>    \\n    </div>\\n  </div>\\n\\n</div>\\n         </div>\\n             <div class=\"item\">\\n            <div class=\"gva-carousel-3\">\\n \\n  \\n  <div class=\"service-block grid teaser-1\">      \\n    <div class=\"service-images lightGallery\"><div>              <div class=\"image-item\">\\n          <a href=\"/sites/default/files/services/fsjp.jpg\" class=\"zoomGallery\" title=\"\" data-rel=\"lightGallery\">\\n            <span class=\"icon-expand\"><i class=\"fa fa-expand\"></i></span>\\n            <img src=\"/sites/default/files/styles/thumbnail/public/services/fsjp.jpg?itok=y15HsKIn\"  class=\"hidden\" alt=\"\" />\\n          </a>\\n            <img src=\"/sites/default/files/styles/medium/public/services/fsjp.jpg?itok=6n6_n4Or\" alt=\"\" typeof=\"foaf:Image\" />\\n\\n\\n\\n        </div>\\n      </div>\\n\\n</div>\\n    <div class=\"service-content\">\\n       <div class=\"content-inner\">\\n          <h3 class=\"title\"><a href=\"/node/90\" rel=\"bookmark\"><span>Facult\\xc3\\xa9 des Sciences Juridiques et Politiques (FSJP)</span>\\n</a></h3>\\n          <div class=\"desc\">\\n            <div class=\"field field--name-body field--type-text-with-summary field--label-hidden field__item\">La Facult\\xc3\\xa9 des Sciences juridiques et politiques de l\\xe2\\x80\\x99Universit\\xc3\\xa9 Cheikh Anta Diop de Dakar se veut un creuset des disciplines scientifiques,</div>\\n      </div>\\n          <div class=\"service-action clearfix\">\\n            <div class=\"service-readmore\"><a href=\"/node/90\">Lire la suite&nbsp;&nbsp;<i class=\"gv-icon-165\"></i></a></div>\\n                          <div class=\"service-contact\">\\n                <a class=\"use-ajax\" data-dialog-options=\"{&quot;width&quot;:800,&quot;dialogClass&quot;:&quot;webform-modal&quot;}\" data-dialog-type=\"modal\" href=\"http://test.ucad.sn/form/contact-service?title=Facult%C3%A9%20des%20Sciences%20Juridiques%20et%20Politiques%20%28FSJP%29\">\\n                  <i class=\"gv-icon-226\"></i>&nbsp;&nbsp;Contact\\n                </a>\\n              </div>\\n                      </div>  \\n       </div>    \\n    </div>\\n  </div>\\n\\n</div>\\n         </div>\\n    \\n</div>\\n\\n    \\n\\n  \\n  \\n\\n  \\n  \\n</div>\\n</div>\\n</div></div>                  </div>  \\n                                  </div>\\n              </div>\\n                \\n        </div>\\n      </div>\\n    </div>\\n  </div>  \\n      <div style=\"background-repeat: no-repeat;background-position:center center;\" class=\"gva-parallax-inner skrollable skrollable-between bg-size-default\" data-bottom-top=\"top: -68%;\" data-top-bottom=\"top: 0%;\"></div>\\n  </div>  \\n</div><div class=\"gbb-row-wrapper\">\\n    <div class=\" gbb-row bg-size-cover\"  style=\"\" >\\n    <div class=\"bb-inner default\">  \\n      <div class=\"bb-container container\">\\n        <div class=\"row\">\\n          <div class=\"row-wrapper clearfix\">\\n                          <div  class=\"gsc-column col-lg-12 col-md-12 col-sm-12 col-xs-12\">\\n                <div class=\"column-inner  bg-size-cover \" >\\n                  <div class=\"column-content-inner\">\\n                                      <div class=\"widget gsc-heading  align-center style-1 text-dark \">\\r\\n            <div class=\"heading-inner\">\\r\\n                \\r\\n               <div class=\"sub-title\"><span>Derni\\xc3\\xa8res informations</span></div>               <h2 class=\"title\"><span>Actualit\\xc3\\xa9s</span></h2>            </div>\\r\\n                     </div>\\r\\n         <div class=\"clearfix\"></div>\\r\\n         <div><div class=\"widget block gsc-block-view  gsc-block-drupal block-view title-align-left  text-dark remove-margin-off\"><div class=\"views-element-container\"><div class=\"posts-grid gva-view js-view-dom-id-d15b30e246f7c11100e412b0b8d5f15caafef9be891668ffc8e229b35632906a\">\\n  \\n  \\n  \\n\\n  \\n  \\n  \\n\\n  <div class=\"gva-view-grid\">\\n   \\n  \\n  <div class=\"gva-view-grid-inner lg-block-grid-3 md-block-grid-3 sm-block-grid-3 xs-block-grid-2\">\\n\\n            <div class=\"item-columns\">\\n          <div><div class=\"views-field views-field-nothing\"><div class=\"field-content\"><div class=\"post-block\">\\n      <div class=\"post-image\">   <img src=\"/index.php/sites/default/files/styles/medium/public/articles/IMG_9866%20copie.jpg?itok=-WAZO-mX\" alt=\"\" typeof=\"Image\" />\\n\\n\\n</div>\\n      <div class=\"post-content text-left\">\\n              <div class=\"post-title\"> <a href=\"/index.php/visite-de-lambassadeur-diran-lucad\" hreflang=\"fr\">Visite de l&#039;Ambassadeur d&#039;Iran \\xc3\\xa0 l&#039;UCAD</a> </div>\\n              <div class=\"post-meta\"><span class=\"post-categories\"><a href=\"/index.php/taxonomy/term/2\" hreflang=\"en\">Communiqu\\xc3\\xa9</a> </span>&nbsp;/&nbsp;<span class=\"post-created\">22 ao\\xc3\\xbb 23 </span></div>\\n              <div class=\"post-body\">Le Recteur de l\\xe2\\x80\\x99UCAD, Pr Ahmadou Aly Mbaye a re\\xc3\\xa7u, ce lundi 21 ao\\xc3\\xbbt 2023, l\\'Ambassadeur de la R\\xc3\\xa9publique Islamique d\\'Iran \\xc3\\xa0 Dakar, M. Hassan Asgari.</div>\\n              <div class=\"post-link\"><a href=\"/index.php/visite-de-lambassadeur-diran-lucad\" hreflang=\"fr\">Lire la suite</a></div>\\n       </div>\\t \\n</div></div></div></div>\\n        </div>\\n            <div class=\"item-columns\">\\n          <div><div class=\"views-field views-field-nothing\"><div class=\"field-content\"><div class=\"post-block\">\\n      <div class=\"post-image\">   <img src=\"/sites/default/files/styles/medium/public/articles/Capture%2018.58.58.jpg?itok=jn1o9jov\" alt=\"\" typeof=\"Image\" />\\n\\n\\n</div>\\n      <div class=\"post-content text-left\">\\n              <div class=\"post-title\"> <a href=\"/fastef-appel-communications-colloque-international-et-interdisciplinaire\" hreflang=\"fr\">FASTEF : Appel \\xc3\\xa0 communications, Colloque international et interdisciplinaire</a> </div>\\n              <div class=\"post-meta\"><span class=\"post-categories\"><a href=\"/taxonomy/term/2\" hreflang=\"en\">Communiqu\\xc3\\xa9</a> </span>&nbsp;/&nbsp;<span class=\"post-created\">18 ao\\xc3\\xbb 23 </span></div>\\n              <div class=\"post-body\">Veuillez recevoir cet appel \\xc3\\xa0 communications en vue du colloque international et interdisciplinaire organis\\xc3\\xa9 par le Laboratoire de Didactique des Langues et des Sciences Humaines (LADILASH) de la F</div>\\n              <div class=\"post-link\"><a href=\"/fastef-appel-communications-colloque-international-et-interdisciplinaire\" hreflang=\"fr\">Lire la suite</a></div>\\n       </div>\\t \\n</div></div></div></div>\\n        </div>\\n            <div class=\"item-columns\">\\n          <div><div class=\"views-field views-field-nothing\"><div class=\"field-content\"><div class=\"post-block\">\\n      <div class=\"post-image\">   <img src=\"/sites/default/files/styles/medium/public/articles/IMG_9260.jpg?itok=iNTCPE-u\" alt=\"\" typeof=\"Image\" />\\n\\n\\n</div>\\n      <div class=\"post-content text-left\">\\n              <div class=\"post-title\"> <a href=\"/visite-du-recteur-de-luniversite-dankara-lucad\" hreflang=\"fr\">Visite du Recteur de l&#039;Universit\\xc3\\xa9 d&#039;Ankara \\xc3\\xa0 l&#039;UCAD</a> </div>\\n              <div class=\"post-meta\"><span class=\"post-categories\"><a href=\"/taxonomy/term/2\" hreflang=\"en\">Communiqu\\xc3\\xa9</a> </span>&nbsp;/&nbsp;<span class=\"post-created\">07 ao\\xc3\\xbb 23 </span></div>\\n              <div class=\"post-body\">L\\'Universit\\xc3\\xa9 Cheikh Anta Diop de Dakar a\\xc2\\xa0re\\xc3\\xa7u une d\\xc3\\xa9l\\xc3\\xa9gation de\\xc2\\xa0l\\xe2\\x80\\x99Universit\\xc3\\xa9 d\\'Ankara - Turquie, dirig\\xc3\\xa9e par le Recteur Prof. Dr. Necdet \\xc3\\x9cn\\xc3\\xbcvar, le\\xc2\\xa0jeudi 27 juillet 2023.</div>\\n              <div class=\"post-link\"><a href=\"/visite-du-recteur-de-luniversite-dankara-lucad\" hreflang=\"fr\">Lire la suite</a></div>\\n       </div>\\t \\n</div></div></div></div>\\n        </div>\\n            <div class=\"item-columns\">\\n          <div><div class=\"views-field views-field-nothing\"><div class=\"field-content\"><div class=\"post-block\">\\n      <div class=\"post-image\">   <img src=\"/sites/default/files/styles/medium/public/articles/IMG_9316.jpg?itok=13ekJzCI\" alt=\"\" typeof=\"Image\" />\\n\\n\\n</div>\\n      <div class=\"post-content text-left\">\\n              <div class=\"post-title\"> <a href=\"/signature-convention-ucad-et-cheds\" hreflang=\"fr\">Signature Convention UCAD et CHEDS</a> </div>\\n              <div class=\"post-meta\"><span class=\"post-categories\"><a href=\"/taxonomy/term/2\" hreflang=\"en\">Communiqu\\xc3\\xa9</a> </span>&nbsp;/&nbsp;<span class=\"post-created\">07 ao\\xc3\\xbb 23 </span></div>\\n              <div class=\"post-body\">Le Recteur de l\\xe2\\x80\\x99Universit\\xc3\\xa9 Cheikh Anta Diop, Pr Ahmadou Aly Mbaye et le Directeur du\\xc2\\xa0Centre des Hautes Etudes de D\\xc3\\xa9fense et de S\\xc3\\xa9curit\\xc3\\xa9 (C</div>\\n              <div class=\"post-link\"><a href=\"/signature-convention-ucad-et-cheds\" hreflang=\"fr\">Lire la suite</a></div>\\n       </div>\\t \\n</div></div></div></div>\\n        </div>\\n            <div class=\"item-columns\">\\n          <div><div class=\"views-field views-field-nothing\"><div class=\"field-content\"><div class=\"post-block\">\\n      <div class=\"post-image\">   <img src=\"/sites/default/files/styles/medium/public/articles/html-css-collage-concept-with-person.jpg?itok=oUVgVfcd\" alt=\"\" typeof=\"Image\" />\\n\\n\\n</div>\\n      <div class=\"post-content text-left\">\\n              <div class=\"post-title\"> <a href=\"/oif-elaboration-dun-guide-francophone-des-negociations-dans-le-domaine-de-la-gouvernance-du\" hreflang=\"fr\">OIF : Elaboration d\\xe2\\x80\\x99un Guide francophone des n\\xc3\\xa9gociations dans le domaine de la gouvernance du num\\xc3\\xa9rique</a> </div>\\n              <div class=\"post-meta\"><span class=\"post-categories\"><a href=\"/taxonomy/term/2\" hreflang=\"en\">Communiqu\\xc3\\xa9</a> </span>&nbsp;/&nbsp;<span class=\"post-created\">07 ao\\xc3\\xbb 23 </span></div>\\n              <div class=\"post-body\">L\\xe2\\x80\\x99Organisation Internationale de la Francophonie (OIF) lance un appel \\xc3\\xa0 candidatures pour l\\xe2\\x80\\x99\\xc3\\xa9laboration d\\xe2\\x80\\x99un guide francophone des n\\xc3\\xa9gociations dans le</div>\\n              <div class=\"post-link\"><a href=\"/oif-elaboration-dun-guide-francophone-des-negociations-dans-le-domaine-de-la-gouvernance-du\" hreflang=\"fr\">Lire la suite</a></div>\\n       </div>\\t \\n</div></div></div></div>\\n        </div>\\n            <div class=\"item-columns\">\\n          <div><div class=\"views-field views-field-nothing\"><div class=\"field-content\"><div class=\"post-block\">\\n      <div class=\"post-image\">   <img src=\"/sites/default/files/styles/medium/public/articles/fr.jpg?itok=R_QsIGZf\" alt=\"\" typeof=\"Image\" />\\n\\n\\n</div>\\n      <div class=\"post-content text-left\">\\n              <div class=\"post-title\"> <a href=\"/fastef-symposium-international-sur-leducation-en-situations-durgence-lucad\" hreflang=\"fr\">FASTEF : Symposium International sur l&#039;\\xc3\\x89ducation en Situations d&#039;Urgence \\xc3\\xa0 l&#039;UCAD</a> </div>\\n              <div class=\"post-meta\"><span class=\"post-categories\"><a href=\"/taxonomy/term/2\" hreflang=\"en\">Communiqu\\xc3\\xa9</a> </span>&nbsp;/&nbsp;<span class=\"post-created\">07 ao\\xc3\\xbb 23 </span></div>\\n              <div class=\"post-body\">La Facult\\xc3\\xa9 des Sciences et Technologies de l\\'\\xc3\\x89ducation et de la Formation (FASTEF) de l\\'UCAD abritera les\\xc2\\xa015 et 16 d\\xc3\\xa9cembre 2023,\\xc2\\xa0un symposium International sur l\\'\\xc3\\x89ducation en S</div>\\n              <div class=\"post-link\"><a href=\"/fastef-symposium-international-sur-leducation-en-situations-durgence-lucad\" hreflang=\"fr\">Lire la suite</a></div>\\n       </div>\\t \\n</div></div></div></div>\\n        </div>\\n      </div>\\n    \\n</div>\\n\\n    \\n\\n  \\n  <div class=\"more-link\"><a href=\"/blogs-actu\">Plus d&#039;actualit\\xc3\\xa9s</a></div>\\n\\n\\n  \\n  \\n</div>\\n</div>\\n</div></div>                  </div>  \\n                                  </div>\\n              </div>\\n                \\n        </div>\\n      </div>\\n    </div>\\n  </div>  \\n  </div>  \\n</div><div class=\"gbb-row-wrapper\">\\n    <div class=\" gbb-row bg-size-cover\"  style=\"background-color:#F7F9FA\" >\\n    <div class=\"bb-inner default\">  \\n      <div class=\"bb-container container\">\\n        <div class=\"row\">\\n          <div class=\"row-wrapper clearfix\">\\n                          <div  class=\"gsc-column col-lg-12 col-md-12 col-sm-12 col-xs-12\">\\n                <div class=\"column-inner  bg-size-cover \" >\\n                  <div class=\"column-content-inner\">\\n                                      <div class=\"widget gsc-heading  align-center style-1 text-dark \">\\r\\n            <div class=\"heading-inner\">\\r\\n                \\r\\n                              <h2 class=\"title\"><span>Service Digital \\xc3\\xa0  la Communaut\\xc3\\xa9</span></h2>            </div>\\r\\n            <div class=\"title-desc\"><p>La <a href=\"https://disi.ucad.sn\" target=\"_blank\">Direction de l\\'Informatique est des Syst\\xc3\\xa8mes d\\'Information (DISI)</a> a mis en place plusieurs services dans le cadre de la d\\xc3\\xa9mat\\xc3\\xa9rialisation des proc\\xc3\\xa9dures.</p></div>         </div>\\r\\n         <div class=\"clearfix\"></div>\\r\\n                           </div>  \\n                                  </div>\\n              </div>\\n                          <div  class=\"gsc-column col-lg-4 col-md-4 col-sm-12 col-xs-12\">\\n                <div class=\"column-inner  bg-size-cover \" >\\n                  <div class=\"column-content-inner\">\\n                                         \\r\\n\\r\\n                     <div class=\"widget gsc-icon-box top-left-title icon-image text-dark\"  >\\r\\n               \\r\\n               <div class=\"highlight_content\">\\r\\n                  <div class=\"title-inner\">\\r\\n                                             <div class=\"highlight-icon\">\\r\\n                           <span class=\"icon-container fa-2x   text-theme \"  >\\r\\n                                                               <span class=\"notes__dot--float-vert\"></span>\\r\\n                                 <span class=\"notes__dot--float-horz\"></span>\\r\\n                                 <span class=\"notes__dot--rotate\"></span>\\r\\n                                                                                          <span class=\"icon\"><img src=\"https://www.ucad.sn/sites/default/files/gbb-uploads/icons/038-internet-2.png\" alt=\"Pr\\xc3\\xa9inscription en ligne\"/> </span>                            </span>\\r\\n                        </div>\\r\\n                                          \\r\\n                     <div class=\"title\">\\r\\n                        <a href=\"https://preinscriptionenligne.ucad.sn\" target=\"_blank\"> Pr\\xc3\\xa9inscription en ligne </a>                      </div>\\r\\n\\r\\n                     \\r\\n                  </div>\\r\\n                                       <div class=\"desc\"><p>La pr\\xc3\\xa9inscription en ligne, obligatoire pour tous les \\xc3\\xa9tudiants,\\xc2\\xa0a \\xc3\\xa9t\\xc3\\xa9 initi\\xc3\\xa9 dans le but de faciliter les inscriptions \\xc3\\xa0 l\\xe2\\x80\\x99UCAD.\\xc2\\xa0</p>\\r\\n<p><strong>Lien d\\xe2\\x80\\x99acc\\xc3\\xa9s : <a href=\"https://preinscriptionenligne.ucad.sn\" target=\"_blank\">https://preinscriptionenligne.ucad.sn</a></strong>.</p>\\r\\n<ul>\\r\\n<li><a href=\"docs/preinscription_guide_utilisateur.pdf\" target=\"_blank\">Guide de la proc\\xc3\\xa9dure d\\'inscription</a></li>\\r\\n<li><a href=\"docs/preinscription_guide_creation_compte.pdf\" target=\"_blank\">Guide de la cr\\xc3\\xa9ation et d\\'activation du compte</a></li>\\r\\n</ul></div>\\r\\n                                 </div>\\r\\n\\r\\n            </div> \\r\\n            \\r\\n\\r\\n                           </div>  \\n                                  </div>\\n              </div>\\n                          <div  class=\"gsc-column col-lg-4 col-md-4 col-sm-12 col-xs-12\">\\n                <div class=\"column-inner  bg-size-cover \" >\\n                  <div class=\"column-content-inner\">\\n                                         \\r\\n\\r\\n                     <div class=\"widget gsc-icon-box top-left-title icon-image text-dark\"  >\\r\\n               \\r\\n               <div class=\"highlight_content\">\\r\\n                  <div class=\"title-inner\">\\r\\n                                             <div class=\"highlight-icon\">\\r\\n                           <span class=\"icon-container fa-2x   text-theme \"  >\\r\\n                                                               <span class=\"notes__dot--float-vert\"></span>\\r\\n                                 <span class=\"notes__dot--float-horz\"></span>\\r\\n                                 <span class=\"notes__dot--rotate\"></span>\\r\\n                                                                                          <span class=\"icon\"><img src=\"https://www.ucad.sn/sites/default/files/gbb-uploads/icons/038-internet-2.png\" alt=\"Authentification Certificat d\\'inscription\"/> </span>                            </span>\\r\\n                        </div>\\r\\n                                          \\r\\n                     <div class=\"title\">\\r\\n                        <a href=\"https://preinscriptionenligne.ucad.sn\" target=\"_blank\"> Authentification Certificat d\\'inscription </a>                      </div>\\r\\n\\r\\n                     \\r\\n                  </div>\\r\\n                                       <div class=\"desc\"><p>La DISI a d\\xc3\\xa9velopp\\xc3\\xa9 une application mobile pour le contr\\xc3\\xb4le d\\'authenticit\\xc3\\xa9 du certificat d\\'inscription.</p>\\r\\n<p>Cette application permet de scanner le code QR pr\\xc3\\xa9sent sur le certificat afin de v\\xc3\\xa9rifier l\\'authenticit\\xc3\\xa9 de ce dernier..</p>\\r\\n<p><strong><a href=\"../../../../app-inscription.apk\" target=\"_blank\">T\\xc3\\xa9l\\xc3\\xa9charger l\\'application mobile</a></strong>.</p></div>\\r\\n                                 </div>\\r\\n\\r\\n            </div> \\r\\n            \\r\\n\\r\\n                           </div>  \\n                                  </div>\\n              </div>\\n                          <div  class=\"gsc-column col-lg-4 col-md-4 col-sm-12 col-xs-12\">\\n                <div class=\"column-inner  bg-size-cover \" >\\n                  <div class=\"column-content-inner\">\\n                                         \\r\\n\\r\\n                     <div class=\"widget gsc-icon-box top-left-title icon-image text-dark\"  >\\r\\n               \\r\\n               <div class=\"highlight_content\">\\r\\n                  <div class=\"title-inner\">\\r\\n                                             <div class=\"highlight-icon\">\\r\\n                           <span class=\"icon-container fa-2x   text-theme \"  >\\r\\n                                                               <span class=\"notes__dot--float-vert\"></span>\\r\\n                                 <span class=\"notes__dot--float-horz\"></span>\\r\\n                                 <span class=\"notes__dot--rotate\"></span>\\r\\n                                                                                          <span class=\"icon\"><img src=\"https://www.ucad.sn/sites/default/files/gbb-uploads/icons/108-school.png\" alt=\"Centre Etudiant\"/> </span>                            </span>\\r\\n                        </div>\\r\\n                                          \\r\\n                     <div class=\"title\">\\r\\n                        <a href=\"https://studentcenter.ucad.sn\" target=\"_blank\"> Centre Etudiant </a>                      </div>\\r\\n\\r\\n                     \\r\\n                  </div>\\r\\n                                       <div class=\"desc\"><p>Le Centre Etudiant rassemble l\\'Ensemble des Services destin\\xc3\\xa9s aux Etudiants de l\\'Universit\\xc3\\xa9 Cheikh Anta Diop.</p>\\r\\n<p><strong>Lien d\\'acc\\xc3\\xa8s : <a href=\"https://studentcenter.ucad.sn\" target=\"_blank\">https://studentcenter.ucad.sn</a><br /></strong></p></div>\\r\\n                                 </div>\\r\\n\\r\\n            </div> \\r\\n            \\r\\n\\r\\n                           </div>  \\n                                  </div>\\n              </div>\\n                          <div  class=\"gsc-column col-lg-12 col-md-12 col-sm-12 col-xs-12\">\\n                <div class=\"column-inner  bg-size-cover \" >\\n                  <div class=\"column-content-inner\">\\n                                      </div>  \\n                                  </div>\\n              </div>\\n                          <div  class=\"gsc-column col-lg-4 col-md-4 col-sm-12 col-xs-12\">\\n                <div class=\"column-inner  bg-size-cover \" >\\n                  <div class=\"column-content-inner\">\\n                                         \\r\\n\\r\\n                     <div class=\"widget gsc-icon-box top-left-title icon-image text-dark\"  >\\r\\n               \\r\\n               <div class=\"highlight_content\">\\r\\n                  <div class=\"title-inner\">\\r\\n                                             <div class=\"highlight-icon\">\\r\\n                           <span class=\"icon-container fa-2x   text-theme \"  >\\r\\n                                                               <span class=\"notes__dot--float-vert\"></span>\\r\\n                                 <span class=\"notes__dot--float-horz\"></span>\\r\\n                                 <span class=\"notes__dot--rotate\"></span>\\r\\n                                                                                          <span class=\"icon\"><img src=\"https://www.ucad.sn/sites/default/files/gbb-uploads/icons/038-internet-2.png\" alt=\"Admission en master\"/> </span>                            </span>\\r\\n                        </div>\\r\\n                                          \\r\\n                     <div class=\"title\">\\r\\n                        <a href=\"https://admission.ucad.sn\" target=\"_blank\"> Admission en master </a>                      </div>\\r\\n\\r\\n                     \\r\\n                  </div>\\r\\n                                       <div class=\"desc\"><p>Vous voulez continuer vos \\xc3\\xa9tudes en Master. Cette plateforme est pour vous.</p>\\r\\n<p><strong>Lien d\\xe2\\x80\\x99acc\\xc3\\xa9s : <a href=\"https://admission.ucad.sn\" target=\"_blank\">https://admission.ucad.sn</a></strong>.</p></div>\\r\\n                                 </div>\\r\\n\\r\\n            </div> \\r\\n            \\r\\n\\r\\n                           </div>  \\n                                  </div>\\n              </div>\\n                          <div  class=\"gsc-column col-lg-4 col-md-4 col-sm-12 col-xs-12\">\\n                <div class=\"column-inner  bg-size-cover \" >\\n                  <div class=\"column-content-inner\">\\n                                         \\r\\n\\r\\n                     <div class=\"widget gsc-icon-box top-left-title icon-image text-dark\"  >\\r\\n               \\r\\n               <div class=\"highlight_content\">\\r\\n                  <div class=\"title-inner\">\\r\\n                                             <div class=\"highlight-icon\">\\r\\n                           <span class=\"icon-container fa-2x   text-theme \"  >\\r\\n                                                               <span class=\"notes__dot--float-vert\"></span>\\r\\n                                 <span class=\"notes__dot--float-horz\"></span>\\r\\n                                 <span class=\"notes__dot--rotate\"></span>\\r\\n                                                                                          <span class=\"icon\"><img src=\"https://www.ucad.sn/sites/default/files/gbb-uploads/icons/151-interface-1.png\" alt=\"Recrutement\"/> </span>                            </span>\\r\\n                        </div>\\r\\n                                          \\r\\n                     <div class=\"title\">\\r\\n                        <a href=\"https://recrutement.ucad.sn\" target=\"_blank\"> Recrutement </a>                      </div>\\r\\n\\r\\n                     \\r\\n                  </div>\\r\\n                                       <div class=\"desc\"><p>Retrouvez sur cette plateforme l\\'ensemble des appels \\xc3\\xa0 candidatures du Personnel enseignant et de recherche et du Personnel Administratif, Technique et de Service de l\\'UCAD et d\\xc3\\xa9poser votre candidature en ligne.</p>\\r\\n<p><strong>Lien d\\'acc\\xc3\\xa8s : <a href=\"https://recrutement.ucad.sn\" target=\"_blank\">https://recrutement.ucad.sn</a><br /></strong></p></div>\\r\\n                                 </div>\\r\\n\\r\\n            </div> \\r\\n            \\r\\n\\r\\n                           </div>  \\n                                  </div>\\n              </div>\\n                          <div  class=\"gsc-column col-lg-4 col-md-4 col-sm-12 col-xs-12\">\\n                <div class=\"column-inner  bg-size-cover \" >\\n                  <div class=\"column-content-inner\">\\n                                         \\r\\n\\r\\n                     <div class=\"widget gsc-icon-box top-left-title icon-image text-dark\"  >\\r\\n               \\r\\n               <div class=\"highlight_content\">\\r\\n                  <div class=\"title-inner\">\\r\\n                                             <div class=\"highlight-icon\">\\r\\n                           <span class=\"icon-container fa-2x   text-theme \"  >\\r\\n                                                               <span class=\"notes__dot--float-vert\"></span>\\r\\n                                 <span class=\"notes__dot--float-horz\"></span>\\r\\n                                 <span class=\"notes__dot--rotate\"></span>\\r\\n                                                            <span class=\"icon https://equivalence.ucad.sn\"></span>                               <span class=\"icon\"><img src=\"https://www.ucad.sn/sites/default/files/gbb-uploads/icons/167-application.png\" alt=\"Equivalence\"/> </span>                            </span>\\r\\n                        </div>\\r\\n                                          \\r\\n                     <div class=\"title\">\\r\\n                        <a href=\"https://equivalence.ucad.sn\" target=\"_blank\"> Equivalence </a>                      </div>\\r\\n\\r\\n                     \\r\\n                  </div>\\r\\n                                       <div class=\"desc\"><p>Les d\\xc3\\xa9p\\xc3\\xb4ts des dossiers de demandes d\\'\\xc3\\xa9quivalence en vue d\\xe2\\x80\\x99une admission \\xc3\\xa0 l\\'UCAD sont d\\xc3\\xa9sormais d\\xc3\\xa9mat\\xc3\\xa9rialis\\xc3\\xa9s avec cette plateforme.</p>\\r\\n<p><strong>Lien d\\'acc\\xc3\\xa8s : <a href=\"https://equivalence.ucad.sn\" target=\"_blank\">https://equivalence.ucad.sn</a><br /></strong></p></div>\\r\\n                                 </div>\\r\\n\\r\\n            </div> \\r\\n            \\r\\n\\r\\n                           </div>  \\n                                  </div>\\n              </div>\\n                          <div  class=\"gsc-column col-lg-12 col-md-12 col-sm-12 col-xs-12\">\\n                <div class=\"column-inner  bg-size-cover \" >\\n                  <div class=\"column-content-inner\">\\n                                      </div>  \\n                                  </div>\\n              </div>\\n                          <div  class=\"gsc-column col-lg-4 col-md-4 col-sm-12 col-xs-12\">\\n                <div class=\"column-inner  bg-size-cover \" >\\n                  <div class=\"column-content-inner\">\\n                                         \\r\\n\\r\\n                     <div class=\"widget gsc-icon-box top-left-title icon-image text-dark\"  >\\r\\n               \\r\\n               <div class=\"highlight_content\">\\r\\n                  <div class=\"title-inner\">\\r\\n                                             <div class=\"highlight-icon\">\\r\\n                           <span class=\"icon-container fa-2x   text-theme \"  >\\r\\n                                                               <span class=\"notes__dot--float-vert\"></span>\\r\\n                                 <span class=\"notes__dot--float-horz\"></span>\\r\\n                                 <span class=\"notes__dot--rotate\"></span>\\r\\n                                                            <span class=\"icon https://annuaire.ucad.sn\"></span>                               <span class=\"icon\"><img src=\"https://www.ucad.sn/sites/default/files/gbb-uploads/icons/001-search.png\" alt=\"Annuaire du Personnel\"/> </span>                            </span>\\r\\n                        </div>\\r\\n                                          \\r\\n                     <div class=\"title\">\\r\\n                        <a href=\"https://annuaire.ucad.sn\" target=\"_blank\"> Annuaire du Personnel </a>                      </div>\\r\\n\\r\\n                     \\r\\n                  </div>\\r\\n                                       <div class=\"desc\"><p>Retrouvez les informations d\\'un agent de l\\'UCAD</p>\\r\\n<p><strong>Lien d\\'acc\\xc3\\xa8s : <a href=\"https://annuaire.ucad.sn\" target=\"_blank\">https://annuaire.ucad.sn</a><br /></strong></p></div>\\r\\n                                 </div>\\r\\n\\r\\n            </div> \\r\\n            \\r\\n\\r\\n                           </div>  \\n                                  </div>\\n              </div>\\n                          <div  class=\"gsc-column col-lg-4 col-md-4 col-sm-12 col-xs-12\">\\n                <div class=\"column-inner  bg-size-cover \" >\\n                  <div class=\"column-content-inner\">\\n                                         \\r\\n\\r\\n                     <div class=\"widget gsc-icon-box top-left-title icon-image text-dark\"  >\\r\\n               \\r\\n               <div class=\"highlight_content\">\\r\\n                  <div class=\"title-inner\">\\r\\n                                             <div class=\"highlight-icon\">\\r\\n                           <span class=\"icon-container fa-2x   text-theme \"  >\\r\\n                                                               <span class=\"notes__dot--float-vert\"></span>\\r\\n                                 <span class=\"notes__dot--float-horz\"></span>\\r\\n                                 <span class=\"notes__dot--rotate\"></span>\\r\\n                                                            <span class=\"icon https://mycar.ucad.sn\"></span>                               <span class=\"icon\"><img src=\"https://www.ucad.sn/sites/default/files/gbb-uploads/icons/058-target-2.png\" alt=\"Demande de macaron pour v\\xc3\\xa9hicule\"/> </span>                            </span>\\r\\n                        </div>\\r\\n                                          \\r\\n                     <div class=\"title\">\\r\\n                        <a href=\"https://mycar.ucad.sn\" target=\"_blank\"> Demande de macaron pour v\\xc3\\xa9hicule </a>                      </div>\\r\\n\\r\\n                     \\r\\n                  </div>\\r\\n                                       <div class=\"desc\"><p>Faites votre demande de macaron en ligne</p>\\r\\n<p><strong>Lien d\\'acc\\xc3\\xa8s : <a href=\"https://mycar.ucad.sn\" target=\"_blank\">https://mycar.ucad.sn</a><br /></strong></p></div>\\r\\n                                 </div>\\r\\n\\r\\n            </div> \\r\\n            \\r\\n\\r\\n                           </div>  \\n                                  </div>\\n              </div>\\n                          <div  class=\"gsc-column col-lg-4 col-md-4 col-sm-12 col-xs-12\">\\n                <div class=\"column-inner  bg-size-cover \" >\\n                  <div class=\"column-content-inner\">\\n                                         \\r\\n\\r\\n                     <div class=\"widget gsc-icon-box top-left-title icon-image text-dark\"  >\\r\\n               \\r\\n               <div class=\"highlight_content\">\\r\\n                  <div class=\"title-inner\">\\r\\n                                             <div class=\"highlight-icon\">\\r\\n                           <span class=\"icon-container fa-2x   text-theme \"  >\\r\\n                                                               <span class=\"notes__dot--float-vert\"></span>\\r\\n                                 <span class=\"notes__dot--float-horz\"></span>\\r\\n                                 <span class=\"notes__dot--rotate\"></span>\\r\\n                                                            <span class=\"icon https://entpersonnel.ucad.sn\"></span>                               <span class=\"icon\"><img src=\"https://www.ucad.sn/sites/default/files/gbb-uploads/icons/089-technology-15.png\" alt=\"Environnement Num\\xc3\\xa9rique de Travail\"/> </span>                            </span>\\r\\n                        </div>\\r\\n                                          \\r\\n                     <div class=\"title\">\\r\\n                        <a href=\"https://entpersonnel.ucad.sn\" target=\"_blank\"> Environnement Num\\xc3\\xa9rique de Travail </a>                      </div>\\r\\n\\r\\n                     \\r\\n                  </div>\\r\\n                                       <div class=\"desc\"><p>Tous les services num\\xc3\\xa9riques destin\\xc3\\xa9s au Personnel dans un seul espace</p>\\r\\n<p><strong>Lien d\\'acc\\xc3\\xa8s : <a href=\"https://entpersonnel.ucad.sn\" target=\"_blank\">https://entpersonnel.ucad.sn</a><br /></strong></p></div>\\r\\n                                 </div>\\r\\n\\r\\n            </div> \\r\\n            \\r\\n\\r\\n                           </div>  \\n                                  </div>\\n              </div>\\n                \\n        </div>\\n      </div>\\n    </div>\\n  </div>  \\n      <div style=\"background-repeat: no-repeat;background-position:center center;\" class=\"gva-parallax-inner skrollable skrollable-between bg-size-cover\" data-bottom-top=\"top: -68%;\" data-top-bottom=\"top: 0%;\"></div>\\n  </div>  \\n</div><div class=\"gbb-row-wrapper\">\\n    <div class=\" gbb-row bg-size-cover\"  style=\"\" >\\n    <div class=\"bb-inner default\">  \\n      <div class=\"bb-container container\">\\n        <div class=\"row\">\\n          <div class=\"row-wrapper clearfix\">\\n                          <div  class=\"gsc-column col-lg-6 col-md-6 col-sm-12 col-xs-12\">\\n                <div class=\"column-inner  bg-size-cover \" >\\n                  <div class=\"column-content-inner\">\\n                                      <div class=\"widget gsc-heading  align-left style-1 text-dark \">\\r\\n            <div class=\"heading-inner\">\\r\\n                \\r\\n                              <h2 class=\"title\"><span>Offres de bourse</span></h2>            </div>\\r\\n                     </div>\\r\\n         <div class=\"clearfix\"></div>\\r\\n         <div><div class=\"widget block gsc-block-view  gsc-block-drupal block-view title-align-left  text-dark remove-margin-off\"><div class=\"views-element-container\"><div class=\"post-style-list medium gva-view js-view-dom-id-fa2dd9708be76835455cbd6261887a4cf3dbf9b42b4841de4a06f9db649a6bc9\">\\n  \\n  \\n  \\n\\n  \\n  \\n  \\n\\n  <div class=\"item-list\">\\n  \\n  <ul>\\n\\n          <li class=\"view-list-item\" ><div class=\"views-field views-field-nothing\"><div class=\"field-content\"><div class=\"post-block\">\\n        <div class=\"post-image\">   <img src=\"/sites/default/files/styles/medium/public/articles/bourses-etudiant.jpeg?itok=pwYRFho9\" alt=\"\" typeof=\"Image\" />\\n\\n\\n</div>\\n        <div class=\"post-content text-left\">\\n                <div class=\"post-title\"> <a href=\"/bourse-dexcellence-uemoa\" hreflang=\"fr\">Bourse d&#039;excellence UEMOA</a> </div>\\n                <div class=\"post-meta\"><span class=\"post-categories\"><a href=\"/taxonomy/term/6\" hreflang=\"en\">Offre de bourse</a> </span>&nbsp;/&nbsp;<span class=\"post-created\">21 juillet 23 </span></div>\\n                <div class=\"post-body\">La commission de l\\'UEMOA lance un appel \\xc3\\xa0 candidatures pour le financement de bourses d\\'excellence pour la formation </div>\\n\\t </div>\\t \\n</div></div></div></li>\\n          <li class=\"view-list-item\" ><div class=\"views-field views-field-nothing\"><div class=\"field-content\"><div class=\"post-block\">\\n        <div class=\"post-image\">   <img src=\"/sites/default/files/styles/medium/public/articles/14366_big.jpeg?itok=UdWjXLQK\" alt=\"\" typeof=\"Image\" />\\n\\n\\n</div>\\n        <div class=\"post-content text-left\">\\n                <div class=\"post-title\"> <a href=\"/100-bourses-detudes-universitaires-aux-etats-membres-de-loci\" hreflang=\"fr\">100 bourses d&#039;\\xc3\\xa9tudes universitaires aux Etats membres de l&#039;OCI</a> </div>\\n                <div class=\"post-meta\"><span class=\"post-categories\"><a href=\"/taxonomy/term/6\" hreflang=\"en\">Offre de bourse</a> </span>&nbsp;/&nbsp;<span class=\"post-created\">03 mai 23 </span></div>\\n                <div class=\"post-body\">Le gouvernement du Kazakhstan a allou\\xc3\\xa9 100 bourses d\\'\\xc3\\xa9tudes universitaires renouvelables annuellement pour permettre </div>\\n\\t </div>\\t \\n</div></div></div></li>\\n    \\n  </ul>\\n\\n</div>\\n\\n    \\n\\n  \\n  <div class=\"more-link\"><a href=\"/blogs-bourse\">Plus d&#039;informations</a></div>\\n\\n\\n  \\n  \\n</div>\\n</div>\\n</div></div>                  </div>  \\n                                  </div>\\n              </div>\\n                          <div  class=\"gsc-column col-lg-6 col-md-6 col-sm-12 col-xs-12\">\\n                <div class=\"column-inner  bg-size-cover \" >\\n                  <div class=\"column-content-inner\">\\n                                      <div class=\"widget gsc-heading  align-left style-1 text-dark \">\\r\\n            <div class=\"heading-inner\">\\r\\n                \\r\\n                              <h2 class=\"title\"><span>Appels \\xc3\\xa0 candidatures</span></h2>            </div>\\r\\n                     </div>\\r\\n         <div class=\"clearfix\"></div>\\r\\n         <div><div class=\"widget block gsc-block-view  gsc-block-drupal block-view title-align-left  text-dark remove-margin-off\"><div class=\"views-element-container\"><div class=\"post-style-list medium gva-view js-view-dom-id-0a77f7352e159728fb8bb2b5027846279bbfb3750bb89927bbe1d851f5c6091b\">\\n  \\n  \\n  \\n\\n  \\n  \\n  \\n\\n  <div class=\"item-list\">\\n  \\n  <ul>\\n\\n          <li class=\"view-list-item\" ><div class=\"views-field views-field-nothing\"><div class=\"field-content\"><div class=\"post-block\">\\n        <div class=\"post-image\">   <img src=\"/sites/default/files/styles/medium/public/articles/esp-dakar-1430x950-1_0.jpeg?itok=A2QkjWei\" alt=\"\" typeof=\"Image\" />\\n\\n\\n</div>\\n        <div class=\"post-content text-left\">\\n                <div class=\"post-title\"> <a href=\"/esp-appels-candidatures\" hreflang=\"fr\">ESP: Appels \\xc3\\xa0 candidatures </a> </div>\\n                <div class=\"post-meta\"><span class=\"post-categories\"><a href=\"/taxonomy/term/1\" hreflang=\"en\">Appel \\xc3\\xa0 candidatures</a> </span>&nbsp;/&nbsp;<span class=\"post-created\">31 juillet 23 </span></div>\\n                <div class=\"post-body\">Le Recteur de l\\'Universit\\xc3\\xa9 Cheikh Anta Diop de Dakar relance l\\'appel \\xc3\\xa0 candidatures pour le compte du D\\xc3\\xa9partement G\\xc3\\xa9n</div>\\n\\t </div>\\t \\n</div></div></div></li>\\n          <li class=\"view-list-item\" ><div class=\"views-field views-field-nothing\"><div class=\"field-content\"><div class=\"post-block\">\\n        <div class=\"post-image\">   <img src=\"/sites/default/files/styles/medium/public/articles/te%CC%81le%CC%81chargement.jpeg?itok=SZx4uiA2\" alt=\"\" typeof=\"Image\" />\\n\\n\\n</div>\\n        <div class=\"post-content text-left\">\\n                <div class=\"post-title\"> <a href=\"/ensmg-appel-candidatures\" hreflang=\"fr\">ENSMG : Appel \\xc3\\xa0 candidatures PER  </a> </div>\\n                <div class=\"post-meta\"><span class=\"post-categories\"><a href=\"/taxonomy/term/1\" hreflang=\"en\">Appel \\xc3\\xa0 candidatures</a> </span>&nbsp;/&nbsp;<span class=\"post-created\">24 juillet 23 </span></div>\\n                <div class=\"post-body\">Le Recteur de l\\'Universit\\xc3\\xa9 Cheikh Anta Diop de Dakar lance pour le compte de l\\'Ecole Nationale Sup\\xc3\\xa9rieure des Mines e</div>\\n\\t </div>\\t \\n</div></div></div></li>\\n    \\n  </ul>\\n\\n</div>\\n\\n    \\n\\n  \\n  <div class=\"more-link\"><a href=\"/blogs-recrutement\">Plus d&#039;informations</a></div>\\n\\n\\n  \\n  \\n</div>\\n</div>\\n</div></div>                  </div>  \\n                                  </div>\\n              </div>\\n                \\n        </div>\\n      </div>\\n    </div>\\n  </div>  \\n  </div>  \\n</div><div class=\"gbb-row-wrapper\">\\n    <div class=\" gbb-row gva-parallax-background  bg-size-cover\"  style=\"background-image:url(\\'/sites/default/files/LUX_MEA_LEX/stat.jpg\\'); background-repeat:no-repeat; background-position:center center\" >\\n    <div class=\"bb-inner default\">  \\n      <div class=\"bb-container container\">\\n        <div class=\"row\">\\n          <div class=\"row-wrapper clearfix\">\\n                          <div  class=\"gsc-column col-lg-12 col-md-12 col-sm-12 col-xs-12\">\\n                <div class=\"column-inner  bg-size-cover \" >\\n                  <div class=\"column-content-inner\">\\n                                      <div class=\"widget gsc-heading  align-center style-1 text-light \">\\r\\n            <div class=\"heading-inner\">\\r\\n                \\r\\n                              <h2 class=\"title\"><span>UCAD en chiffres (en 2021)</span></h2>            </div>\\r\\n            <div class=\"title-desc\"><p>PER : Personnel Enseignant et de Recherche - PATS : Personnel Administratif Technique et de Service</p></div>         </div>\\r\\n         <div class=\"clearfix\"></div>\\r\\n                           </div>  \\n                                  </div>\\n              </div>\\n                          <div  class=\"gsc-column col-lg-3 col-md-3 col-sm-6 col-xs-12 col-xs-6\">\\n                <div class=\"column-inner  bg-size-cover \" >\\n                  <div class=\"column-content-inner\">\\n                                      <div class=\"widget milestone-block  position-icon-left text-light\">\\r\\n                           <div class=\"milestone-icon\"><span  class=\"gv-icon-1083\"></span></div>\\r\\n               \\r\\n            <div class=\"milestone-right\">\\r\\n               <div class=\"milestone-number\" >89589</div>\\r\\n               <div class=\"milestone-text\">Etudiants</div>\\r\\n            </div>\\r\\n         </div>\\r\\n                           </div>  \\n                                  </div>\\n              </div>\\n                          <div  class=\"gsc-column col-lg-3 col-md-3 col-sm-6 col-xs-12 col-xs-6\">\\n                <div class=\"column-inner  bg-size-cover \" >\\n                  <div class=\"column-content-inner\">\\n                                      <div class=\"widget milestone-block  position-icon-left text-light\">\\r\\n                           <div class=\"milestone-icon\"><span  class=\"gv-icon-410\"></span></div>\\r\\n               \\r\\n            <div class=\"milestone-right\">\\r\\n               <div class=\"milestone-number\" >3244</div>\\r\\n               <div class=\"milestone-text\">PER</div>\\r\\n            </div>\\r\\n         </div>\\r\\n                           </div>  \\n                                  </div>\\n              </div>\\n                          <div  class=\"gsc-column col-lg-3 col-md-3 col-sm-6 col-xs-12 col-xs-6\">\\n                <div class=\"column-inner  bg-size-cover \" >\\n                  <div class=\"column-content-inner\">\\n                                      <div class=\"widget milestone-block  position-icon-left text-light\">\\r\\n                           <div class=\"milestone-icon\"><span  class=\"gv-icon-410\"></span></div>\\r\\n               \\r\\n            <div class=\"milestone-right\">\\r\\n               <div class=\"milestone-number\" >2107</div>\\r\\n               <div class=\"milestone-text\">PATS</div>\\r\\n            </div>\\r\\n         </div>\\r\\n                           </div>  \\n                                  </div>\\n              </div>\\n                          <div  class=\"gsc-column col-lg-3 col-md-3 col-sm-6 col-xs-12 col-xs-6\">\\n                <div class=\"column-inner  bg-size-cover \" >\\n                  <div class=\"column-content-inner\">\\n                                      <div class=\"widget milestone-block  position-icon-left text-light\">\\r\\n                           <div class=\"milestone-icon\"><span  class=\"gv-icon-759\"></span></div>\\r\\n               \\r\\n            <div class=\"milestone-right\">\\r\\n               <div class=\"milestone-number\" >44</div>\\r\\n               <div class=\"milestone-text\">Nationalit\\xc3\\xa9s</div>\\r\\n            </div>\\r\\n         </div>\\r\\n                           </div>  \\n                                  </div>\\n              </div>\\n                \\n        </div>\\n      </div>\\n    </div>\\n  </div>  \\n      <div style=\"background-repeat: no-repeat;background-position:center center;\" class=\"gva-parallax-inner skrollable skrollable-between bg-size-cover\" data-bottom-top=\"top: -68%;\" data-top-bottom=\"top: 0%;\"></div>\\n  </div>  \\n</div><div class=\"gbb-row-wrapper\">\\n    <div class=\" gbb-row bg-size-cover\"  style=\"\" >\\n    <div class=\"bb-inner default\">  \\n      <div class=\"bb-container container\">\\n        <div class=\"row\">\\n          <div class=\"row-wrapper clearfix\">\\n                          <div  class=\"gsc-column col-lg-12 col-md-12 col-sm-12 col-xs-12\">\\n                <div class=\"column-inner  bg-size-cover \" >\\n                  <div class=\"column-content-inner\">\\n                                      <div class=\"widget gsc-heading  align-left style-1 text-dark \">\\r\\n            <div class=\"heading-inner\">\\r\\n                \\r\\n                              <h2 class=\"title\"><span>Replay</span></h2>            </div>\\r\\n                     </div>\\r\\n         <div class=\"clearfix\"></div>\\r\\n                           </div>  \\n                                  </div>\\n              </div>\\n                          <div  class=\"gsc-column col-lg-5 col-md-5 col-sm-12 col-xs-12\">\\n                <div class=\"column-inner  bg-size-cover \" >\\n                  <div class=\"column-content-inner\">\\n                                         <div class=\"widget gsc-image  \"  >\\r\\n               <div class=\"widget-content\">\\r\\n                                       <a href=\"https://www.zeno.fm/ucad-fm\" target=\"_blank\">\\r\\n                   \\r\\n                    <img src=\"https://www.ucad.sn/sites/default/files/thumbnail_image.png\" alt=\"\" />\\r\\n                  </a>               </div>\\r\\n            </div>    \\r\\n                           <div class=\"gsc-box-text widget clearfix \" >\\r\\n                          \\r\\n               <div class=\"box-content\"><p>Dans le cadre du Dialogue des savoirs, le Professeur Ahmadou Aly Mbaye, Recteur de l\\xe2\\x80\\x99Universit\\xc3\\xa9 Cheikh Anta DIOP de Dakar vous convie le mercredi 17 mai 2023 \\xc3\\xa0 16h00, \\xc3\\xa0 la conf\\xc3\\xa9rence anim\\xc3\\xa9e par l\\xe2\\x80\\x99\\xc3\\xa9crivaine Ken Bugul, au Centre de Conf\\xc3\\xa9rences de l\\'UCAD II sur le th\\xc3\\xa8me : \" D\\xc3\\xa9construire la fatalit\\xc3\\xa9 : une vie, une \\xc5\\x93uvre\".\\xc2\\xa0 Auteure d\\xe2\\x80\\x99une dizaine de romans et Commandeure des Arts et des Lettres de la R\\xc3\\xa9publique fran\\xc3\\xa7aise, son ouvrage Riwan ou le chemin de sable (\\xc3\\xa9d. Pr\\xc3\\xa9sence Africaine) a re\\xc3\\xa7u le prestigieux Grand prix litt\\xc3\\xa9raire d\\xe2\\x80\\x99Afrique noire en 1999.</p></div>\\r\\n               \\r\\n         </div>\\r\\n                           </div>  \\n                                  </div>\\n              </div>\\n                          <div  class=\"gsc-column col-lg-7 col-md-7 col-sm-12 col-xs-12\">\\n                <div class=\"column-inner  bg-size-cover \" >\\n                  <div class=\"column-content-inner\">\\n                    <div class=\"column-content  \"><p style=\"padding-left: 20px; padding-top: 20px; text-align: center; font-size: 16px; font-weight: bold;\"><span style=\"font-weight: bold;\">Revivez l\\'\\xc3\\xa9v\\xc3\\xa9nement du mercredi 17 mai 2023</span></p>\\r\\n<p style=\"padding-left: 20px; text-align: center;\"><iframe title=\"Dialogue des savoirs\" src=\"https://www.youtube.com/embed/sdwtdrqhKYI\" width=\"600\" height=\"400\" frameborder=\"0\" allowfullscreen=\"allowfullscreen\"></iframe></p></div>                  </div>  \\n                                  </div>\\n              </div>\\n                \\n        </div>\\n      </div>\\n    </div>\\n  </div>  \\n  </div>  \\n</div><div class=\"gbb-row-wrapper\">\\n    <div class=\" gbb-row bg-size-cover\"  style=\"background-color:#F7F9FA\" >\\n    <div class=\"bb-inner default\">  \\n      <div class=\"bb-container container\">\\n        <div class=\"row\">\\n          <div class=\"row-wrapper clearfix\">\\n                          <div  class=\"gsc-column col-lg-9 col-md-9 col-sm-12 col-xs-12\">\\n                <div class=\"column-inner  bg-size-cover \" >\\n                  <div class=\"column-content-inner\">\\n                                      <div class=\"widget gsc-heading  align-left style-1 text-dark \">\\r\\n            <div class=\"heading-inner\">\\r\\n                \\r\\n                              <h2 class=\"title\"><span>Espace Presse</span></h2>            </div>\\r\\n                     </div>\\r\\n         <div class=\"clearfix\"></div>\\r\\n         <div><div class=\"widget block gsc-block-view  gsc-block-drupal block-view title-align-left  text-dark remove-margin-off\"><div class=\"views-element-container\"><div class=\"gva-view js-view-dom-id-8f5c2bd91ee1da43872ebec42116b75db97fe9714b1f4f1e7b3cdb8a5a76ab6a\">\\n  \\n  \\n  \\n\\n  \\n  \\n  \\n\\n  <div class=\"item-list\">\\n  \\n  <ul>\\n\\n          <li class=\"view-list-item\" ><div class=\"views-field views-field-title\"><strong class=\"field-content\"><a href=\"/node/538\" hreflang=\"fr\">Revue de presse du 14 au 18 ao\\xc3\\xbbt 2023</a></strong></div><div class=\"views-field views-field-body\"><div class=\"field-content\"><p>votre\\xc2\\xa0revue\\xc2\\xa0de\\xc2\\xa0presse\\xc2\\xa0hebdomadaire sur l\\'\\xc3\\x89ducation et l\\'Enseignement Sup\\xc3\\xa9rieur au S\\xc3\\xa9n\\xc3\\xa9gal et dans le monde.\\xc2\\xa0</p>\\n\\n<p>Bonne lecture !</p>\\n\\n<p><a href=\"/sites/default/files/_Revue%20de%20presse%20du%2014%20au%2018%20aou%CC%82t%202023%20-min%20(1).pdf\">T\\xc3\\xa9l\\xc3\\xa9charger\\xc2\\xa0</a></p>\\n</div></div></li>\\n          <li class=\"view-list-item\" ><div class=\"views-field views-field-title\"><strong class=\"field-content\"><a href=\"/node/532\" hreflang=\"fr\">Revue de presse du 31 juillet au 04 ao\\xc3\\xbbt </a></strong></div><div class=\"views-field views-field-body\"><div class=\"field-content\"><p>votre\\xc2\\xa0revue\\xc2\\xa0de\\xc2\\xa0presse\\xc2\\xa0hebdomadaire sur l\\'\\xc3\\x89ducation et l\\'Enseignement Sup\\xc3\\xa9rieur au S\\xc3\\xa9n\\xc3\\xa9gal et dans le monde.\\xc2\\xa0</p>\\n\\n<p>Bonne lecture !</p>\\n\\n<p><a href=\"/sites/default/files/Revue%20de%20presse%20du%2031%20juillet%20au%2004%20aou%CC%82t%202023.pdf\">T\\xc3\\xa9l\\xc3\\xa9charger</a></p>\\n</div></div></li>\\n          <li class=\"view-list-item\" ><div class=\"views-field views-field-title\"><strong class=\"field-content\"><a href=\"/node/527\" hreflang=\"fr\">Revue de presse du 17 au 21 juillet 2023</a></strong></div><div class=\"views-field views-field-body\"><div class=\"field-content\"><p>Votre\\xc2\\xa0revue\\xc2\\xa0de\\xc2\\xa0presse\\xc2\\xa0hebdomadaire sur l\\'\\xc3\\x89ducation et l\\'Enseignement Sup\\xc3\\xa9rieur au S\\xc3\\xa9n\\xc3\\xa9gal et dans le monde.\\xc2\\xa0</p>\\n\\n<p>Bonne lecture !</p>\\n\\n<p><a href=\"/sites/default/files/Revue%20de%20presse%20du%2017%20au%2021%20juillet%202023.pdf\">T\\xc3\\xa9l\\xc3\\xa9charger</a>\\xc2\\xa0</p>\\n</div></div></li>\\n    \\n  </ul>\\n\\n</div>\\n\\n    \\n\\n  \\n  <div class=\"more-link\"><a href=\"/espacepresse\">Voir plus</a></div>\\n\\n\\n  \\n  \\n</div>\\n</div>\\n</div></div>                  </div>  \\n                                  </div>\\n              </div>\\n                          <div  class=\"gsc-column col-lg-3 col-md-3 col-sm-6 col-xs-12\">\\n                <div class=\"column-inner  bg-size-cover \" >\\n                  <div class=\"column-content-inner\">\\n                                      <div class=\"widget gsc-heading  align-left style-1 text-dark \">\\r\\n            <div class=\"heading-inner\">\\r\\n                \\r\\n                              <h2 class=\"title\"><span>Radio UCAD</span></h2>            </div>\\r\\n            <div class=\"title-desc\"><p>Ecoutez en ligne la Radio UCAD Fm sur <a href=\"https://www.zeno.fm/ucad-fm\" target=\"_blank\">https://www.zeno.fm/ucad-fm</a></p></div>         </div>\\r\\n         <div class=\"clearfix\"></div>\\r\\n                              <div class=\"widget gsc-image  \"  >\\r\\n               <div class=\"widget-content\">\\r\\n                                       <a href=\"https://www.zeno.fm/ucad-fm\" target=\"_blank\">\\r\\n                   \\r\\n                    <img src=\"https://www.ucad.sn/sites/default/files/UCADfm.jpg\" alt=\"\" />\\r\\n                  </a>               </div>\\r\\n            </div>    \\r\\n                           </div>  \\n                                  </div>\\n              </div>\\n                \\n        </div>\\n      </div>\\n    </div>\\n  </div>  \\n  </div>  \\n</div><div class=\"gbb-row-wrapper\">\\n    <div class=\" gbb-row bg-size-cover\"  style=\"\" >\\n    <div class=\"bb-inner default\">  \\n      <div class=\"bb-container container\">\\n        <div class=\"row\">\\n          <div class=\"row-wrapper clearfix\">\\n                          <div  class=\"gsc-column col-lg-6 col-md-6 col-sm-12 col-xs-12\">\\n                <div class=\"column-inner  bg-size-cover \" >\\n                  <div class=\"column-content-inner\">\\n                                      <div class=\"widget gsc-heading  align-left style-1 text-dark \">\\r\\n            <div class=\"heading-inner\">\\r\\n                \\r\\n                              <h2 class=\"title\"><span>Portrait</span></h2>            </div>\\r\\n                     </div>\\r\\n         <div class=\"clearfix\"></div>\\r\\n         <div><div class=\"widget block gsc-block-view  gsc-block-drupal block-view title-align-left  text-dark remove-margin-off\"><div class=\"views-element-container\"><div class=\"post-style-list medium gva-view js-view-dom-id-70e014f5fe9072511da4d2dd03d3eebf714c3e2f0c187bad690e15fedf730e74\">\\n  \\n  \\n  \\n\\n  \\n  \\n  \\n\\n  <div class=\"item-list\">\\n  \\n  <ul>\\n\\n          <li class=\"view-list-item\" ><div class=\"views-field views-field-nothing\"><div class=\"field-content\"><div class=\"post-block\">\\n        <div class=\"post-image\">   <img src=\"/sites/default/files/styles/medium/public/2023-02/yvonne.jpg?itok=Qb3pME5Y\" alt=\"\" typeof=\"Image\" />\\n\\n\\n</div>\\n        <div class=\"post-content text-left\">\\n                <div class=\"post-title\"> <a href=\"/node/439\" hreflang=\"fr\">Yvonne Berthe Ciss\\xc3\\xa9 : La touche num\\xc3\\xa9rique de la BU</a> </div>\\n                <div class=\"post-meta\"><span class=\"post-categories\"> </span>&nbsp;/&nbsp;<span class=\"post-created\">10 February 23 </span></div>\\n                <div class=\"post-body\">En l\\xe2\\x80\\x99espace d\\xe2\\x80\\x99une d\\xc3\\xa9cennie, Yvonne Berthe Ciss\\xc3\\xa9 a r\\xc3\\xa9ussi \\xc3\\xa0 mar</div>\\n\\t </div>\\t \\n</div></div></div></li>\\n          <li class=\"view-list-item\" ><div class=\"views-field views-field-nothing\"><div class=\"field-content\"><div class=\"post-block\">\\n        <div class=\"post-image\">   <img src=\"/sites/default/files/styles/medium/public/2023-01/u%20elle.jpg?itok=FOIObJF3\" alt=\"\" typeof=\"Image\" />\\n\\n\\n</div>\\n        <div class=\"post-content text-left\">\\n                <div class=\"post-title\"> <a href=\"/node/411\" hreflang=\"fr\">Fatoumata Sy : Les petits pas d\\xe2\\x80\\x99un futur leader</a> </div>\\n                <div class=\"post-meta\"><span class=\"post-categories\"> </span>&nbsp;/&nbsp;<span class=\"post-created\">09 janvier 23 </span></div>\\n                <div class=\"post-body\">Laur\\xc3\\xa9ate du deuxi\\xc3\\xa8me prix de la communication scientifique orale au Niger, Fatoumata Sy, \\xc3\\xa9tudiante en licence</div>\\n\\t </div>\\t \\n</div></div></div></li>\\n          <li class=\"view-list-item\" ><div class=\"views-field views-field-nothing\"><div class=\"field-content\"><div class=\"post-block\">\\n        <div class=\"post-image\">   <img src=\"/sites/default/files/styles/medium/public/2022-10/IMG_0437.JPG?itok=rIeVljvX\" alt=\"\" typeof=\"Image\" />\\n\\n\\n</div>\\n        <div class=\"post-content text-left\">\\n                <div class=\"post-title\"> <a href=\"/node/383\" hreflang=\"fr\">Mme Diop dite \\xe2\\x80\\x98\\xe2\\x80\\x99Bajen\\xe2\\x80\\x99\\xe2\\x80\\x99 : Un mod\\xc3\\xa8le d\\xe2\\x80\\x99humanisme et de constance</a> </div>\\n                <div class=\"post-meta\"><span class=\"post-categories\"> </span>&nbsp;/&nbsp;<span class=\"post-created\">27 octobre 22 </span></div>\\n                <div class=\"post-body\">\\xc2\\xa0\\n\\n\\xc2\\xa0\\xc2\\xa0</div>\\n\\t </div>\\t \\n</div></div></div></li>\\n    \\n  </ul>\\n\\n</div>\\n\\n    \\n\\n  \\n  <div class=\"more-link\"><a href=\"/blogs-portrait\">Voir plus</a></div>\\n\\n\\n  \\n  \\n</div>\\n</div>\\n</div></div>                  </div>  \\n                                  </div>\\n              </div>\\n                          <div  class=\"gsc-column col-lg-6 col-md-6 col-sm-12 col-xs-12\">\\n                <div class=\"column-inner  bg-size-cover \" >\\n                  <div class=\"column-content-inner\">\\n                                      <div class=\"widget gsc-heading  align-left style-1 text-dark \">\\r\\n            <div class=\"heading-inner\">\\r\\n                \\r\\n                              <h2 class=\"title\"><span>Parution d\\'ouvrage</span></h2>            </div>\\r\\n                     </div>\\r\\n         <div class=\"clearfix\"></div>\\r\\n         <div><div class=\"widget block gsc-block-view  gsc-block-drupal block-view title-align-left  text-dark remove-margin-off\"><div class=\"views-element-container\"><div class=\"post-style-list medium gva-view js-view-dom-id-372136cab64c2c023e8097314419f043f58dff8b6b4d2a6204e9a88fcf5695c6\">\\n  \\n  \\n  \\n\\n  \\n  \\n  \\n\\n  <div class=\"item-list\">\\n  \\n  <ul>\\n\\n          <li class=\"view-list-item\" ><div class=\"views-field views-field-nothing\"><div class=\"field-content\"><div class=\"post-block\">\\n        <div class=\"post-image\">   <img src=\"/sites/default/files/styles/medium/public/articles/9783662658987.jpg?itok=x6JmmdQU\" alt=\"\" typeof=\"Image\" />\\n\\n\\n</div>\\n        <div class=\"post-content text-left\">\\n                <div class=\"post-title\"> <a href=\"/dolonial-aesthetics-tangled-humanism-afro-european-context\" hreflang=\"fr\">Dolonial Aesthetics. Tangled Humanism in the Afro-European Context</a> </div>\\n                <div class=\"post-meta\"><span class=\"post-categories\"><a href=\"/taxonomy/term/4\" hreflang=\"en\">Publication</a> </span>&nbsp;/&nbsp;<span class=\"post-created\">06 February 23 </span></div>\\n                <div class=\"post-body\">Parution\\xc2\\xa0 du recueil \"Decolonial Aesthetics.</div>\\n\\t </div>\\t \\n</div></div></div></li>\\n          <li class=\"view-list-item\" ><div class=\"views-field views-field-nothing\"><div class=\"field-content\"><div class=\"post-block\">\\n        <div class=\"post-image\">   <img src=\"/sites/default/files/styles/medium/public/articles/Capture%20d%E2%80%99e%CC%81cran%202023-01-10%20a%CC%80%2015.17.02.png?itok=VIhmzy3R\" alt=\"\" typeof=\"Image\" />\\n\\n\\n</div>\\n        <div class=\"post-content text-left\">\\n                <div class=\"post-title\"> <a href=\"/ouvrage-contribution-une-politique-damenagement-et-de-developpement-des-territoires-du-senegal\" hreflang=\"fr\">Ouvrage &quot; CONTRIBUTION \\xc3\\x80 UNE POLITIQUE D\\xe2\\x80\\x99AM\\xc3\\x89NAGEMENT ET DE D\\xc3\\x89VELOPPEMENT DES TERRITOIRES DU S\\xc3\\x89N\\xc3\\x89GAL&quot;. </a> </div>\\n                <div class=\"post-meta\"><span class=\"post-categories\"><a href=\"/taxonomy/term/4\" hreflang=\"en\">Publication</a> </span>&nbsp;/&nbsp;<span class=\"post-created\">10 janvier 23 </span></div>\\n                <div class=\"post-body\">Comment donner du sens a\\xcc\\x80 l\\xe2\\x80\\x99Acte 3 de la De\\xcc\\x81centralisation.</div>\\n\\t </div>\\t \\n</div></div></div></li>\\n          <li class=\"view-list-item\" ><div class=\"views-field views-field-nothing\"><div class=\"field-content\"><div class=\"post-block\">\\n        <div class=\"post-image\">   <img src=\"/sites/default/files/styles/medium/public/articles/Capture%20d%E2%80%99e%CC%81cran%202022-11-28%20a%CC%80%2020.09.26.png?itok=f5AiT0qN\" alt=\"\" typeof=\"Image\" />\\n\\n\\n</div>\\n        <div class=\"post-content text-left\">\\n                <div class=\"post-title\"> <a href=\"/rapport-final-plan-de-gestion-environnementale-et-sociale-pges-pour-la-construction-dune-plateforme\" hreflang=\"fr\">Rapport final plan de gestion environnementale et sociale (PGES) pour la construction d&#039;une plateforme  de recherche innovation-incubation (R21) \\xc3\\xa0 l&#039;UCAD</a> </div>\\n                <div class=\"post-meta\"><span class=\"post-categories\"><a href=\"/taxonomy/term/4\" hreflang=\"en\">Publication</a> </span>&nbsp;/&nbsp;<span class=\"post-created\">28 novembre 22 </span></div>\\n                <div class=\"post-body\"></div>\\n\\t </div>\\t \\n</div></div></div></li>\\n    \\n  </ul>\\n\\n</div>\\n\\n    \\n\\n  \\n  <div class=\"more-link\"><a href=\"/blogs-pub\">Voir plus</a></div>\\n\\n\\n  \\n  \\n</div>\\n</div>\\n</div></div>                  </div>  \\n                                  </div>\\n              </div>\\n                \\n        </div>\\n      </div>\\n    </div>\\n  </div>  \\n  </div>  \\n</div><div class=\"gbb-row-wrapper\">\\n    <div class=\" gbb-row bg-size-cover\"  style=\"background-color:#F7F9FA\" >\\n    <div class=\"bb-inner default\">  \\n      <div class=\"bb-container container\">\\n        <div class=\"row\">\\n          <div class=\"row-wrapper clearfix\">\\n                          <div  class=\"gsc-column col-lg-12 col-md-12 col-sm-12 col-xs-12\">\\n                <div class=\"column-inner  bg-size-cover \" >\\n                  <div class=\"column-content-inner\">\\n                                      <div class=\"widget gsc-heading  align-center style-1 text-dark \">\\r\\n            <div class=\"heading-inner\">\\r\\n                \\r\\n                              <h2 class=\"title\"><span>Ev\\xc3\\xa9nement en direct</span></h2>            </div>\\r\\n            <div class=\"title-desc\"><p>Revivez les temps forts des diff\\xc3\\xa9rentes c\\xc3\\xa9r\\xc3\\xa9monies</p></div>         </div>\\r\\n         <div class=\"clearfix\"></div>\\r\\n                           </div>  \\n                                  </div>\\n              </div>\\n                          <div  class=\"gsc-column col-lg-4 col-md-4 col-sm-12 col-xs-12\">\\n                <div class=\"column-inner  bg-size-cover \" >\\n                  <div class=\"column-content-inner\">\\n                                <div class=\"widget gsc-video-box  clearfix\">\\r\\n         <div class=\"video-inner\">\\r\\n            <div class=\"image\"><img src=\"https://www.ucad.sn/sites/default/files/colloqueAMRS.png\" alt=\"Vid\\xc3\\xa9o\"/></div>\\r\\n            <div class=\"video-body\">\\r\\n               <a class=\"popup-video gsc-video-link\" href=\"https://www.youtube.com/watch?v=0rbjjTllU5I\">\\r\\n                  <span class=\"icon-play\"><i class=\"fa fa-play space-40\"></i></span>\\r\\n               </a>\\r\\n            </div>\\r\\n         </div>   \\r\\n      </div>   \\r\\n      <div class=\"column-content  \"><p>11\\xc3\\xa8me Colloque AMRS</p></div>                  </div>  \\n                                  </div>\\n              </div>\\n                          <div  class=\"gsc-column col-lg-4 col-md-4 col-sm-12 col-xs-12\">\\n                <div class=\"column-inner  bg-size-cover \" >\\n                  <div class=\"column-content-inner\">\\n                                <div class=\"widget gsc-video-box  clearfix\">\\r\\n         <div class=\"video-inner\">\\r\\n            <div class=\"image\"><img src=\"https://www.ucad.sn/sites/default/files/wascal.png\" alt=\"Vid\\xc3\\xa9o\"/></div>\\r\\n            <div class=\"video-body\">\\r\\n               <a class=\"popup-video gsc-video-link\" href=\"https://www.youtube.com/watch?v=FG5ouDn0Njk\">\\r\\n                  <span class=\"icon-play\"><i class=\"fa fa-play space-40\"></i></span>\\r\\n               </a>\\r\\n            </div>\\r\\n         </div>   \\r\\n      </div>   \\r\\n      <div class=\"column-content  \"><p>C\\xc3\\xa9l\\xc3\\xa9bration des 10 ans du WASCAL</p></div>                  </div>  \\n                                  </div>\\n              </div>\\n                          <div  class=\"gsc-column col-lg-4 col-md-4 col-sm-12 col-xs-12\">\\n                <div class=\"column-inner  bg-size-cover \" >\\n                  <div class=\"column-content-inner\">\\n                                <div class=\"widget gsc-video-box  clearfix\">\\r\\n         <div class=\"video-inner\">\\r\\n            <div class=\"image\"><img src=\"https://www.ucad.sn/sites/default/files/PanelBM.png\" alt=\"Vid\\xc3\\xa9o\"/></div>\\r\\n            <div class=\"video-body\">\\r\\n               <a class=\"popup-video gsc-video-link\" href=\"https://www.youtube.com/watch?v=sHs1tsP0h7Q\">\\r\\n                  <span class=\"icon-play\"><i class=\"fa fa-play space-40\"></i></span>\\r\\n               </a>\\r\\n            </div>\\r\\n         </div>   \\r\\n      </div>   \\r\\n      <div class=\"column-content  \"><p>Panel avec la Banque mondiale</p></div>                  </div>  \\n                                  </div>\\n              </div>\\n                \\n        </div>\\n      </div>\\n    </div>\\n  </div>  \\n  </div>  \\n</div><div class=\"gbb-row-wrapper\">\\n    <div class=\" gbb-row bg-size-cover\"  style=\"\" >\\n    <div class=\"bb-inner default\">  \\n      <div class=\"bb-container container\">\\n        <div class=\"row\">\\n          <div class=\"row-wrapper clearfix\">\\n                          <div  class=\"gsc-column col-lg-12 col-md-12 col-sm-12 col-xs-12\">\\n                <div class=\"column-inner  bg-size-cover \" >\\n                  <div class=\"column-content-inner\">\\n                                         <div class=\"widget gsc-box-info  content-align-left\" >\\r\\n               <div class=\"box-row\">\\r\\n                  <div class=\"image box-column\"><div class=\"content-inner text-center\"><div class=\"column-content-inner\">\\r\\n                     <img src=\"/sites/default/files/ED/ecoledoctorale2.jpg\" alt=\"Ecoles doctorales\" />\\r\\n                  </div></div></div> \\r\\n                  <div class=\"box-content box-column text-dark\">\\r\\n                     <div class=\"content-inner\">\\r\\n                        <div class=\"column-content-inner\">\\r\\n                                                         <h2 class=\"title\">Ecoles doctorales</h2>\\r\\n                                  \\r\\n\\r\\n                                                         <div class=\"desc\"><ul>\\r\\n<li><a href=\"http://edeque.ucad.sn/\" target=\"_blank\">Ecole doctorale Eau, Qualit\\xc3\\xa9 et Usages de l\\'Eau (EDEQUE)</a></li>\\r\\n<li><a href=\"http://sev.ucad.sn/\" target=\"_blank\">Ecole doctorale Sciences de la Vie, de la Sant\\xc3\\xa9 et de l\\'Environnement (ED-SEV)</a></li>\\r\\n<li>Ecole doctorale Physique, Chimie, Sciences de la Terre, de l\\'Univers et de l\\'Ing\\xc3\\xa9nieur (ED-PCSTUI)</li>\\r\\n<li><a href=\"http://ethos.ucad.sn/\" target=\"_blank\">Ecole doctorale Etudes sur l\\'Homme et la Soci\\xc3\\xa9t\\xc3\\xa9 (ED-ETHOS)</a></li>\\r\\n<li><a href=\"http://edmi.ucad.sn/\" target=\"_blank\">Ecole doctorale Math\\xc3\\xa9matique et Informatique (ED-MATHINFO)</a></li>\\r\\n<li><a href=\"http://arciv.ucad.sn/\" target=\"_blank\">Ecole doctorale Arts, Cultures et Civilisations (ED-ARCIV)</a></li>\\r\\n<li><a href=\"http://edjpeg.ucad.sn/\" target=\"_blank\">Ecole doctorale Sciences Juridiques, Politiques, Economiques et de Gestion (ED-JPEG)</a></li>\\r\\n</ul></div>\\r\\n                              \\r\\n\\r\\n                                                   </div>   \\r\\n                     </div>\\r\\n                  </div>\\r\\n               </div>   \\r\\n           </div>\\r\\n                           </div>  \\n                                  </div>\\n              </div>\\n                \\n        </div>\\n      </div>\\n    </div>\\n  </div>  \\n  </div>  \\n</div><div class=\"gbb-row-wrapper\">\\n    <div class=\" gbb-row bg-size-cover\"  style=\"background-color:#f5f5f5\" >\\n    <div class=\"bb-inner default\">  \\n      <div class=\"bb-container container\">\\n        <div class=\"row\">\\n          <div class=\"row-wrapper clearfix\">\\n                          <div  class=\"gsc-column col-lg-12 col-md-12 col-sm-12 col-xs-12\">\\n                <div class=\"column-inner  bg-size-cover \" >\\n                  <div class=\"column-content-inner\">\\n                                      <div class=\"widget gsc-heading  align-center style-1 text-dark \">\\r\\n            <div class=\"heading-inner\">\\r\\n                \\r\\n               <div class=\"sub-title\"><span>LUX - MEA - LEX</span></div>               <h2 class=\"title\"><span>Infolettre de l\\'UCAD</span></h2>            </div>\\r\\n                     </div>\\r\\n         <div class=\"clearfix\"></div>\\r\\n                           </div>  \\n                                  </div>\\n              </div>\\n                          <div  class=\"gsc-column col-lg-4 col-md-4 col-sm-12 col-xs-12\">\\n                <div class=\"column-inner  bg-size-cover \" >\\n                  <div class=\"column-content-inner\">\\n                                <div class=\"widget gsc-video-box  clearfix\">\\r\\n         <div class=\"video-inner\">\\r\\n            <div class=\"image\"><img src=\"https://www.ucad.sn/sites/default/files/3D-Render-Happy-New-Year-Label-08_0.jpg\" alt=\"Vid\\xc3\\xa9o\"/></div>\\r\\n            <div class=\"video-body\">\\r\\n               <a class=\"popup-video gsc-video-link\" href=\"https://www.youtube.com/watch?v=KkmICzTrmsI&t=2043s\">\\r\\n                  <span class=\"icon-play\"><i class=\"fa fa-play space-40\"></i></span>\\r\\n               </a>\\r\\n            </div>\\r\\n         </div>   \\r\\n      </div>   \\r\\n                        </div>  \\n                                  </div>\\n              </div>\\n                          <div  class=\"gsc-column col-lg-4 col-md-4 col-sm-12 col-xs-12\">\\n                <div class=\"column-inner  bg-size-cover \" >\\n                  <div class=\"column-content-inner\">\\n                                <div class=\"widget gsc-video-box  clearfix\">\\r\\n         <div class=\"video-inner\">\\r\\n            <div class=\"image\"><img src=\"https://www.ucad.sn/sites/default/files/Capture%20d%E2%80%99e%CC%81cran%202022-06-15%20a%CC%80%2015.46.39.png\" alt=\"Vid\\xc3\\xa9o\"/></div>\\r\\n            <div class=\"video-body\">\\r\\n               <a class=\"popup-video gsc-video-link\" href=\"https://www.youtube.com/watch?v=3SKiiCzTf4Y\">\\r\\n                  <span class=\"icon-play\"><i class=\"fa fa-play space-40\"></i></span>\\r\\n               </a>\\r\\n            </div>\\r\\n         </div>   \\r\\n      </div>   \\r\\n                        </div>  \\n                                  </div>\\n              </div>\\n                          <div  class=\"gsc-column col-lg-4 col-md-4 col-sm-12 col-xs-12\">\\n                <div class=\"column-inner  bg-size-cover \" >\\n                  <div class=\"column-content-inner\">\\n                                <div class=\"widget gsc-video-box  clearfix\">\\r\\n         <div class=\"video-inner\">\\r\\n            <div class=\"image\"><img src=\"https://www.ucad.sn/sites/default/files/fichierjoints/Capture%20d%E2%80%99e%CC%81cran%202022-05-13%20a%CC%80%2010.23.38.png\" alt=\"Vid\\xc3\\xa9o\"/></div>\\r\\n            <div class=\"video-body\">\\r\\n               <a class=\"popup-video gsc-video-link\" href=\"https://www.youtube.com/watch?v=SPR6jLycinw&t=1s\">\\r\\n                  <span class=\"icon-play\"><i class=\"fa fa-play space-40\"></i></span>\\r\\n               </a>\\r\\n            </div>\\r\\n         </div>   \\r\\n      </div>   \\r\\n                        </div>  \\n                                  </div>\\n              </div>\\n                \\n        </div>\\n      </div>\\n    </div>\\n  </div>  \\n  </div>  \\n</div><div class=\"gbb-row-wrapper\">\\n    <div class=\" gbb-row bg-size-cover\"  style=\"padding-top:30px; padding-bottom:30px\" >\\n    <div class=\"bb-inner remove_padding\">  \\n      <div class=\"bb-container container\">\\n        <div class=\"row\">\\n          <div class=\"row-wrapper clearfix\">\\n                          <div  class=\"gsc-column col-lg-12 col-md-12 col-sm-12 col-xs-12\">\\n                <div class=\"column-inner  bg-size-cover \" >\\n                  <div class=\"column-content-inner\">\\n                    <div><div class=\"widget block gsc-block-view  gsc-block-drupal block-view title-align-left  text-dark remove-margin-off\"><h2 class=\"block-title title-view\"><span>Partenaires</span></h2><div class=\"views-element-container\"><div class=\"text-center gva-view js-view-dom-id-3b81a80effca3e456177cf82e792e017854ab934330de15dec77732c56117691\">\\n  \\n  \\n  \\n\\n  \\n  \\n  \\n\\n  <div class=\"owl-carousel init-carousel-owl\" data-items=\"5\" data-items_lg=\"5\" data-items_md=\"4\" data-items_sm=\"3\" data-items_xs=\"2\" data-loop=\"1\" data-speed=\"200\" data-auto_play=\"1\" data-auto_play_speed=\"1000\" data-auto_play_timeout=\"3000\" data-auto_play_hover=\"1\" data-navigation=\"1\" data-rewind_nav=\"0\" data-pagination=\"0\" data-mouse_drag=\"1\" data-touch_drag=\"1\">\\n   \\n   \\n             <div class=\"item\">\\n            <div class=\"text-center\"><div class=\"views-field views-field-field-image\"><div class=\"field-content\">  <img src=\"/sites/default/files/banner/cameslogo_0.png\" alt=\"CAMES\" typeof=\"foaf:Image\" />\\n\\n</div></div></div>\\n         </div>\\n             <div class=\"item\">\\n            <div class=\"text-center\"><div class=\"views-field views-field-field-image\"><div class=\"field-content\">  <img src=\"/sites/default/files/banner/logoaau.jpg\" alt=\"AAU\" typeof=\"foaf:Image\" />\\n\\n</div></div></div>\\n         </div>\\n             <div class=\"item\">\\n            <div class=\"text-center\"><div class=\"views-field views-field-field-image\"><div class=\"field-content\">  <img src=\"/sites/default/files/banner/auflogo_0.jpg\" alt=\"AUF\" typeof=\"foaf:Image\" />\\n\\n</div></div></div>\\n         </div>\\n             <div class=\"item\">\\n            <div class=\"text-center\"><div class=\"views-field views-field-field-image\"><div class=\"field-content\">  <img src=\"/sites/default/files/banner/resao.jpg\" alt=\"REESAO\" typeof=\"foaf:Image\" />\\n\\n</div></div></div>\\n         </div>\\n             <div class=\"item\">\\n            <div class=\"text-center\"><div class=\"views-field views-field-field-image\"><div class=\"field-content\">  <img src=\"/sites/default/files/banner/logoanaqsup_0.jpg\" alt=\"ANAQSUP\" typeof=\"foaf:Image\" />\\n\\n</div></div></div>\\n         </div>\\n             <div class=\"item\">\\n            <div class=\"text-center\"><div class=\"views-field views-field-field-image\"><div class=\"field-content\">  <img src=\"/sites/default/files/banner/mesri_0.png\" alt=\"MESRI\" typeof=\"foaf:Image\" />\\n\\n</div></div></div>\\n         </div>\\n             <div class=\"item\">\\n            <div class=\"text-center\"><div class=\"views-field views-field-field-image\"><div class=\"field-content\">  <img src=\"/sites/default/files/banner/fondationucad.jpg\" alt=\"Fondation Ucad\" typeof=\"foaf:Image\" />\\n\\n</div></div></div>\\n         </div>\\n    \\n</div>\\n\\n    \\n\\n  \\n  \\n\\n  \\n  \\n</div>\\n</div>\\n</div></div>                  </div>  \\n                                  </div>\\n              </div>\\n                \\n        </div>\\n      </div>\\n    </div>\\n  </div>  \\n  </div>  \\n</div></div>  \\n </div> \\n</div>\\n      \\n    </div>\\n  </article>\\n\\n\\n    </div>\\n  </div>\\n\\n  </div>\\n\\n\\t\\t\\t\\t</div>\\n\\t\\t\\t\\n\\t\\t\\t\\t\\t</div>\\n\\t</div>\\n</div>\\n\\n\\t\\t\\t\\t</div>\\n\\t\\t\\t</div>\\n\\n\\t\\t\\t\\n\\t\\t\\t\\t\\t\\t\\n\\t\\t\\t\\n\\t\\t</div>\\n\\n\\t</div>\\n\\n\\t  \\n<footer id=\"footer\" class=\"footer\">\\n  <div class=\"footer-inner\">\\n    \\n         \\n     <div class=\"footer-center\">\\n        <div class=\"container\">      \\n           <div class=\"row\">\\n                              <div class=\"footer-first col-lg-3 col-md-3 col-sm-12 col-xs-12 column\">\\n                    <div>\\n    <div id=\"block-linkfooter\" class=\"block block-block-content block-block-contentf68ff84d-6af0-4c49-8b85-ae338addc541\">\\n  \\n      <h2 class=\"block-title\" ><span>Liens utiles</span></h2>\\n    \\n      <div class=\"content block-content\">\\n      \\n            <div class=\"field field--name-body field--type-text-with-summary field--label-hidden field__item\"><div class=\"clearfix\">\\n       <ul class=\"menu\">\\n\\t  <li><a href=\"http://www.lecames.org/\"  target=\"_blank\">CAMES</a></li>\\n\\t  <li><a href=\"http://www.aau.org/aau_fr/\"  target=\"_blank\">AUA</a></li>\\n\\t  <li><a href=\"http://www.auf.org/\"  target=\"_blank\">AUF</a></li>\\n\\t  <li><a href=\"#\">REESAO</a></li>\\n\\t  <li><a href=\"http://www.mesr.gouv.sn\"  target=\"_blank\">MESR</a></li>\\n          <li><a href=\"http://www.anaqsup.sn/\"  target=\"_blank\">ANAQ-Sup</a></li>\\n          <li><a href=\"https://www.renaissanceafricaine.com/\" target=\"_blank\">Chaire Renaissance Africaine</a>\\n       </ul>      \\n</div>   </div>\\n      \\n    </div>\\n  </div>\\n\\n  </div>\\n\\n                </div> \\n              \\n                             <div class=\"footer-second col-lg-3 col-md-3 col-sm-12 col-xs-12 column\">\\n                    <div>\\n    <div id=\"block-about\" class=\"block block-block-content block-block-content068797da-eedc-4615-809f-15e99c1256d1\">\\n  \\n      <h2 class=\"block-title\" ><span>Acc\\xc3\\xa8s rapides</span></h2>\\n    \\n      <div class=\"content block-content\">\\n      \\n            <div class=\"field field--name-body field--type-text-with-summary field--label-hidden field__item\"><div class=\"clearfix\">\\n       <ul class=\"menu\">\\n\\t  <li><a href=\"https://outlook.office365.com\" target=\"_blank\">Messagerie</a></li>\\n\\t  <li><a href=\"https://www.bu.ucad.sn\" target=\"_blank\">Biblioth\\xc3\\xa8que universitaire</a></li>\\n          <li><a href=\"http://bibnum.ucad.sn\" target=\"_blank\">Biblioth\\xc3\\xa8que num\\xc3\\xa9rique</a></li>\\n\\t  <li><a href=\"https://fad.ucad.sn/\" target=\"_blank\">Elearning/FAD</a></li>\\n          <li><a href=\"https://recherche.ucad.sn/?q=article/annuaire-des-chercheurs\" target=\"_blank\">Annuaire des chercheurs</a></li>\\n       </ul>      \\n</div></div>\\n      \\n    </div>\\n  </div>\\n\\n  </div>\\n\\n                </div> \\n              \\n                              <div class=\"footer-third col-lg-3 col-md-3 col-sm-12 col-xs-12 column\">\\n                    <div>\\n    <div id=\"block-twitterblock\" class=\"block block-twitter-block\">\\n  \\n      <h2 class=\"block-title\" ><span>Twitter</span></h2>\\n    \\n      <div class=\"content block-content\">\\n      <a href=\"https://twitter.com/ucad_senegal\" class=\"twitter-timeline\" data-theme=\"dark\" data-link-color=\"#fbb122\" data-height=\"200\" data-chrome=\"noheader nofooter noborders noscrollbar transparent\" data-tweet-limit=\"1\" aria-polite=\"polite\">Tweets by @ucad_senegal</a>\\n    </div>\\n  </div>\\n\\n  </div>\\n\\n                </div> \\n              \\n                               <div class=\"footer-four col-lg-3 col-md-3 col-sm-12 col-xs-12 column\">\\n                    <div>\\n    <div id=\"block-contactinfo\" class=\"block block-block-content block-block-content7da38301-272f-4979-8de1-06b564010f17\">\\n  \\n      <h2 class=\"block-title\" ><span>Contact</span></h2>\\n    \\n      <div class=\"content block-content\">\\n      \\n            <div class=\"field field--name-body field--type-text-with-summary field--label-hidden field__item\"><div class=\"contact-info\">\\n    <span class=\"description\">UCAD - Rectorat</span>\\n\\t<ul class=\"contact-info\">\\n\\t\\t<li><span><i class=\"fa fa-home\"></i> B.P. 5005 Dakar-Fann</span> </li\\n\\t\\t<li><a href=\"mailto:rectorat@ucad.edu.sn\"><i class=\"fa fa-envelope-o\"></i> rectorat@ucad.edu.sn</a></li>\\n\\t</ul>\\n</div></div>\\n      \\n    </div>\\n  </div>\\n\\n  </div>\\n\\n                </div> \\n                         </div>   \\n        </div>\\n    </div>  \\n  </div>   \\n\\n      <div class=\"copyright\">\\n      <div class=\"container\">\\n        <div class=\"copyright-inner\">\\n              <div>\\n    <div id=\"block-socialscopyright\" class=\"block block-block-content block-block-contentf1ba2619-fe59-459a-85a3-922d47d5cf96 no-title\">\\n  \\n    \\n      <div class=\"content block-content\">\\n      \\n            <div class=\"field field--name-body field--type-text-with-summary field--label-hidden field__item\"><div class=\"social-border\">\\n    <div class=\"socials\">\\n            <a href=\"https://twitter.com/ucad_senegal\" target=\"_blank\"><i class=\"fa fa-twitter\"></i></a>\\n            <a href=\"https://www.facebook.com/ucad-senegal\" target=\"_blank\"><i class=\"fa fa-facebook\"></i></a>\\n            <a href=\"https://www.youtube.com/channel/UCzcVRpv07-CqSTylEtrLFNw\" target=\"_blank\"><i class=\"fa fa-youtube\"></i></a>\\n            <a href=\"https://instagram.com/ucad_senegal\" target=\"_blank\"><i class=\"fa fa-instagram\"></i></a>\\n            <a href=\"https://www.linkedin.com/company/ucadsenegal\" target=\"_blank\"><i class=\"fa fa-linkedin\"></i></a>\\n    </div>\\n</div></div>\\n      \\n    </div>\\n  </div>\\n<div id=\"block-copyright\" class=\"block block-block-content block-block-content61f17841-749f-436d-9799-1dfeefd7ad43 no-title\">\\n  \\n    \\n      <div class=\"content block-content\">\\n      \\n            <div class=\"field field--name-body field--type-text-with-summary field--label-hidden field__item\"><div class=\"text-center\">\\n\\xc2\\xa9 Copyright <a href=\"https://disi.ucad.sn\" target=\"_blank\">DISI</a>-<a href=\"https://www.ucad.sn\" target=\"_blank\">UCAD</a> D\\xc3\\xa9cembre 2021. Tous droits r\\xc3\\xa9serv\\xc3\\xa9s. \\n</div>\\n</div>\\n      \\n    </div>\\n  </div>\\n\\n  </div>\\n\\n        </div>   \\n      </div>   \\n    </div>\\n   \\n</footer>\\n\\n</div>\\n  </div>\\n\\n      \\n      <script src=\"//platform.twitter.com/widgets.js\" async></script>\\n<script src=\"/sites/default/files/js/js_mNFRtvzfoFo5jH4EhZg-AT-n8zCYFyZl2HmYWXXOoNw.js\"></script>\\n\\n      \\n          </div>\\n  </body>\\n</html>\\n'\n"
     ]
    }
   ],
   "source": [
    "url = \"https://www.ucad.sn\"\n",
    "req = requests.get(url)\n",
    "\n",
    "if(req.status_code == 200):\n",
    "    print(req.content)\n",
    "else:\n",
    "    print(\"not nice\")"
   ]
  },
  {
   "cell_type": "code",
   "execution_count": null,
   "id": "e17eb4e7",
   "metadata": {},
   "outputs": [],
   "source": []
  },
  {
   "cell_type": "code",
   "execution_count": 8,
   "id": "1f39554f",
   "metadata": {},
   "outputs": [
    {
     "ename": "TypeError",
     "evalue": "'NoneType' object is not callable",
     "output_type": "error",
     "traceback": [
      "\u001b[1;31m---------------------------------------------------------------------------\u001b[0m",
      "\u001b[1;31mTypeError\u001b[0m                                 Traceback (most recent call last)",
      "\u001b[1;32m~\\AppData\\Local\\Temp/ipykernel_5356/2323230756.py\u001b[0m in \u001b[0;36m<module>\u001b[1;34m\u001b[0m\n\u001b[0;32m      4\u001b[0m \u001b[1;32mif\u001b[0m\u001b[1;33m(\u001b[0m\u001b[0mreq\u001b[0m\u001b[1;33m.\u001b[0m\u001b[0mstatus_code\u001b[0m \u001b[1;33m==\u001b[0m \u001b[1;36m200\u001b[0m\u001b[1;33m)\u001b[0m\u001b[1;33m:\u001b[0m\u001b[1;33m\u001b[0m\u001b[1;33m\u001b[0m\u001b[0m\n\u001b[0;32m      5\u001b[0m     \u001b[0msoup\u001b[0m \u001b[1;33m=\u001b[0m \u001b[0mBeautifulSoup\u001b[0m\u001b[1;33m(\u001b[0m\u001b[0mreq\u001b[0m\u001b[1;33m.\u001b[0m\u001b[0mcontent\u001b[0m\u001b[1;33m,\u001b[0m \u001b[1;34m'html.parser'\u001b[0m\u001b[1;33m)\u001b[0m\u001b[1;33m\u001b[0m\u001b[1;33m\u001b[0m\u001b[0m\n\u001b[1;32m----> 6\u001b[1;33m     \u001b[0mall_link\u001b[0m\u001b[1;33m=\u001b[0m \u001b[0msoup\u001b[0m\u001b[1;33m.\u001b[0m\u001b[0mfind_alld\u001b[0m\u001b[1;33m(\u001b[0m\u001b[1;34m'a'\u001b[0m\u001b[1;33m)\u001b[0m\u001b[1;33m\u001b[0m\u001b[1;33m\u001b[0m\u001b[0m\n\u001b[0m\u001b[0;32m      7\u001b[0m     \u001b[1;32mfor\u001b[0m \u001b[0mlink\u001b[0m \u001b[1;32min\u001b[0m \u001b[0mall_link\u001b[0m\u001b[1;33m:\u001b[0m\u001b[1;33m\u001b[0m\u001b[1;33m\u001b[0m\u001b[0m\n\u001b[0;32m      8\u001b[0m         \u001b[0mprint\u001b[0m\u001b[1;33m(\u001b[0m\u001b[0mlink\u001b[0m\u001b[1;33m.\u001b[0m\u001b[0mget\u001b[0m\u001b[1;33m(\u001b[0m\u001b[1;34m'href'\u001b[0m\u001b[1;33m)\u001b[0m\u001b[1;33m)\u001b[0m\u001b[1;33m\u001b[0m\u001b[1;33m\u001b[0m\u001b[0m\n",
      "\u001b[1;31mTypeError\u001b[0m: 'NoneType' object is not callable"
     ]
    }
   ],
   "source": [
    "url = \"https://www.ucad.sn\"\n",
    "req = requests.get(url)\n",
    "\n",
    "if(req.status_code == 200):\n",
    "    soup = BeautifulSoup(req.content, 'html.parser')\n",
    "    all_link= soup.find_alld('a')\n",
    "    for link in all_link:\n",
    "        print(link.get('href'))\n",
    "else:\n",
    "    print(\"not nice\")"
   ]
  },
  {
   "cell_type": "code",
   "execution_count": 9,
   "id": "c0a89702",
   "metadata": {},
   "outputs": [
    {
     "name": "stdout",
     "output_type": "stream",
     "text": [
      "https://www.ucad.sn/themes/gavias_zaven/images/preloader/preloader-7.gif\n",
      "/sites/default/files/logo_0.jpg\n",
      "/sites/default/files/gva-sliderlayer-upload/SAM_1225-g7fbm9.jpg\n",
      "/sites/default/files/gva-sliderlayer-upload/SAM_1225.jpguu-apxm3e.jpg\n",
      "/sites/default/files/gva-sliderlayer-upload/colloque-6y0v80.jpg\n",
      "/sites/default/files/gva-sliderlayer-upload/bn-g6u9ee.jpg\n",
      "/sites/default/files/gva-sliderlayer-upload/thumbnail_UCAD-RECTEUR SAM_6819-n9pvet.jpg\n",
      "/sites/default/files/gva-sliderlayer-upload/Pr Fall Président PAUSA 2 Tunis 2022 (1)-awqbpc.JPG\n",
      "/sites/default/files/gva-sliderlayer-upload/bn2 copie-7kxcrz.jpg\n",
      "https://www.ucad.sn/sites/default/files/fondation_1.jpg\n",
      "https://www.ucad.sn/sites/default/files/Coope_1.jpg\n",
      "https://www.ucad.sn/sites/default/files/BU_1.jpg\n",
      "https://www.ucad.sn/sites/default/files/ENT.jpg\n",
      "/sites/default/files/styles/thumbnail/public/services/fastef.jpg?itok=nZkjk2rW\n",
      "/sites/default/files/styles/medium/public/services/fastef.jpg?itok=6zvuYoKu\n",
      "/sites/default/files/styles/thumbnail/public/services/flsh.jpg?itok=S8dgBTwQ\n",
      "/sites/default/files/styles/medium/public/services/flsh.jpg?itok=zCL0jqVR\n",
      "/sites/default/files/styles/thumbnail/public/services/fst.jpg?itok=O8ObyZBR\n",
      "/sites/default/files/styles/medium/public/services/fst.jpg?itok=SydXpDaj\n",
      "/sites/default/files/styles/thumbnail/public/services/fmpos.jpg?itok=DcPHxM0C\n",
      "/sites/default/files/styles/medium/public/services/fmpos.jpg?itok=Pqv35VcC\n",
      "/sites/default/files/styles/thumbnail/public/services/faseg.jpg?itok=HR_nf1Qb\n",
      "/sites/default/files/styles/medium/public/services/faseg.jpg?itok=0VCyBSxv\n",
      "/sites/default/files/styles/thumbnail/public/services/fsjp.jpg?itok=y15HsKIn\n",
      "/sites/default/files/styles/medium/public/services/fsjp.jpg?itok=6n6_n4Or\n",
      "/index.php/sites/default/files/styles/medium/public/articles/IMG_9866%20copie.jpg?itok=-WAZO-mX\n",
      "/sites/default/files/styles/medium/public/articles/Capture%2018.58.58.jpg?itok=jn1o9jov\n",
      "/sites/default/files/styles/medium/public/articles/IMG_9260.jpg?itok=iNTCPE-u\n",
      "/sites/default/files/styles/medium/public/articles/IMG_9316.jpg?itok=13ekJzCI\n",
      "/sites/default/files/styles/medium/public/articles/html-css-collage-concept-with-person.jpg?itok=oUVgVfcd\n",
      "/sites/default/files/styles/medium/public/articles/fr.jpg?itok=R_QsIGZf\n",
      "https://www.ucad.sn/sites/default/files/gbb-uploads/icons/038-internet-2.png\n",
      "https://www.ucad.sn/sites/default/files/gbb-uploads/icons/038-internet-2.png\n",
      "https://www.ucad.sn/sites/default/files/gbb-uploads/icons/108-school.png\n",
      "https://www.ucad.sn/sites/default/files/gbb-uploads/icons/038-internet-2.png\n",
      "https://www.ucad.sn/sites/default/files/gbb-uploads/icons/151-interface-1.png\n",
      "https://www.ucad.sn/sites/default/files/gbb-uploads/icons/167-application.png\n",
      "https://www.ucad.sn/sites/default/files/gbb-uploads/icons/001-search.png\n",
      "https://www.ucad.sn/sites/default/files/gbb-uploads/icons/058-target-2.png\n",
      "https://www.ucad.sn/sites/default/files/gbb-uploads/icons/089-technology-15.png\n",
      "/sites/default/files/styles/medium/public/articles/bourses-etudiant.jpeg?itok=pwYRFho9\n",
      "/sites/default/files/styles/medium/public/articles/14366_big.jpeg?itok=UdWjXLQK\n",
      "/sites/default/files/styles/medium/public/articles/esp-dakar-1430x950-1_0.jpeg?itok=A2QkjWei\n",
      "/sites/default/files/styles/medium/public/articles/te%CC%81le%CC%81chargement.jpeg?itok=SZx4uiA2\n",
      "https://www.ucad.sn/sites/default/files/thumbnail_image.png\n",
      "https://www.ucad.sn/sites/default/files/UCADfm.jpg\n",
      "/sites/default/files/styles/medium/public/2023-02/yvonne.jpg?itok=Qb3pME5Y\n",
      "/sites/default/files/styles/medium/public/2023-01/u%20elle.jpg?itok=FOIObJF3\n",
      "/sites/default/files/styles/medium/public/2022-10/IMG_0437.JPG?itok=rIeVljvX\n",
      "/sites/default/files/styles/medium/public/articles/9783662658987.jpg?itok=x6JmmdQU\n",
      "/sites/default/files/styles/medium/public/articles/Capture%20d%E2%80%99e%CC%81cran%202023-01-10%20a%CC%80%2015.17.02.png?itok=VIhmzy3R\n",
      "/sites/default/files/styles/medium/public/articles/Capture%20d%E2%80%99e%CC%81cran%202022-11-28%20a%CC%80%2020.09.26.png?itok=f5AiT0qN\n",
      "https://www.ucad.sn/sites/default/files/colloqueAMRS.png\n",
      "https://www.ucad.sn/sites/default/files/wascal.png\n",
      "https://www.ucad.sn/sites/default/files/PanelBM.png\n",
      "/sites/default/files/ED/ecoledoctorale2.jpg\n",
      "https://www.ucad.sn/sites/default/files/3D-Render-Happy-New-Year-Label-08_0.jpg\n",
      "https://www.ucad.sn/sites/default/files/Capture%20d%E2%80%99e%CC%81cran%202022-06-15%20a%CC%80%2015.46.39.png\n",
      "https://www.ucad.sn/sites/default/files/fichierjoints/Capture%20d%E2%80%99e%CC%81cran%202022-05-13%20a%CC%80%2010.23.38.png\n",
      "/sites/default/files/banner/cameslogo_0.png\n",
      "/sites/default/files/banner/logoaau.jpg\n",
      "/sites/default/files/banner/auflogo_0.jpg\n",
      "/sites/default/files/banner/resao.jpg\n",
      "/sites/default/files/banner/logoanaqsup_0.jpg\n",
      "/sites/default/files/banner/mesri_0.png\n",
      "/sites/default/files/banner/fondationucad.jpg\n"
     ]
    }
   ],
   "source": [
    "url = \"https://www.ucad.sn\"\n",
    "req = requests.get(url)\n",
    "\n",
    "if(req.status_code==200):\n",
    "    soup = BeautifulSoup(req.content,'html.parser')\n",
    "    all_link = soup.find_all('img')\n",
    "    for link in all_link:\n",
    "        print(link.get(\"src\"))\n",
    "else:\n",
    "    print(\"Not Ok\")"
   ]
  },
  {
   "cell_type": "code",
   "execution_count": null,
   "id": "a715d1b3",
   "metadata": {},
   "outputs": [],
   "source": []
  },
  {
   "cell_type": "code",
   "execution_count": null,
   "id": "e10b215c",
   "metadata": {},
   "outputs": [],
   "source": []
  },
  {
   "cell_type": "code",
   "execution_count": null,
   "id": "deef2752",
   "metadata": {},
   "outputs": [],
   "source": []
  },
  {
   "cell_type": "code",
   "execution_count": null,
   "id": "dcefd8db",
   "metadata": {},
   "outputs": [],
   "source": []
  },
  {
   "cell_type": "code",
   "execution_count": null,
   "id": "fc50ed38",
   "metadata": {},
   "outputs": [],
   "source": []
  },
  {
   "cell_type": "code",
   "execution_count": null,
   "id": "e5768c8e",
   "metadata": {},
   "outputs": [],
   "source": []
  },
  {
   "cell_type": "code",
   "execution_count": 1,
   "id": "e7b3f426",
   "metadata": {},
   "outputs": [],
   "source": [
    "import pandas as pd"
   ]
  },
  {
   "cell_type": "code",
   "execution_count": 2,
   "id": "3e791703",
   "metadata": {},
   "outputs": [
    {
     "data": {
      "text/plain": [
       "0    12\n",
       "1    -4\n",
       "2     9\n",
       "dtype: int64"
      ]
     },
     "execution_count": 2,
     "metadata": {},
     "output_type": "execute_result"
    }
   ],
   "source": [
    "# on vas crer une serie \n",
    "s=pd.Series([12,-4,9])\n",
    "s"
   ]
  },
  {
   "cell_type": "code",
   "execution_count": 4,
   "id": "e4c1df23",
   "metadata": {},
   "outputs": [
    {
     "data": {
      "text/plain": [
       "Dakar      12\n",
       "Kaolack    -4\n",
       "fatick      9\n",
       "dtype: int64"
      ]
     },
     "execution_count": 4,
     "metadata": {},
     "output_type": "execute_result"
    }
   ],
   "source": [
    "# on vas crer une serie \n",
    "s=pd.Series([12,-4,9],index=[\"Dakar\",\"Kaolack\",\"fatick\"])\n",
    "s"
   ]
  },
  {
   "cell_type": "code",
   "execution_count": 11,
   "id": "a38ae7eb",
   "metadata": {},
   "outputs": [],
   "source": [
    "s[\"Kaolack\"]\n",
    "s[1:2]\n",
    "s[\"Kaolack\"]=100"
   ]
  },
  {
   "cell_type": "code",
   "execution_count": 15,
   "id": "fd165dec",
   "metadata": {},
   "outputs": [
    {
     "data": {
      "text/plain": [
       "Kaolack    100\n",
       "dtype: int64"
      ]
     },
     "execution_count": 15,
     "metadata": {},
     "output_type": "execute_result"
    }
   ],
   "source": [
    "s[s>12]\n"
   ]
  },
  {
   "cell_type": "code",
   "execution_count": 16,
   "id": "0135300d",
   "metadata": {},
   "outputs": [
    {
     "data": {
      "text/plain": [
       "Dakar       6.0\n",
       "Kaolack    50.0\n",
       "fatick      4.5\n",
       "dtype: float64"
      ]
     },
     "execution_count": 16,
     "metadata": {},
     "output_type": "execute_result"
    }
   ],
   "source": [
    "s/2"
   ]
  },
  {
   "cell_type": "code",
   "execution_count": 18,
   "id": "b30e881b",
   "metadata": {},
   "outputs": [
    {
     "ename": "NameError",
     "evalue": "name 'a' is not defined",
     "output_type": "error",
     "traceback": [
      "\u001b[1;31m---------------------------------------------------------------------------\u001b[0m",
      "\u001b[1;31mNameError\u001b[0m                                 Traceback (most recent call last)",
      "\u001b[1;32m~\\AppData\\Local\\Temp/ipykernel_9544/4123539200.py\u001b[0m in \u001b[0;36m<module>\u001b[1;34m\u001b[0m\n\u001b[1;32m----> 1\u001b[1;33m \u001b[0ma\u001b[0m\u001b[1;33m.\u001b[0m\u001b[0madd\u001b[0m\u001b[1;33m(\u001b[0m\u001b[1;34m\"a\"\u001b[0m\u001b[1;33m)\u001b[0m\u001b[1;33m\u001b[0m\u001b[1;33m\u001b[0m\u001b[0m\n\u001b[0m",
      "\u001b[1;31mNameError\u001b[0m: name 'a' is not defined"
     ]
    }
   ],
   "source": []
  },
  {
   "cell_type": "code",
   "execution_count": 19,
   "id": "8accf601",
   "metadata": {},
   "outputs": [],
   "source": [
    "a=set()"
   ]
  },
  {
   "cell_type": "code",
   "execution_count": 20,
   "id": "e7990a30",
   "metadata": {},
   "outputs": [],
   "source": [
    "a.add(\"b\")"
   ]
  },
  {
   "cell_type": "code",
   "execution_count": 23,
   "id": "93b81be4",
   "metadata": {},
   "outputs": [],
   "source": [
    "serd=pd.Series([2,3,2,3,12,-4,9],index=[\"a\",\"b\",\"b\",\"Dakar\",\"Kaolack\",\"fatick\",\"a\"])"
   ]
  },
  {
   "cell_type": "code",
   "execution_count": 25,
   "id": "546de110",
   "metadata": {},
   "outputs": [
    {
     "data": {
      "text/plain": [
       "a           2\n",
       "b           3\n",
       "b           2\n",
       "Dakar       3\n",
       "Kaolack    12\n",
       "fatick     -4\n",
       "a           9\n",
       "dtype: int64"
      ]
     },
     "execution_count": 25,
     "metadata": {},
     "output_type": "execute_result"
    }
   ],
   "source": [
    "serd"
   ]
  },
  {
   "cell_type": "code",
   "execution_count": 26,
   "id": "ce42e558",
   "metadata": {},
   "outputs": [
    {
     "data": {
      "text/plain": [
       " 2     2\n",
       " 3     2\n",
       " 12    1\n",
       "-4     1\n",
       " 9     1\n",
       "dtype: int64"
      ]
     },
     "execution_count": 26,
     "metadata": {},
     "output_type": "execute_result"
    }
   ],
   "source": [
    "serd.value_counts()"
   ]
  },
  {
   "cell_type": "code",
   "execution_count": 27,
   "id": "9e210806",
   "metadata": {},
   "outputs": [
    {
     "data": {
      "text/plain": [
       "array([ 2,  3, 12, -4,  9], dtype=int64)"
      ]
     },
     "execution_count": 27,
     "metadata": {},
     "output_type": "execute_result"
    }
   ],
   "source": [
    "serd.unique()"
   ]
  },
  {
   "cell_type": "code",
   "execution_count": 28,
   "id": "e3aa8ccc",
   "metadata": {},
   "outputs": [
    {
     "data": {
      "text/plain": [
       "5"
      ]
     },
     "execution_count": 28,
     "metadata": {},
     "output_type": "execute_result"
    }
   ],
   "source": [
    "len(serd.unique())"
   ]
  },
  {
   "cell_type": "code",
   "execution_count": 32,
   "id": "e9b8c4df",
   "metadata": {},
   "outputs": [
    {
     "data": {
      "text/plain": [
       "a           True\n",
       "b          False\n",
       "b           True\n",
       "Dakar      False\n",
       "Kaolack    False\n",
       "fatick     False\n",
       "a          False\n",
       "dtype: bool"
      ]
     },
     "execution_count": 32,
     "metadata": {},
     "output_type": "execute_result"
    }
   ],
   "source": [
    "# veriier si un element est dispo dans le dataset\n",
    "serd.isin([2])"
   ]
  },
  {
   "cell_type": "code",
   "execution_count": 34,
   "id": "9fc517f8",
   "metadata": {},
   "outputs": [
    {
     "data": {
      "text/plain": [
       "a    2\n",
       "b    2\n",
       "dtype: int64"
      ]
     },
     "execution_count": 34,
     "metadata": {},
     "output_type": "execute_result"
    }
   ],
   "source": [
    "serd[serd.isin([2])]"
   ]
  },
  {
   "cell_type": "code",
   "execution_count": 35,
   "id": "ee917601",
   "metadata": {},
   "outputs": [],
   "source": [
    "import numpy as np"
   ]
  },
  {
   "cell_type": "code",
   "execution_count": 36,
   "id": "075f27ef",
   "metadata": {},
   "outputs": [],
   "source": [
    "s=pd.Series([2,3,np.NaN,8])"
   ]
  },
  {
   "cell_type": "code",
   "execution_count": 37,
   "id": "fbd3bf27",
   "metadata": {},
   "outputs": [
    {
     "data": {
      "text/plain": [
       "0    False\n",
       "1    False\n",
       "2     True\n",
       "3    False\n",
       "dtype: bool"
      ]
     },
     "execution_count": 37,
     "metadata": {},
     "output_type": "execute_result"
    }
   ],
   "source": [
    "s.isnull()"
   ]
  },
  {
   "cell_type": "code",
   "execution_count": 38,
   "id": "c7933acf",
   "metadata": {},
   "outputs": [],
   "source": [
    "mydict = {'red': 2000, 'blue': 1000, 'yellow': 500, 'orange': 1000}"
   ]
  },
  {
   "cell_type": "code",
   "execution_count": null,
   "id": "9d26c62a",
   "metadata": {},
   "outputs": [],
   "source": []
  },
  {
   "cell_type": "code",
   "execution_count": 39,
   "id": "7afd7510",
   "metadata": {},
   "outputs": [],
   "source": [
    "tapSerie=pd.Series(mydict)"
   ]
  },
  {
   "cell_type": "code",
   "execution_count": 41,
   "id": "e02f7074",
   "metadata": {},
   "outputs": [
    {
     "data": {
      "text/plain": [
       "red       2000\n",
       "blue      1000\n",
       "yellow     500\n",
       "orange    1000\n",
       "dtype: int64"
      ]
     },
     "execution_count": 41,
     "metadata": {},
     "output_type": "execute_result"
    }
   ],
   "source": [
    "tapSerie"
   ]
  },
  {
   "cell_type": "code",
   "execution_count": 43,
   "id": "7c8e335d",
   "metadata": {},
   "outputs": [],
   "source": [
    "mydict1 = {'black': 2000, 'blue': 1000, 'yellow': 500, 'orange': 1000}"
   ]
  },
  {
   "cell_type": "code",
   "execution_count": 44,
   "id": "bff8745b",
   "metadata": {},
   "outputs": [],
   "source": [
    "tapSerie1=pd.Series(mydict1)"
   ]
  },
  {
   "cell_type": "code",
   "execution_count": 45,
   "id": "4c234264",
   "metadata": {},
   "outputs": [
    {
     "data": {
      "text/plain": [
       "black        NaN\n",
       "blue      2000.0\n",
       "orange    2000.0\n",
       "red          NaN\n",
       "yellow    1000.0\n",
       "dtype: float64"
      ]
     },
     "execution_count": 45,
     "metadata": {},
     "output_type": "execute_result"
    }
   ],
   "source": [
    "tapSerie1+tapSerie"
   ]
  },
  {
   "cell_type": "code",
   "execution_count": 67,
   "id": "384aa7b1",
   "metadata": {},
   "outputs": [
    {
     "data": {
      "text/plain": [
       "0    a\n",
       "1    b\n",
       "2    c\n",
       "3    d\n",
       "4    f\n",
       "dtype: object"
      ]
     },
     "execution_count": 67,
     "metadata": {},
     "output_type": "execute_result"
    }
   ],
   "source": [
    "s1 =pd.Series([\"a\",\"b\",\"c\",\"d\",\"f\"])\n",
    "s1"
   ]
  },
  {
   "cell_type": "code",
   "execution_count": 57,
   "id": "e19a35b5",
   "metadata": {},
   "outputs": [
    {
     "data": {
      "text/plain": [
       "a    1\n",
       "b    2\n",
       "c    3\n",
       "d    4\n",
       "f    5\n",
       "dtype: int64"
      ]
     },
     "execution_count": 57,
     "metadata": {},
     "output_type": "execute_result"
    }
   ],
   "source": [
    "s2 =pd.Series([1,2,3,4,5],index=([\"a\",\"b\",\"c\",\"d\",\"f\"]))\n",
    "s2"
   ]
  },
  {
   "cell_type": "code",
   "execution_count": 68,
   "id": "86afbb55",
   "metadata": {},
   "outputs": [
    {
     "name": "stdout",
     "output_type": "stream",
     "text": [
      "donnez une valeur entre 0 ,1, 2, 3 ou 4:1\n"
     ]
    },
    {
     "data": {
      "text/plain": [
       "'1'"
      ]
     },
     "execution_count": 68,
     "metadata": {},
     "output_type": "execute_result"
    }
   ],
   "source": [
    "val=input(\"donnez une valeur entre 0 ,1, 2, 3 ou 4:\")\n",
    "val"
   ]
  },
  {
   "cell_type": "code",
   "execution_count": 70,
   "id": "88e080f8",
   "metadata": {},
   "outputs": [
    {
     "data": {
      "text/plain": [
       "'b'"
      ]
     },
     "execution_count": 70,
     "metadata": {},
     "output_type": "execute_result"
    }
   ],
   "source": [
    "s1[int(val)]"
   ]
  },
  {
   "cell_type": "code",
   "execution_count": null,
   "id": "19bee287",
   "metadata": {},
   "outputs": [],
   "source": []
  },
  {
   "cell_type": "code",
   "execution_count": null,
   "id": "b93d0b91",
   "metadata": {},
   "outputs": [],
   "source": []
  },
  {
   "cell_type": "code",
   "execution_count": null,
   "id": "592c523c",
   "metadata": {},
   "outputs": [],
   "source": []
  },
  {
   "cell_type": "code",
   "execution_count": 71,
   "id": "1d14a5af",
   "metadata": {},
   "outputs": [
    {
     "data": {
      "text/plain": [
       "1"
      ]
     },
     "execution_count": 71,
     "metadata": {},
     "output_type": "execute_result"
    }
   ],
   "source": [
    "s2[\"a\"]"
   ]
  },
  {
   "cell_type": "code",
   "execution_count": 61,
   "id": "394f9cce",
   "metadata": {},
   "outputs": [
    {
     "data": {
      "text/plain": [
       "2    3\n",
       "dtype: int64"
      ]
     },
     "execution_count": 61,
     "metadata": {},
     "output_type": "execute_result"
    }
   ],
   "source": [
    "s1[2:3]"
   ]
  },
  {
   "cell_type": "code",
   "execution_count": null,
   "id": "7dca2ca8",
   "metadata": {},
   "outputs": [],
   "source": []
  },
  {
   "cell_type": "code",
   "execution_count": null,
   "id": "e06fcefe",
   "metadata": {},
   "outputs": [],
   "source": []
  },
  {
   "cell_type": "code",
   "execution_count": 72,
   "id": "f2217d6b",
   "metadata": {},
   "outputs": [],
   "source": [
    "data = { 'color' : ['blue','green','yellow','red','white'],\n",
    "'object' : ['ball','pen','pencil','paper','mug'],\n",
    "'price' : [1.2,1.0,0.6,0.9,1.7]}\n",
    "frame = pd.DataFrame(data)\n"
   ]
  },
  {
   "cell_type": "code",
   "execution_count": 73,
   "id": "75feea2e",
   "metadata": {},
   "outputs": [],
   "source": [
    "fram = pd.Series(data)"
   ]
  },
  {
   "cell_type": "code",
   "execution_count": 77,
   "id": "0c595f7a",
   "metadata": {},
   "outputs": [
    {
     "data": {
      "text/plain": [
       "color     [blue, green, yellow, red, white]\n",
       "object      [ball, pen, pencil, paper, mug]\n",
       "price             [1.2, 1.0, 0.6, 0.9, 1.7]\n",
       "dtype: object"
      ]
     },
     "execution_count": 77,
     "metadata": {},
     "output_type": "execute_result"
    }
   ],
   "source": [
    "fram"
   ]
  },
  {
   "cell_type": "code",
   "execution_count": 80,
   "id": "790a7cee",
   "metadata": {},
   "outputs": [
    {
     "data": {
      "text/plain": [
       "[1.2, 1.0, 0.6, 0.9, 1.7]"
      ]
     },
     "execution_count": 80,
     "metadata": {},
     "output_type": "execute_result"
    }
   ],
   "source": [
    "fram['price']"
   ]
  },
  {
   "cell_type": "code",
   "execution_count": 82,
   "id": "88ded32a",
   "metadata": {},
   "outputs": [
    {
     "data": {
      "text/plain": [
       "array([list(['blue', 'green', 'yellow', 'red', 'white']),\n",
       "       list(['ball', 'pen', 'pencil', 'paper', 'mug']),\n",
       "       list([1.2, 1.0, 0.6, 0.9, 1.7])], dtype=object)"
      ]
     },
     "execution_count": 82,
     "metadata": {},
     "output_type": "execute_result"
    }
   ],
   "source": [
    "fram.values"
   ]
  },
  {
   "cell_type": "code",
   "execution_count": 83,
   "id": "f4c4457a",
   "metadata": {},
   "outputs": [],
   "source": [
    "frame3 = pd.DataFrame( np.arange(16).reshape((4,4)) , \n",
    "index= ['red','blue','yellow','white'] , \n",
    "columns=['ball','pen','pencil','paper'] )"
   ]
  },
  {
   "cell_type": "code",
   "execution_count": 89,
   "id": "65410db3",
   "metadata": {},
   "outputs": [
    {
     "data": {
      "text/plain": [
       "ball      0\n",
       "pen       1\n",
       "pencil    2\n",
       "paper     3\n",
       "Name: red, dtype: int32"
      ]
     },
     "execution_count": 89,
     "metadata": {},
     "output_type": "execute_result"
    }
   ],
   "source": [
    "frame3.loc['red']"
   ]
  },
  {
   "cell_type": "code",
   "execution_count": 92,
   "id": "282c12ab",
   "metadata": {},
   "outputs": [
    {
     "data": {
      "text/plain": [
       "ball      4\n",
       "pen       5\n",
       "pencil    6\n",
       "paper     7\n",
       "Name: blue, dtype: int32"
      ]
     },
     "execution_count": 92,
     "metadata": {},
     "output_type": "execute_result"
    }
   ],
   "source": [
    "frame3.iloc[1]"
   ]
  }
 ],
 "metadata": {
  "kernelspec": {
   "display_name": "Python 3 (ipykernel)",
   "language": "python",
   "name": "python3"
  },
  "language_info": {
   "codemirror_mode": {
    "name": "ipython",
    "version": 3
   },
   "file_extension": ".py",
   "mimetype": "text/x-python",
   "name": "python",
   "nbconvert_exporter": "python",
   "pygments_lexer": "ipython3",
   "version": "3.9.7"
  }
 },
 "nbformat": 4,
 "nbformat_minor": 5
}
